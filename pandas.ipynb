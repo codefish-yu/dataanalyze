{
 "cells": [
  {
   "cell_type": "markdown",
   "metadata": {},
   "source": [
    "# 之前的panda基础去博客上去看"
   ]
  },
  {
   "cell_type": "markdown",
   "metadata": {},
   "source": [
    "## series"
   ]
  },
  {
   "cell_type": "markdown",
   "metadata": {},
   "source": [
    "### 创建series对象"
   ]
  },
  {
   "cell_type": "code",
   "execution_count": 1,
   "metadata": {},
   "outputs": [
    {
     "name": "stdout",
     "output_type": "stream",
     "text": [
      "Series([], dtype: float64) <class 'pandas.core.series.Series'>\n"
     ]
    }
   ],
   "source": [
    "import pandas as pd\n",
    "import numpy as np\n",
    "#创建空的series对象\n",
    "s = pd.Series()\n",
    "print(s,type(s))"
   ]
  },
  {
   "cell_type": "code",
   "execution_count": 2,
   "metadata": {},
   "outputs": [
    {
     "name": "stdout",
     "output_type": "stream",
     "text": [
      "0    zs\n",
      "1    ls\n",
      "dtype: object <class 'pandas.core.series.Series'>\n"
     ]
    },
    {
     "data": {
      "text/plain": [
       "0    zs\n",
       "1    ls\n",
       "dtype: object"
      ]
     },
     "execution_count": 2,
     "metadata": {},
     "output_type": "execute_result"
    }
   ],
   "source": [
    "#通过array创建\n",
    "data = np.array(['zs','ls'])\n",
    "s = pd.Series(data)\n",
    "print(s,type(s))\n",
    "s"
   ]
  },
  {
   "cell_type": "code",
   "execution_count": 3,
   "metadata": {},
   "outputs": [
    {
     "data": {
      "text/plain": [
       "a    0\n",
       "b    1\n",
       "c    2\n",
       "dtype: int64"
      ]
     },
     "execution_count": 3,
     "metadata": {},
     "output_type": "execute_result"
    }
   ],
   "source": [
    "#通过字典创建\n",
    "data = {'a':0,'b':1,'c':2}\n",
    "s = pd.Series(data)\n",
    "s"
   ]
  },
  {
   "cell_type": "code",
   "execution_count": 4,
   "metadata": {},
   "outputs": [
    {
     "data": {
      "text/plain": [
       "0    5\n",
       "1    5\n",
       "2    5\n",
       "3    5\n",
       "dtype: int64"
      ]
     },
     "execution_count": 4,
     "metadata": {},
     "output_type": "execute_result"
    }
   ],
   "source": [
    "#从标量创建\n",
    "s = pd.Series(5,index=[0,1,2,3])\n",
    "s"
   ]
  },
  {
   "cell_type": "markdown",
   "metadata": {},
   "source": [
    "## Series查"
   ]
  },
  {
   "cell_type": "code",
   "execution_count": 5,
   "metadata": {},
   "outputs": [
    {
     "data": {
      "text/plain": [
       "1   NaN\n",
       "2   NaN\n",
       "3   NaN\n",
       "dtype: float64"
      ]
     },
     "execution_count": 5,
     "metadata": {},
     "output_type": "execute_result"
    }
   ],
   "source": [
    "### 给Series添加标签\n",
    "data = {'a':0,'b':1,'c':2}\n",
    "s = pd.Series(data,index=[1,2,3])\n",
    "s"
   ]
  },
  {
   "cell_type": "code",
   "execution_count": 6,
   "metadata": {},
   "outputs": [
    {
     "data": {
      "text/plain": [
       "a    1\n",
       "b    2\n",
       "c    3\n",
       "d    4\n",
       "e    5\n",
       "dtype: int64"
      ]
     },
     "execution_count": 6,
     "metadata": {},
     "output_type": "execute_result"
    }
   ],
   "source": [
    "s = pd.Series([1,2,3,4,5],index=['a','b','c','d','e'])\n",
    "s"
   ]
  },
  {
   "cell_type": "code",
   "execution_count": 7,
   "metadata": {},
   "outputs": [
    {
     "data": {
      "text/plain": [
       "1"
      ]
     },
     "execution_count": 7,
     "metadata": {},
     "output_type": "execute_result"
    }
   ],
   "source": [
    "#使用切片索引访问\n",
    "s[0]"
   ]
  },
  {
   "cell_type": "code",
   "execution_count": 8,
   "metadata": {
    "scrolled": true
   },
   "outputs": [
    {
     "name": "stdout",
     "output_type": "stream",
     "text": [
      "1 \n",
      " a    1\n",
      "b    2\n",
      "dtype: int64\n"
     ]
    }
   ],
   "source": [
    "#使用标签访问，标签的底层是使用字典实现的，所以使用字典取值的方式\n",
    "print(s['a'],'\\n',s[['a','b']])"
   ]
  },
  {
   "cell_type": "markdown",
   "metadata": {},
   "source": [
    "## series常用函数"
   ]
  },
  {
   "cell_type": "code",
   "execution_count": 9,
   "metadata": {
    "scrolled": false
   },
   "outputs": [
    {
     "name": "stdout",
     "output_type": "stream",
     "text": [
      "0    z\n",
      "1    l\n",
      "dtype: object <class 'pandas.core.series.Series'>\n"
     ]
    },
    {
     "data": {
      "text/plain": [
       "0    z\n",
       "1    l\n",
       "dtype: object"
      ]
     },
     "execution_count": 9,
     "metadata": {},
     "output_type": "execute_result"
    }
   ],
   "source": [
    "#str[0]查看首字符\n",
    "data = np.array(['zs','ls'])\n",
    "s = pd.Series(data)\n",
    "print(s.str[0],type(s))\n",
    "s.str[0]"
   ]
  },
  {
   "cell_type": "markdown",
   "metadata": {},
   "source": [
    "apply(obj,axis=1)\n",
    "功能：创建series"
   ]
  },
  {
   "cell_type": "markdown",
   "metadata": {},
   "source": [
    "### pandas处理日期时间(基于series)"
   ]
  },
  {
   "cell_type": "code",
   "execution_count": 7,
   "metadata": {},
   "outputs": [
    {
     "data": {
      "text/plain": [
       "0   2019-01-01\n",
       "1   2019-02-01\n",
       "dtype: datetime64[ns]"
      ]
     },
     "execution_count": 7,
     "metadata": {},
     "output_type": "execute_result"
    }
   ],
   "source": [
    "import numpy as np\n",
    "import pandas as pd\n",
    "\n",
    "#处理pandas不能识别的日期格式,将其转化为datetime64格式\n",
    "date = np.array(['2019年1月','2019年2月'])\n",
    "date = pd.Series(date)\n",
    "dates = pd.to_datetime(date,format='%Y年%m月',errors='coerce')\n",
    "dates"
   ]
  },
  {
   "cell_type": "code",
   "execution_count": 8,
   "metadata": {},
   "outputs": [],
   "source": [
    "import pandas as pd\n",
    "# pandas可以识别的日期字符串格式\n",
    "dates = pd.Series(['2011', \n",
    "                   '2011-02', \n",
    "                   '2011-03-01', \n",
    "                   '2011/04/01', \n",
    "                   '2011/05/01 01:01:01', \n",
    "                   '01 Jun 2011']\n",
    "                 )"
   ]
  },
  {
   "cell_type": "code",
   "execution_count": 9,
   "metadata": {
    "scrolled": true
   },
   "outputs": [
    {
     "name": "stdout",
     "output_type": "stream",
     "text": [
      "0   2011-01-01 00:00:00\n",
      "1   2011-02-01 00:00:00\n",
      "2   2011-03-01 00:00:00\n",
      "3   2011-04-01 00:00:00\n",
      "4   2011-05-01 01:01:01\n",
      "5   2011-06-01 00:00:00\n",
      "dtype: datetime64[ns] datetime64[ns] <class 'pandas.core.series.Series'>\n"
     ]
    }
   ],
   "source": [
    "# to_datetime() 转换日期数据格式\n",
    "dates = pd.to_datetime(dates)\n",
    "print(dates, dates.dtype, type(dates))"
   ]
  },
  {
   "cell_type": "code",
   "execution_count": 10,
   "metadata": {
    "scrolled": false
   },
   "outputs": [
    {
     "name": "stdout",
     "output_type": "stream",
     "text": [
      "DatetimeIndex(['2011-01-01 00:00:00', '2011-02-01 00:00:00',\n",
      "               '2011-03-01 00:00:00', '2011-04-01 00:00:00',\n",
      "               '2011-05-01 01:01:01', '2011-06-01 00:00:00'],\n",
      "              dtype='datetime64[ns]', freq=None) datetime64[ns] <class 'pandas.core.indexes.datetimes.DatetimeIndex'>\n"
     ]
    }
   ],
   "source": [
    "#DatetimeIndex()转换日期格式,可以很方便的获取年月日时分秒\n",
    "dates = pd.DatetimeIndex(dates)\n",
    "print(dates,dates.dtype,type(dates))"
   ]
  },
  {
   "cell_type": "code",
   "execution_count": 11,
   "metadata": {},
   "outputs": [
    {
     "data": {
      "text/plain": [
       "Int64Index([1, 1, 1, 1, 1, 1], dtype='int64')"
      ]
     },
     "execution_count": 11,
     "metadata": {},
     "output_type": "execute_result"
    }
   ],
   "source": [
    "#使用.大法从DatetimeIndex()转换后的数据中取出数据\n",
    "day = dates.day\n",
    "day"
   ]
  },
  {
   "cell_type": "code",
   "execution_count": 14,
   "metadata": {},
   "outputs": [
    {
     "data": {
      "text/plain": [
       "array([datetime.date(2011, 1, 1), datetime.date(2011, 2, 1),\n",
       "       datetime.date(2011, 3, 1), datetime.date(2011, 4, 1),\n",
       "       datetime.date(2011, 5, 1), datetime.date(2011, 6, 1)], dtype=object)"
      ]
     },
     "execution_count": 14,
     "metadata": {},
     "output_type": "execute_result"
    }
   ],
   "source": [
    "#提取日期\n",
    "date = dates.date\n",
    "date"
   ]
  },
  {
   "cell_type": "code",
   "execution_count": 14,
   "metadata": {},
   "outputs": [
    {
     "data": {
      "text/plain": [
       "Int64Index([0, 0, 0, 0, 1, 0], dtype='int64')"
      ]
     },
     "execution_count": 14,
     "metadata": {},
     "output_type": "execute_result"
    }
   ],
   "source": [
    "hour = dates.hour\n",
    "hour"
   ]
  },
  {
   "cell_type": "code",
   "execution_count": 15,
   "metadata": {
    "scrolled": false
   },
   "outputs": [
    {
     "ename": "AttributeError",
     "evalue": "'TimedeltaIndex' object has no attribute 'dt'",
     "output_type": "error",
     "traceback": [
      "\u001b[0;31m------------------------------------------------------------------\u001b[0m",
      "\u001b[0;31mAttributeError\u001b[0m                   Traceback (most recent call last)",
      "\u001b[0;32m<ipython-input-15-2394ebe1944a>\u001b[0m in \u001b[0;36m<module>\u001b[0;34m()\u001b[0m\n\u001b[1;32m      2\u001b[0m \u001b[0mdelta\u001b[0m \u001b[0;34m=\u001b[0m \u001b[0mdates\u001b[0m \u001b[0;34m-\u001b[0m \u001b[0mpd\u001b[0m\u001b[0;34m.\u001b[0m\u001b[0mto_datetime\u001b[0m\u001b[0;34m(\u001b[0m\u001b[0;34m'1970-01-01'\u001b[0m\u001b[0;34m)\u001b[0m\u001b[0;34m\u001b[0m\u001b[0;34m\u001b[0m\u001b[0m\n\u001b[1;32m      3\u001b[0m \u001b[0;31m# 获取天数数值\u001b[0m\u001b[0;34m\u001b[0m\u001b[0;34m\u001b[0m\u001b[0;34m\u001b[0m\u001b[0m\n\u001b[0;32m----> 4\u001b[0;31m \u001b[0mprint\u001b[0m\u001b[0;34m(\u001b[0m\u001b[0mdelta\u001b[0m\u001b[0;34m.\u001b[0m\u001b[0mdt\u001b[0m\u001b[0;34m.\u001b[0m\u001b[0mdays\u001b[0m\u001b[0;34m)\u001b[0m\u001b[0;34m\u001b[0m\u001b[0;34m\u001b[0m\u001b[0m\n\u001b[0m",
      "\u001b[0;31mAttributeError\u001b[0m: 'TimedeltaIndex' object has no attribute 'dt'"
     ]
    }
   ],
   "source": [
    "# datetime类型数据支持日期运算\n",
    "delta = dates - pd.to_datetime('1970-01-01')\n",
    "# 获取天数数值\n",
    "print(delta.dt.days)"
   ]
  },
  {
   "cell_type": "markdown",
   "metadata": {},
   "source": [
    "series提供了很多时间相关的操作\n",
    "Series.dt.year\tThe year of the datetime.\n",
    "Series.dt.month\tThe month as January=1, December=12.\n",
    "Series.dt.day\tThe days of the datetime.\n",
    "Series.dt.hour\tThe hours of the datetime.\n",
    "Series.dt.minute\tThe minutes of the datetime.\n",
    "Series.dt.second\tThe seconds of the datetime.\n",
    "Series.dt.microsecond\tThe microseconds of the datetime.\n",
    "Series.dt.week\tThe week ordinal of the year.\n",
    "Series.dt.weekofyear\tThe week ordinal of the year.\n",
    "Series.dt.dayofweek\tThe day of the week with Monday=0, Sunday=6.\n",
    "Series.dt.weekday\tThe day of the week with Monday=0, Sunday=6.\n",
    "Series.dt.dayofyear\tThe ordinal day of the year.\n",
    "Series.dt.quarter\tThe quarter of the date.\n",
    "Series.dt.is_month_start\tIndicates whether the date is the first day of the month.\n",
    "Series.dt.is_month_end\tIndicates whether the date is the last day of the month.\n",
    "Series.dt.is_quarter_start\tIndicator for whether the date is the first day of a quarter.\n",
    "Series.dt.is_quarter_end\tIndicator for whether the date is the last day of a quarter.\n",
    "Series.dt.is_year_start\tIndicate whether the date is the first day of a year.\n",
    "Series.dt.is_year_end\tIndicate whether the date is the last day of the year.\n",
    "Series.dt.is_leap_year\tBoolean indicator if the date belongs to a leap year.\n",
    "Series.dt.days_in_month\tThe number of days in the month."
   ]
  },
  {
   "cell_type": "markdown",
   "metadata": {},
   "source": [
    "## DataFrame"
   ]
  },
  {
   "cell_type": "markdown",
   "metadata": {},
   "source": [
    "### 创建dataframe"
   ]
  },
  {
   "cell_type": "code",
   "execution_count": 14,
   "metadata": {},
   "outputs": [
    {
     "data": {
      "text/html": [
       "<div>\n",
       "<style scoped>\n",
       "    .dataframe tbody tr th:only-of-type {\n",
       "        vertical-align: middle;\n",
       "    }\n",
       "\n",
       "    .dataframe tbody tr th {\n",
       "        vertical-align: top;\n",
       "    }\n",
       "\n",
       "    .dataframe thead th {\n",
       "        text-align: right;\n",
       "    }\n",
       "</style>\n",
       "<table border=\"1\" class=\"dataframe\">\n",
       "  <thead>\n",
       "    <tr style=\"text-align: right;\">\n",
       "      <th></th>\n",
       "    </tr>\n",
       "  </thead>\n",
       "  <tbody>\n",
       "  </tbody>\n",
       "</table>\n",
       "</div>"
      ],
      "text/plain": [
       "Empty DataFrame\n",
       "Columns: []\n",
       "Index: []"
      ]
     },
     "execution_count": 14,
     "metadata": {},
     "output_type": "execute_result"
    }
   ],
   "source": [
    "#1. 创建空的dataframe\n",
    "df = pd.DataFrame()\n",
    "df"
   ]
  },
  {
   "cell_type": "code",
   "execution_count": 15,
   "metadata": {},
   "outputs": [
    {
     "data": {
      "text/html": [
       "<div>\n",
       "<style scoped>\n",
       "    .dataframe tbody tr th:only-of-type {\n",
       "        vertical-align: middle;\n",
       "    }\n",
       "\n",
       "    .dataframe tbody tr th {\n",
       "        vertical-align: top;\n",
       "    }\n",
       "\n",
       "    .dataframe thead th {\n",
       "        text-align: right;\n",
       "    }\n",
       "</style>\n",
       "<table border=\"1\" class=\"dataframe\">\n",
       "  <thead>\n",
       "    <tr style=\"text-align: right;\">\n",
       "      <th></th>\n",
       "      <th>0</th>\n",
       "    </tr>\n",
       "  </thead>\n",
       "  <tbody>\n",
       "    <tr>\n",
       "      <th>0</th>\n",
       "      <td>1</td>\n",
       "    </tr>\n",
       "    <tr>\n",
       "      <th>1</th>\n",
       "      <td>2</td>\n",
       "    </tr>\n",
       "    <tr>\n",
       "      <th>2</th>\n",
       "      <td>34</td>\n",
       "    </tr>\n",
       "    <tr>\n",
       "      <th>3</th>\n",
       "      <td>4</td>\n",
       "    </tr>\n",
       "    <tr>\n",
       "      <th>4</th>\n",
       "      <td>5</td>\n",
       "    </tr>\n",
       "  </tbody>\n",
       "</table>\n",
       "</div>"
      ],
      "text/plain": [
       "    0\n",
       "0   1\n",
       "1   2\n",
       "2  34\n",
       "3   4\n",
       "4   5"
      ]
     },
     "execution_count": 15,
     "metadata": {},
     "output_type": "execute_result"
    }
   ],
   "source": [
    "#2.通过列表创建\n",
    "data = [1,2,34,4,5]\n",
    "df = pd.DataFrame(data)\n",
    "df"
   ]
  },
  {
   "cell_type": "code",
   "execution_count": 16,
   "metadata": {},
   "outputs": [
    {
     "data": {
      "text/html": [
       "<div>\n",
       "<style scoped>\n",
       "    .dataframe tbody tr th:only-of-type {\n",
       "        vertical-align: middle;\n",
       "    }\n",
       "\n",
       "    .dataframe tbody tr th {\n",
       "        vertical-align: top;\n",
       "    }\n",
       "\n",
       "    .dataframe thead th {\n",
       "        text-align: right;\n",
       "    }\n",
       "</style>\n",
       "<table border=\"1\" class=\"dataframe\">\n",
       "  <thead>\n",
       "    <tr style=\"text-align: right;\">\n",
       "      <th></th>\n",
       "      <th>name</th>\n",
       "      <th>age</th>\n",
       "    </tr>\n",
       "  </thead>\n",
       "  <tbody>\n",
       "    <tr>\n",
       "      <th>0</th>\n",
       "      <td>Alex</td>\n",
       "      <td>10.0</td>\n",
       "    </tr>\n",
       "    <tr>\n",
       "      <th>1</th>\n",
       "      <td>Bob</td>\n",
       "      <td>12.0</td>\n",
       "    </tr>\n",
       "    <tr>\n",
       "      <th>2</th>\n",
       "      <td>Clark</td>\n",
       "      <td>13.0</td>\n",
       "    </tr>\n",
       "  </tbody>\n",
       "</table>\n",
       "</div>"
      ],
      "text/plain": [
       "    name   age\n",
       "0   Alex  10.0\n",
       "1    Bob  12.0\n",
       "2  Clark  13.0"
      ]
     },
     "execution_count": 16,
     "metadata": {},
     "output_type": "execute_result"
    }
   ],
   "source": [
    "data = [['Alex',10],\n",
    "        ['Bob',12],\n",
    "        ['Clark',13]\n",
    "       ]\n",
    "f = pd.DataFrame(data,columns=['name','age'],dtype=float)\n",
    "f"
   ]
  },
  {
   "cell_type": "code",
   "execution_count": 17,
   "metadata": {
    "scrolled": true
   },
   "outputs": [
    {
     "data": {
      "text/html": [
       "<div>\n",
       "<style scoped>\n",
       "    .dataframe tbody tr th:only-of-type {\n",
       "        vertical-align: middle;\n",
       "    }\n",
       "\n",
       "    .dataframe tbody tr th {\n",
       "        vertical-align: top;\n",
       "    }\n",
       "\n",
       "    .dataframe thead th {\n",
       "        text-align: right;\n",
       "    }\n",
       "</style>\n",
       "<table border=\"1\" class=\"dataframe\">\n",
       "  <thead>\n",
       "    <tr style=\"text-align: right;\">\n",
       "      <th></th>\n",
       "      <th>a</th>\n",
       "      <th>b</th>\n",
       "      <th>c</th>\n",
       "    </tr>\n",
       "  </thead>\n",
       "  <tbody>\n",
       "    <tr>\n",
       "      <th>0</th>\n",
       "      <td>1</td>\n",
       "      <td>2</td>\n",
       "      <td>NaN</td>\n",
       "    </tr>\n",
       "    <tr>\n",
       "      <th>1</th>\n",
       "      <td>5</td>\n",
       "      <td>10</td>\n",
       "      <td>20.0</td>\n",
       "    </tr>\n",
       "  </tbody>\n",
       "</table>\n",
       "</div>"
      ],
      "text/plain": [
       "   a   b     c\n",
       "0  1   2   NaN\n",
       "1  5  10  20.0"
      ]
     },
     "execution_count": 17,
     "metadata": {},
     "output_type": "execute_result"
    }
   ],
   "source": [
    "#通过字典创建dataframe\n",
    "data = [{'a':1,'b':2},\n",
    "        {'a':5,'b':10,'c':20}]\n",
    "df = pd.DataFrame(data)\n",
    "df"
   ]
  },
  {
   "cell_type": "code",
   "execution_count": 18,
   "metadata": {},
   "outputs": [
    {
     "data": {
      "text/html": [
       "<div>\n",
       "<style scoped>\n",
       "    .dataframe tbody tr th:only-of-type {\n",
       "        vertical-align: middle;\n",
       "    }\n",
       "\n",
       "    .dataframe tbody tr th {\n",
       "        vertical-align: top;\n",
       "    }\n",
       "\n",
       "    .dataframe thead th {\n",
       "        text-align: right;\n",
       "    }\n",
       "</style>\n",
       "<table border=\"1\" class=\"dataframe\">\n",
       "  <thead>\n",
       "    <tr style=\"text-align: right;\">\n",
       "      <th></th>\n",
       "      <th>Name</th>\n",
       "      <th>Age</th>\n",
       "    </tr>\n",
       "  </thead>\n",
       "  <tbody>\n",
       "    <tr>\n",
       "      <th>s1</th>\n",
       "      <td>Tom</td>\n",
       "      <td>28</td>\n",
       "    </tr>\n",
       "    <tr>\n",
       "      <th>s2</th>\n",
       "      <td>Jack</td>\n",
       "      <td>34</td>\n",
       "    </tr>\n",
       "    <tr>\n",
       "      <th>s3</th>\n",
       "      <td>Steve</td>\n",
       "      <td>29</td>\n",
       "    </tr>\n",
       "    <tr>\n",
       "      <th>s4</th>\n",
       "      <td>Ricky</td>\n",
       "      <td>42</td>\n",
       "    </tr>\n",
       "  </tbody>\n",
       "</table>\n",
       "</div>"
      ],
      "text/plain": [
       "     Name  Age\n",
       "s1    Tom   28\n",
       "s2   Jack   34\n",
       "s3  Steve   29\n",
       "s4  Ricky   42"
      ]
     },
     "execution_count": 18,
     "metadata": {},
     "output_type": "execute_result"
    }
   ],
   "source": [
    "data = {'Name':['Tom','Jack','Steve','Ricky'],'Age':[28,34,29,42]}\n",
    "df = pd.DataFrame(data,index=['s1','s2','s3','s4'])\n",
    "df"
   ]
  },
  {
   "cell_type": "code",
   "execution_count": 19,
   "metadata": {},
   "outputs": [
    {
     "data": {
      "text/html": [
       "<div>\n",
       "<style scoped>\n",
       "    .dataframe tbody tr th:only-of-type {\n",
       "        vertical-align: middle;\n",
       "    }\n",
       "\n",
       "    .dataframe tbody tr th {\n",
       "        vertical-align: top;\n",
       "    }\n",
       "\n",
       "    .dataframe thead th {\n",
       "        text-align: right;\n",
       "    }\n",
       "</style>\n",
       "<table border=\"1\" class=\"dataframe\">\n",
       "  <thead>\n",
       "    <tr style=\"text-align: right;\">\n",
       "      <th></th>\n",
       "      <th>one</th>\n",
       "      <th>Age</th>\n",
       "    </tr>\n",
       "  </thead>\n",
       "  <tbody>\n",
       "    <tr>\n",
       "      <th>s1</th>\n",
       "      <td>Tom</td>\n",
       "      <td>28</td>\n",
       "    </tr>\n",
       "    <tr>\n",
       "      <th>s2</th>\n",
       "      <td>Jack</td>\n",
       "      <td>34</td>\n",
       "    </tr>\n",
       "    <tr>\n",
       "      <th>s3</th>\n",
       "      <td>Steve</td>\n",
       "      <td>29</td>\n",
       "    </tr>\n",
       "    <tr>\n",
       "      <th>s4</th>\n",
       "      <td>Ricky</td>\n",
       "      <td>42</td>\n",
       "    </tr>\n",
       "  </tbody>\n",
       "</table>\n",
       "</div>"
      ],
      "text/plain": [
       "      one  Age\n",
       "s1    Tom   28\n",
       "s2   Jack   34\n",
       "s3  Steve   29\n",
       "s4  Ricky   42"
      ]
     },
     "execution_count": 19,
     "metadata": {},
     "output_type": "execute_result"
    }
   ],
   "source": [
    "#通过series创建df\n",
    "data = {'one':['Tom','Jack','Steve','Ricky'],'Age':[28,34,29,42]}\n",
    "df = pd.DataFrame(data,index=['s1','s2','s3','s4'])\n",
    "df"
   ]
  },
  {
   "cell_type": "code",
   "execution_count": null,
   "metadata": {},
   "outputs": [],
   "source": [
    "#使用apply()创建\n",
    "df = df.apply(lambda x: x[3] * x[5].axis=1)"
   ]
  },
  {
   "cell_type": "markdown",
   "metadata": {},
   "source": [
    "### 常用函数"
   ]
  },
  {
   "cell_type": "markdown",
   "metadata": {},
   "source": [
    "1. 设定索引\n",
    "set_index('将该字段设为索引的字段名',inplace=True)\n",
    "参数：想要将该列设为索引，就写这列的字段名,inplace=True表示在原dataframe进行设置"
   ]
  },
  {
   "cell_type": "markdown",
   "metadata": {},
   "source": [
    "2. pandas.concat(obj,axis=0,join='outer',ignore_index=False)\n",
    "\n",
    "使用场景：批量合并相同格式的excel,给dataframe添加行，列\n",
    "\n",
    "参数\n",
    "   1. obj:一个列表，里面放需要合并的dataframe或者series\n",
    "   2. axis默认按行合并，=1代表按列合并\n",
    "   3. join:合并的时候索引的对齐方式，默认是outer join,也可以是inner join\n",
    "   4. ignore_index:是否忽略掉原来的数据索引"
   ]
  },
  {
   "cell_type": "markdown",
   "metadata": {},
   "source": [
    "3. append:dataframe.append(other,ignore_index=False)\n",
    "\n",
    "功能:按行合并，相当于concat()的按行合并\n",
    "\n",
    "参数:\n",
    "1. other:单个dataframe,series,dict,或者列表\n",
    "2. ignore_index:是否忽略原来的数据索引"
   ]
  },
  {
   "cell_type": "markdown",
   "metadata": {},
   "source": [
    "### 查"
   ]
  },
  {
   "cell_type": "markdown",
   "metadata": {},
   "source": [
    "五种方法\n",
    "1. df.loc,根据行，列的标签值查询\n",
    "2. df.iloc,根据行，列的数字位置查询\n",
    "3. df.where,根据行，列的数字位置查询\n",
    "4. df.query,既能查询数据，又能同时进行覆盖写入，强大，用的多\n",
    "5. 使用字典键索引的方式查列"
   ]
  },
  {
   "cell_type": "code",
   "execution_count": 21,
   "metadata": {
    "scrolled": true
   },
   "outputs": [],
   "source": [
    "import pandas as pd\n",
    "#获取数据\n",
    "df = pd.read_csv('/home/tarena/dataanalyze/mayipandas_files/datas/beijing_tianqi/beijing_tianqi_2018.csv')"
   ]
  },
  {
   "cell_type": "code",
   "execution_count": 22,
   "metadata": {
    "scrolled": true
   },
   "outputs": [
    {
     "data": {
      "text/html": [
       "<div>\n",
       "<style scoped>\n",
       "    .dataframe tbody tr th:only-of-type {\n",
       "        vertical-align: middle;\n",
       "    }\n",
       "\n",
       "    .dataframe tbody tr th {\n",
       "        vertical-align: top;\n",
       "    }\n",
       "\n",
       "    .dataframe thead th {\n",
       "        text-align: right;\n",
       "    }\n",
       "</style>\n",
       "<table border=\"1\" class=\"dataframe\">\n",
       "  <thead>\n",
       "    <tr style=\"text-align: right;\">\n",
       "      <th></th>\n",
       "      <th>ymd</th>\n",
       "      <th>bWendu</th>\n",
       "      <th>yWendu</th>\n",
       "      <th>tianqi</th>\n",
       "      <th>fengxiang</th>\n",
       "      <th>fengli</th>\n",
       "      <th>aqi</th>\n",
       "      <th>aqiInfo</th>\n",
       "      <th>aqiLevel</th>\n",
       "    </tr>\n",
       "  </thead>\n",
       "  <tbody>\n",
       "    <tr>\n",
       "      <th>0</th>\n",
       "      <td>2018-01-01</td>\n",
       "      <td>3℃</td>\n",
       "      <td>-6℃</td>\n",
       "      <td>晴~多云</td>\n",
       "      <td>东北风</td>\n",
       "      <td>1-2级</td>\n",
       "      <td>59</td>\n",
       "      <td>良</td>\n",
       "      <td>2</td>\n",
       "    </tr>\n",
       "    <tr>\n",
       "      <th>1</th>\n",
       "      <td>2018-01-02</td>\n",
       "      <td>2℃</td>\n",
       "      <td>-5℃</td>\n",
       "      <td>阴~多云</td>\n",
       "      <td>东北风</td>\n",
       "      <td>1-2级</td>\n",
       "      <td>49</td>\n",
       "      <td>优</td>\n",
       "      <td>1</td>\n",
       "    </tr>\n",
       "    <tr>\n",
       "      <th>2</th>\n",
       "      <td>2018-01-03</td>\n",
       "      <td>2℃</td>\n",
       "      <td>-5℃</td>\n",
       "      <td>多云</td>\n",
       "      <td>北风</td>\n",
       "      <td>1-2级</td>\n",
       "      <td>28</td>\n",
       "      <td>优</td>\n",
       "      <td>1</td>\n",
       "    </tr>\n",
       "    <tr>\n",
       "      <th>3</th>\n",
       "      <td>2018-01-04</td>\n",
       "      <td>0℃</td>\n",
       "      <td>-8℃</td>\n",
       "      <td>阴</td>\n",
       "      <td>东北风</td>\n",
       "      <td>1-2级</td>\n",
       "      <td>28</td>\n",
       "      <td>优</td>\n",
       "      <td>1</td>\n",
       "    </tr>\n",
       "    <tr>\n",
       "      <th>4</th>\n",
       "      <td>2018-01-05</td>\n",
       "      <td>3℃</td>\n",
       "      <td>-6℃</td>\n",
       "      <td>多云~晴</td>\n",
       "      <td>西北风</td>\n",
       "      <td>1-2级</td>\n",
       "      <td>50</td>\n",
       "      <td>优</td>\n",
       "      <td>1</td>\n",
       "    </tr>\n",
       "  </tbody>\n",
       "</table>\n",
       "</div>"
      ],
      "text/plain": [
       "          ymd bWendu yWendu tianqi fengxiang fengli  aqi aqiInfo  aqiLevel\n",
       "0  2018-01-01     3℃    -6℃   晴~多云       东北风   1-2级   59       良         2\n",
       "1  2018-01-02     2℃    -5℃   阴~多云       东北风   1-2级   49       优         1\n",
       "2  2018-01-03     2℃    -5℃     多云        北风   1-2级   28       优         1\n",
       "3  2018-01-04     0℃    -8℃      阴       东北风   1-2级   28       优         1\n",
       "4  2018-01-05     3℃    -6℃   多云~晴       西北风   1-2级   50       优         1"
      ]
     },
     "execution_count": 22,
     "metadata": {},
     "output_type": "execute_result"
    }
   ],
   "source": [
    "df.head()"
   ]
  },
  {
   "cell_type": "code",
   "execution_count": 23,
   "metadata": {
    "scrolled": true
   },
   "outputs": [
    {
     "data": {
      "text/plain": [
       "Index(['2018-01-01', '2018-01-02', '2018-01-03', '2018-01-04', '2018-01-05',\n",
       "       '2018-01-06', '2018-01-07', '2018-01-08', '2018-01-09', '2018-01-10',\n",
       "       ...\n",
       "       '2018-12-22', '2018-12-23', '2018-12-24', '2018-12-25', '2018-12-26',\n",
       "       '2018-12-27', '2018-12-28', '2018-12-29', '2018-12-30', '2018-12-31'],\n",
       "      dtype='object', name='ymd', length=365)"
      ]
     },
     "execution_count": 23,
     "metadata": {},
     "output_type": "execute_result"
    }
   ],
   "source": [
    "#设定行级索引为日期，方便按日期筛选\n",
    "df.set_index('ymd',inplace=True)\n",
    "#查看行级索引\n",
    "df.index"
   ]
  },
  {
   "cell_type": "code",
   "execution_count": 24,
   "metadata": {
    "scrolled": true
   },
   "outputs": [
    {
     "data": {
      "text/html": [
       "<div>\n",
       "<style scoped>\n",
       "    .dataframe tbody tr th:only-of-type {\n",
       "        vertical-align: middle;\n",
       "    }\n",
       "\n",
       "    .dataframe tbody tr th {\n",
       "        vertical-align: top;\n",
       "    }\n",
       "\n",
       "    .dataframe thead th {\n",
       "        text-align: right;\n",
       "    }\n",
       "</style>\n",
       "<table border=\"1\" class=\"dataframe\">\n",
       "  <thead>\n",
       "    <tr style=\"text-align: right;\">\n",
       "      <th></th>\n",
       "      <th>bWendu</th>\n",
       "      <th>yWendu</th>\n",
       "      <th>tianqi</th>\n",
       "      <th>fengxiang</th>\n",
       "      <th>fengli</th>\n",
       "      <th>aqi</th>\n",
       "      <th>aqiInfo</th>\n",
       "      <th>aqiLevel</th>\n",
       "    </tr>\n",
       "    <tr>\n",
       "      <th>ymd</th>\n",
       "      <th></th>\n",
       "      <th></th>\n",
       "      <th></th>\n",
       "      <th></th>\n",
       "      <th></th>\n",
       "      <th></th>\n",
       "      <th></th>\n",
       "      <th></th>\n",
       "    </tr>\n",
       "  </thead>\n",
       "  <tbody>\n",
       "    <tr>\n",
       "      <th>2018-01-01</th>\n",
       "      <td>3℃</td>\n",
       "      <td>-6℃</td>\n",
       "      <td>晴~多云</td>\n",
       "      <td>东北风</td>\n",
       "      <td>1-2级</td>\n",
       "      <td>59</td>\n",
       "      <td>良</td>\n",
       "      <td>2</td>\n",
       "    </tr>\n",
       "    <tr>\n",
       "      <th>2018-01-02</th>\n",
       "      <td>2℃</td>\n",
       "      <td>-5℃</td>\n",
       "      <td>阴~多云</td>\n",
       "      <td>东北风</td>\n",
       "      <td>1-2级</td>\n",
       "      <td>49</td>\n",
       "      <td>优</td>\n",
       "      <td>1</td>\n",
       "    </tr>\n",
       "    <tr>\n",
       "      <th>2018-01-03</th>\n",
       "      <td>2℃</td>\n",
       "      <td>-5℃</td>\n",
       "      <td>多云</td>\n",
       "      <td>北风</td>\n",
       "      <td>1-2级</td>\n",
       "      <td>28</td>\n",
       "      <td>优</td>\n",
       "      <td>1</td>\n",
       "    </tr>\n",
       "    <tr>\n",
       "      <th>2018-01-04</th>\n",
       "      <td>0℃</td>\n",
       "      <td>-8℃</td>\n",
       "      <td>阴</td>\n",
       "      <td>东北风</td>\n",
       "      <td>1-2级</td>\n",
       "      <td>28</td>\n",
       "      <td>优</td>\n",
       "      <td>1</td>\n",
       "    </tr>\n",
       "    <tr>\n",
       "      <th>2018-01-05</th>\n",
       "      <td>3℃</td>\n",
       "      <td>-6℃</td>\n",
       "      <td>多云~晴</td>\n",
       "      <td>西北风</td>\n",
       "      <td>1-2级</td>\n",
       "      <td>50</td>\n",
       "      <td>优</td>\n",
       "      <td>1</td>\n",
       "    </tr>\n",
       "  </tbody>\n",
       "</table>\n",
       "</div>"
      ],
      "text/plain": [
       "           bWendu yWendu tianqi fengxiang fengli  aqi aqiInfo  aqiLevel\n",
       "ymd                                                                    \n",
       "2018-01-01     3℃    -6℃   晴~多云       东北风   1-2级   59       良         2\n",
       "2018-01-02     2℃    -5℃   阴~多云       东北风   1-2级   49       优         1\n",
       "2018-01-03     2℃    -5℃     多云        北风   1-2级   28       优         1\n",
       "2018-01-04     0℃    -8℃      阴       东北风   1-2级   28       优         1\n",
       "2018-01-05     3℃    -6℃   多云~晴       西北风   1-2级   50       优         1"
      ]
     },
     "execution_count": 24,
     "metadata": {},
     "output_type": "execute_result"
    }
   ],
   "source": [
    "df.head()"
   ]
  },
  {
   "cell_type": "code",
   "execution_count": 25,
   "metadata": {},
   "outputs": [],
   "source": [
    "#替换掉温度的后缀℃,并将该列的数据类型改为int32\n",
    "df.loc[:,'bWendu'] = df['bWendu'].str.replace('℃','').astype('int32')\n",
    "df.loc[:,'yWendu'] = df['yWendu'].str.replace('℃','').astype('int32')"
   ]
  },
  {
   "cell_type": "code",
   "execution_count": 26,
   "metadata": {},
   "outputs": [
    {
     "data": {
      "text/plain": [
       "bWendu        int32\n",
       "yWendu        int32\n",
       "tianqi       object\n",
       "fengxiang    object\n",
       "fengli       object\n",
       "aqi           int64\n",
       "aqiInfo      object\n",
       "aqiLevel      int64\n",
       "dtype: object"
      ]
     },
     "execution_count": 26,
     "metadata": {},
     "output_type": "execute_result"
    }
   ],
   "source": [
    "df.dtypes"
   ]
  },
  {
   "cell_type": "code",
   "execution_count": 27,
   "metadata": {
    "scrolled": true
   },
   "outputs": [
    {
     "data": {
      "text/html": [
       "<div>\n",
       "<style scoped>\n",
       "    .dataframe tbody tr th:only-of-type {\n",
       "        vertical-align: middle;\n",
       "    }\n",
       "\n",
       "    .dataframe tbody tr th {\n",
       "        vertical-align: top;\n",
       "    }\n",
       "\n",
       "    .dataframe thead th {\n",
       "        text-align: right;\n",
       "    }\n",
       "</style>\n",
       "<table border=\"1\" class=\"dataframe\">\n",
       "  <thead>\n",
       "    <tr style=\"text-align: right;\">\n",
       "      <th></th>\n",
       "      <th>bWendu</th>\n",
       "      <th>yWendu</th>\n",
       "      <th>tianqi</th>\n",
       "      <th>fengxiang</th>\n",
       "      <th>fengli</th>\n",
       "      <th>aqi</th>\n",
       "      <th>aqiInfo</th>\n",
       "      <th>aqiLevel</th>\n",
       "    </tr>\n",
       "    <tr>\n",
       "      <th>ymd</th>\n",
       "      <th></th>\n",
       "      <th></th>\n",
       "      <th></th>\n",
       "      <th></th>\n",
       "      <th></th>\n",
       "      <th></th>\n",
       "      <th></th>\n",
       "      <th></th>\n",
       "    </tr>\n",
       "  </thead>\n",
       "  <tbody>\n",
       "    <tr>\n",
       "      <th>2018-01-01</th>\n",
       "      <td>3</td>\n",
       "      <td>-6</td>\n",
       "      <td>晴~多云</td>\n",
       "      <td>东北风</td>\n",
       "      <td>1-2级</td>\n",
       "      <td>59</td>\n",
       "      <td>良</td>\n",
       "      <td>2</td>\n",
       "    </tr>\n",
       "    <tr>\n",
       "      <th>2018-01-02</th>\n",
       "      <td>2</td>\n",
       "      <td>-5</td>\n",
       "      <td>阴~多云</td>\n",
       "      <td>东北风</td>\n",
       "      <td>1-2级</td>\n",
       "      <td>49</td>\n",
       "      <td>优</td>\n",
       "      <td>1</td>\n",
       "    </tr>\n",
       "    <tr>\n",
       "      <th>2018-01-03</th>\n",
       "      <td>2</td>\n",
       "      <td>-5</td>\n",
       "      <td>多云</td>\n",
       "      <td>北风</td>\n",
       "      <td>1-2级</td>\n",
       "      <td>28</td>\n",
       "      <td>优</td>\n",
       "      <td>1</td>\n",
       "    </tr>\n",
       "    <tr>\n",
       "      <th>2018-01-04</th>\n",
       "      <td>0</td>\n",
       "      <td>-8</td>\n",
       "      <td>阴</td>\n",
       "      <td>东北风</td>\n",
       "      <td>1-2级</td>\n",
       "      <td>28</td>\n",
       "      <td>优</td>\n",
       "      <td>1</td>\n",
       "    </tr>\n",
       "    <tr>\n",
       "      <th>2018-01-05</th>\n",
       "      <td>3</td>\n",
       "      <td>-6</td>\n",
       "      <td>多云~晴</td>\n",
       "      <td>西北风</td>\n",
       "      <td>1-2级</td>\n",
       "      <td>50</td>\n",
       "      <td>优</td>\n",
       "      <td>1</td>\n",
       "    </tr>\n",
       "  </tbody>\n",
       "</table>\n",
       "</div>"
      ],
      "text/plain": [
       "            bWendu  yWendu tianqi fengxiang fengli  aqi aqiInfo  aqiLevel\n",
       "ymd                                                                      \n",
       "2018-01-01       3      -6   晴~多云       东北风   1-2级   59       良         2\n",
       "2018-01-02       2      -5   阴~多云       东北风   1-2级   49       优         1\n",
       "2018-01-03       2      -5     多云        北风   1-2级   28       优         1\n",
       "2018-01-04       0      -8      阴       东北风   1-2级   28       优         1\n",
       "2018-01-05       3      -6   多云~晴       西北风   1-2级   50       优         1"
      ]
     },
     "execution_count": 27,
     "metadata": {},
     "output_type": "execute_result"
    }
   ],
   "source": [
    "df.head()"
   ]
  },
  {
   "cell_type": "code",
   "execution_count": 28,
   "metadata": {},
   "outputs": [
    {
     "data": {
      "text/plain": [
       "2"
      ]
     },
     "execution_count": 28,
     "metadata": {},
     "output_type": "execute_result"
    }
   ],
   "source": [
    "#使用标签值来查询数据：行或列都可只传入单个值，实现精确匹配\n",
    "df.loc['2018-01-03','bWendu']"
   ]
  },
  {
   "cell_type": "code",
   "execution_count": 29,
   "metadata": {
    "scrolled": true
   },
   "outputs": [
    {
     "data": {
      "text/plain": [
       "bWendu     2\n",
       "yWendu    -5\n",
       "Name: 2018-01-03, dtype: object"
      ]
     },
     "execution_count": 29,
     "metadata": {},
     "output_type": "execute_result"
    }
   ],
   "source": [
    "df.loc['2018-01-03',['bWendu','yWendu']]\n",
    "#返回的是Series"
   ]
  },
  {
   "cell_type": "code",
   "execution_count": 30,
   "metadata": {
    "scrolled": true
   },
   "outputs": [
    {
     "data": {
      "text/plain": [
       "ymd\n",
       "2018-01-03    2\n",
       "2018-01-04    0\n",
       "2018-01-05    3\n",
       "Name: bWendu, dtype: int32"
      ]
     },
     "execution_count": 30,
     "metadata": {},
     "output_type": "execute_result"
    }
   ],
   "source": [
    "#使用值列表进行批量查询,得到的是Series\n",
    "df.loc[['2018-01-03','2018-01-04','2018-01-05'],'bWendu']"
   ]
  },
  {
   "cell_type": "code",
   "execution_count": 33,
   "metadata": {
    "scrolled": false
   },
   "outputs": [
    {
     "data": {
      "text/html": [
       "<div>\n",
       "<style scoped>\n",
       "    .dataframe tbody tr th:only-of-type {\n",
       "        vertical-align: middle;\n",
       "    }\n",
       "\n",
       "    .dataframe tbody tr th {\n",
       "        vertical-align: top;\n",
       "    }\n",
       "\n",
       "    .dataframe thead th {\n",
       "        text-align: right;\n",
       "    }\n",
       "</style>\n",
       "<table border=\"1\" class=\"dataframe\">\n",
       "  <thead>\n",
       "    <tr style=\"text-align: right;\">\n",
       "      <th></th>\n",
       "      <th>bWendu</th>\n",
       "      <th>yWendu</th>\n",
       "    </tr>\n",
       "    <tr>\n",
       "      <th>ymd</th>\n",
       "      <th></th>\n",
       "      <th></th>\n",
       "    </tr>\n",
       "  </thead>\n",
       "  <tbody>\n",
       "    <tr>\n",
       "      <th>2018-01-03</th>\n",
       "      <td>2</td>\n",
       "      <td>-5</td>\n",
       "    </tr>\n",
       "    <tr>\n",
       "      <th>2018-01-04</th>\n",
       "      <td>0</td>\n",
       "      <td>-8</td>\n",
       "    </tr>\n",
       "    <tr>\n",
       "      <th>2018-01-05</th>\n",
       "      <td>3</td>\n",
       "      <td>-6</td>\n",
       "    </tr>\n",
       "  </tbody>\n",
       "</table>\n",
       "</div>"
      ],
      "text/plain": [
       "            bWendu  yWendu\n",
       "ymd                       \n",
       "2018-01-03       2      -5\n",
       "2018-01-04       0      -8\n",
       "2018-01-05       3      -6"
      ]
     },
     "execution_count": 33,
     "metadata": {},
     "output_type": "execute_result"
    }
   ],
   "source": [
    "#得到Dataframe\n",
    "df.loc[['2018-01-03','2018-01-04','2018-01-05'],['bWendu','yWendu']]"
   ]
  },
  {
   "cell_type": "code",
   "execution_count": 36,
   "metadata": {},
   "outputs": [
    {
     "data": {
      "text/plain": [
       "ymd\n",
       "2018-01-03    2\n",
       "2018-01-04    0\n",
       "2018-01-05    3\n",
       "Name: bWendu, dtype: int32"
      ]
     },
     "execution_count": 36,
     "metadata": {},
     "output_type": "execute_result"
    }
   ],
   "source": [
    "#行使用值区间(:)进行范围查询\n",
    "#区间既包含开始，也包含结束\n",
    "#返回结果为Series\n",
    "df.loc['2018-01-03':'2018-01-05','bWendu']"
   ]
  },
  {
   "cell_type": "code",
   "execution_count": 37,
   "metadata": {},
   "outputs": [
    {
     "data": {
      "text/plain": [
       "bWendu        2\n",
       "yWendu       -5\n",
       "tianqi       多云\n",
       "fengxiang    北风\n",
       "Name: 2018-01-03, dtype: object"
      ]
     },
     "execution_count": 37,
     "metadata": {},
     "output_type": "execute_result"
    }
   ],
   "source": [
    "#列使用值区间(:)进行范围查询\n",
    "#返回结果为Series\n",
    "df.loc['2018-01-03','bWendu':'fengxiang']"
   ]
  },
  {
   "cell_type": "code",
   "execution_count": 39,
   "metadata": {},
   "outputs": [
    {
     "data": {
      "text/html": [
       "<div>\n",
       "<style scoped>\n",
       "    .dataframe tbody tr th:only-of-type {\n",
       "        vertical-align: middle;\n",
       "    }\n",
       "\n",
       "    .dataframe tbody tr th {\n",
       "        vertical-align: top;\n",
       "    }\n",
       "\n",
       "    .dataframe thead th {\n",
       "        text-align: right;\n",
       "    }\n",
       "</style>\n",
       "<table border=\"1\" class=\"dataframe\">\n",
       "  <thead>\n",
       "    <tr style=\"text-align: right;\">\n",
       "      <th></th>\n",
       "      <th>bWendu</th>\n",
       "      <th>yWendu</th>\n",
       "      <th>tianqi</th>\n",
       "      <th>fengxiang</th>\n",
       "    </tr>\n",
       "    <tr>\n",
       "      <th>ymd</th>\n",
       "      <th></th>\n",
       "      <th></th>\n",
       "      <th></th>\n",
       "      <th></th>\n",
       "    </tr>\n",
       "  </thead>\n",
       "  <tbody>\n",
       "    <tr>\n",
       "      <th>2018-01-03</th>\n",
       "      <td>2</td>\n",
       "      <td>-5</td>\n",
       "      <td>多云</td>\n",
       "      <td>北风</td>\n",
       "    </tr>\n",
       "    <tr>\n",
       "      <th>2018-01-04</th>\n",
       "      <td>0</td>\n",
       "      <td>-8</td>\n",
       "      <td>阴</td>\n",
       "      <td>东北风</td>\n",
       "    </tr>\n",
       "    <tr>\n",
       "      <th>2018-01-05</th>\n",
       "      <td>3</td>\n",
       "      <td>-6</td>\n",
       "      <td>多云~晴</td>\n",
       "      <td>西北风</td>\n",
       "    </tr>\n",
       "  </tbody>\n",
       "</table>\n",
       "</div>"
      ],
      "text/plain": [
       "            bWendu  yWendu tianqi fengxiang\n",
       "ymd                                        \n",
       "2018-01-03       2      -5     多云        北风\n",
       "2018-01-04       0      -8      阴       东北风\n",
       "2018-01-05       3      -6   多云~晴       西北风"
      ]
     },
     "execution_count": 39,
     "metadata": {},
     "output_type": "execute_result"
    }
   ],
   "source": [
    "#行和列都按区间查询\n",
    "#返回值为dataframe\n",
    "df.loc['2018-01-03':'2018-01-05','bWendu':'fengxiang']"
   ]
  },
  {
   "cell_type": "code",
   "execution_count": 40,
   "metadata": {
    "scrolled": true
   },
   "outputs": [
    {
     "data": {
      "text/html": [
       "<div>\n",
       "<style scoped>\n",
       "    .dataframe tbody tr th:only-of-type {\n",
       "        vertical-align: middle;\n",
       "    }\n",
       "\n",
       "    .dataframe tbody tr th {\n",
       "        vertical-align: top;\n",
       "    }\n",
       "\n",
       "    .dataframe thead th {\n",
       "        text-align: right;\n",
       "    }\n",
       "</style>\n",
       "<table border=\"1\" class=\"dataframe\">\n",
       "  <thead>\n",
       "    <tr style=\"text-align: right;\">\n",
       "      <th></th>\n",
       "      <th>bWendu</th>\n",
       "      <th>yWendu</th>\n",
       "      <th>tianqi</th>\n",
       "      <th>fengxiang</th>\n",
       "      <th>fengli</th>\n",
       "      <th>aqi</th>\n",
       "      <th>aqiInfo</th>\n",
       "      <th>aqiLevel</th>\n",
       "    </tr>\n",
       "    <tr>\n",
       "      <th>ymd</th>\n",
       "      <th></th>\n",
       "      <th></th>\n",
       "      <th></th>\n",
       "      <th></th>\n",
       "      <th></th>\n",
       "      <th></th>\n",
       "      <th></th>\n",
       "      <th></th>\n",
       "    </tr>\n",
       "  </thead>\n",
       "  <tbody>\n",
       "    <tr>\n",
       "      <th>2018-01-01</th>\n",
       "      <td>3</td>\n",
       "      <td>-6</td>\n",
       "      <td>晴~多云</td>\n",
       "      <td>东北风</td>\n",
       "      <td>1-2级</td>\n",
       "      <td>59</td>\n",
       "      <td>良</td>\n",
       "      <td>2</td>\n",
       "    </tr>\n",
       "    <tr>\n",
       "      <th>2018-01-02</th>\n",
       "      <td>2</td>\n",
       "      <td>-5</td>\n",
       "      <td>阴~多云</td>\n",
       "      <td>东北风</td>\n",
       "      <td>1-2级</td>\n",
       "      <td>49</td>\n",
       "      <td>优</td>\n",
       "      <td>1</td>\n",
       "    </tr>\n",
       "    <tr>\n",
       "      <th>2018-01-03</th>\n",
       "      <td>2</td>\n",
       "      <td>-5</td>\n",
       "      <td>多云</td>\n",
       "      <td>北风</td>\n",
       "      <td>1-2级</td>\n",
       "      <td>28</td>\n",
       "      <td>优</td>\n",
       "      <td>1</td>\n",
       "    </tr>\n",
       "    <tr>\n",
       "      <th>2018-01-04</th>\n",
       "      <td>0</td>\n",
       "      <td>-8</td>\n",
       "      <td>阴</td>\n",
       "      <td>东北风</td>\n",
       "      <td>1-2级</td>\n",
       "      <td>28</td>\n",
       "      <td>优</td>\n",
       "      <td>1</td>\n",
       "    </tr>\n",
       "    <tr>\n",
       "      <th>2018-01-05</th>\n",
       "      <td>3</td>\n",
       "      <td>-6</td>\n",
       "      <td>多云~晴</td>\n",
       "      <td>西北风</td>\n",
       "      <td>1-2级</td>\n",
       "      <td>50</td>\n",
       "      <td>优</td>\n",
       "      <td>1</td>\n",
       "    </tr>\n",
       "    <tr>\n",
       "      <th>...</th>\n",
       "      <td>...</td>\n",
       "      <td>...</td>\n",
       "      <td>...</td>\n",
       "      <td>...</td>\n",
       "      <td>...</td>\n",
       "      <td>...</td>\n",
       "      <td>...</td>\n",
       "      <td>...</td>\n",
       "    </tr>\n",
       "    <tr>\n",
       "      <th>2018-12-27</th>\n",
       "      <td>-5</td>\n",
       "      <td>-12</td>\n",
       "      <td>多云~晴</td>\n",
       "      <td>西北风</td>\n",
       "      <td>3级</td>\n",
       "      <td>48</td>\n",
       "      <td>优</td>\n",
       "      <td>1</td>\n",
       "    </tr>\n",
       "    <tr>\n",
       "      <th>2018-12-28</th>\n",
       "      <td>-3</td>\n",
       "      <td>-11</td>\n",
       "      <td>晴</td>\n",
       "      <td>西北风</td>\n",
       "      <td>3级</td>\n",
       "      <td>40</td>\n",
       "      <td>优</td>\n",
       "      <td>1</td>\n",
       "    </tr>\n",
       "    <tr>\n",
       "      <th>2018-12-29</th>\n",
       "      <td>-3</td>\n",
       "      <td>-12</td>\n",
       "      <td>晴</td>\n",
       "      <td>西北风</td>\n",
       "      <td>2级</td>\n",
       "      <td>29</td>\n",
       "      <td>优</td>\n",
       "      <td>1</td>\n",
       "    </tr>\n",
       "    <tr>\n",
       "      <th>2018-12-30</th>\n",
       "      <td>-2</td>\n",
       "      <td>-11</td>\n",
       "      <td>晴~多云</td>\n",
       "      <td>东北风</td>\n",
       "      <td>1级</td>\n",
       "      <td>31</td>\n",
       "      <td>优</td>\n",
       "      <td>1</td>\n",
       "    </tr>\n",
       "    <tr>\n",
       "      <th>2018-12-31</th>\n",
       "      <td>-2</td>\n",
       "      <td>-10</td>\n",
       "      <td>多云</td>\n",
       "      <td>东北风</td>\n",
       "      <td>1级</td>\n",
       "      <td>56</td>\n",
       "      <td>良</td>\n",
       "      <td>2</td>\n",
       "    </tr>\n",
       "  </tbody>\n",
       "</table>\n",
       "<p>188 rows × 8 columns</p>\n",
       "</div>"
      ],
      "text/plain": [
       "            bWendu  yWendu tianqi fengxiang fengli  aqi aqiInfo  aqiLevel\n",
       "ymd                                                                      \n",
       "2018-01-01       3      -6   晴~多云       东北风   1-2级   59       良         2\n",
       "2018-01-02       2      -5   阴~多云       东北风   1-2级   49       优         1\n",
       "2018-01-03       2      -5     多云        北风   1-2级   28       优         1\n",
       "2018-01-04       0      -8      阴       东北风   1-2级   28       优         1\n",
       "2018-01-05       3      -6   多云~晴       西北风   1-2级   50       优         1\n",
       "...            ...     ...    ...       ...    ...  ...     ...       ...\n",
       "2018-12-27      -5     -12   多云~晴       西北风     3级   48       优         1\n",
       "2018-12-28      -3     -11      晴       西北风     3级   40       优         1\n",
       "2018-12-29      -3     -12      晴       西北风     2级   29       优         1\n",
       "2018-12-30      -2     -11   晴~多云       东北风     1级   31       优         1\n",
       "2018-12-31      -2     -10     多云       东北风     1级   56       良         2\n",
       "\n",
       "[188 rows x 8 columns]"
      ]
     },
     "execution_count": 40,
     "metadata": {},
     "output_type": "execute_result"
    }
   ],
   "source": [
    "#4.使用布尔索引进行查询\n",
    "df.loc[df['yWendu']<10,:]"
   ]
  },
  {
   "cell_type": "code",
   "execution_count": 46,
   "metadata": {},
   "outputs": [
    {
     "data": {
      "text/html": [
       "<div>\n",
       "<style scoped>\n",
       "    .dataframe tbody tr th:only-of-type {\n",
       "        vertical-align: middle;\n",
       "    }\n",
       "\n",
       "    .dataframe tbody tr th {\n",
       "        vertical-align: top;\n",
       "    }\n",
       "\n",
       "    .dataframe thead th {\n",
       "        text-align: right;\n",
       "    }\n",
       "</style>\n",
       "<table border=\"1\" class=\"dataframe\">\n",
       "  <thead>\n",
       "    <tr style=\"text-align: right;\">\n",
       "      <th></th>\n",
       "      <th>bWendu</th>\n",
       "      <th>yWendu</th>\n",
       "      <th>tianqi</th>\n",
       "      <th>fengxiang</th>\n",
       "      <th>fengli</th>\n",
       "      <th>aqi</th>\n",
       "      <th>aqiInfo</th>\n",
       "      <th>aqiLevel</th>\n",
       "    </tr>\n",
       "    <tr>\n",
       "      <th>ymd</th>\n",
       "      <th></th>\n",
       "      <th></th>\n",
       "      <th></th>\n",
       "      <th></th>\n",
       "      <th></th>\n",
       "      <th></th>\n",
       "      <th></th>\n",
       "      <th></th>\n",
       "    </tr>\n",
       "  </thead>\n",
       "  <tbody>\n",
       "    <tr>\n",
       "      <th>2018-08-24</th>\n",
       "      <td>30</td>\n",
       "      <td>20</td>\n",
       "      <td>晴</td>\n",
       "      <td>北风</td>\n",
       "      <td>1-2级</td>\n",
       "      <td>40</td>\n",
       "      <td>优</td>\n",
       "      <td>1</td>\n",
       "    </tr>\n",
       "    <tr>\n",
       "      <th>2018-09-07</th>\n",
       "      <td>27</td>\n",
       "      <td>16</td>\n",
       "      <td>晴</td>\n",
       "      <td>西北风</td>\n",
       "      <td>3-4级</td>\n",
       "      <td>22</td>\n",
       "      <td>优</td>\n",
       "      <td>1</td>\n",
       "    </tr>\n",
       "  </tbody>\n",
       "</table>\n",
       "</div>"
      ],
      "text/plain": [
       "            bWendu  yWendu tianqi fengxiang fengli  aqi aqiInfo  aqiLevel\n",
       "ymd                                                                      \n",
       "2018-08-24      30      20      晴        北风   1-2级   40       优         1\n",
       "2018-09-07      27      16      晴       西北风   3-4级   22       优         1"
      ]
     },
     "execution_count": 46,
     "metadata": {},
     "output_type": "execute_result"
    }
   ],
   "source": [
    "#案例：查询最高温度小于30度，并且最低温度大于15℃，并且是晴天，并且天气为优的天气\n",
    "df.loc[(df['bWendu']<=30) & (df['yWendu']>=15) & (df['tianqi']=='晴') & (df['aqiLevel']==1),:]"
   ]
  },
  {
   "cell_type": "code",
   "execution_count": 47,
   "metadata": {},
   "outputs": [
    {
     "data": {
      "text/html": [
       "<div>\n",
       "<style scoped>\n",
       "    .dataframe tbody tr th:only-of-type {\n",
       "        vertical-align: middle;\n",
       "    }\n",
       "\n",
       "    .dataframe tbody tr th {\n",
       "        vertical-align: top;\n",
       "    }\n",
       "\n",
       "    .dataframe thead th {\n",
       "        text-align: right;\n",
       "    }\n",
       "</style>\n",
       "<table border=\"1\" class=\"dataframe\">\n",
       "  <thead>\n",
       "    <tr style=\"text-align: right;\">\n",
       "      <th></th>\n",
       "      <th>bWendu</th>\n",
       "      <th>yWendu</th>\n",
       "      <th>tianqi</th>\n",
       "      <th>fengxiang</th>\n",
       "      <th>fengli</th>\n",
       "      <th>aqi</th>\n",
       "      <th>aqiInfo</th>\n",
       "      <th>aqiLevel</th>\n",
       "    </tr>\n",
       "    <tr>\n",
       "      <th>ymd</th>\n",
       "      <th></th>\n",
       "      <th></th>\n",
       "      <th></th>\n",
       "      <th></th>\n",
       "      <th></th>\n",
       "      <th></th>\n",
       "      <th></th>\n",
       "      <th></th>\n",
       "    </tr>\n",
       "  </thead>\n",
       "  <tbody>\n",
       "    <tr>\n",
       "      <th>2018-04-28</th>\n",
       "      <td>27</td>\n",
       "      <td>17</td>\n",
       "      <td>晴</td>\n",
       "      <td>西南风</td>\n",
       "      <td>3-4级</td>\n",
       "      <td>125</td>\n",
       "      <td>轻度污染</td>\n",
       "      <td>3</td>\n",
       "    </tr>\n",
       "    <tr>\n",
       "      <th>2018-04-29</th>\n",
       "      <td>30</td>\n",
       "      <td>16</td>\n",
       "      <td>多云</td>\n",
       "      <td>南风</td>\n",
       "      <td>3-4级</td>\n",
       "      <td>193</td>\n",
       "      <td>中度污染</td>\n",
       "      <td>4</td>\n",
       "    </tr>\n",
       "    <tr>\n",
       "      <th>2018-05-04</th>\n",
       "      <td>27</td>\n",
       "      <td>16</td>\n",
       "      <td>晴~多云</td>\n",
       "      <td>西南风</td>\n",
       "      <td>1-2级</td>\n",
       "      <td>86</td>\n",
       "      <td>良</td>\n",
       "      <td>2</td>\n",
       "    </tr>\n",
       "    <tr>\n",
       "      <th>2018-05-09</th>\n",
       "      <td>29</td>\n",
       "      <td>17</td>\n",
       "      <td>晴~多云</td>\n",
       "      <td>西南风</td>\n",
       "      <td>3-4级</td>\n",
       "      <td>79</td>\n",
       "      <td>良</td>\n",
       "      <td>2</td>\n",
       "    </tr>\n",
       "    <tr>\n",
       "      <th>2018-05-10</th>\n",
       "      <td>26</td>\n",
       "      <td>18</td>\n",
       "      <td>多云</td>\n",
       "      <td>南风</td>\n",
       "      <td>3-4级</td>\n",
       "      <td>118</td>\n",
       "      <td>轻度污染</td>\n",
       "      <td>3</td>\n",
       "    </tr>\n",
       "    <tr>\n",
       "      <th>...</th>\n",
       "      <td>...</td>\n",
       "      <td>...</td>\n",
       "      <td>...</td>\n",
       "      <td>...</td>\n",
       "      <td>...</td>\n",
       "      <td>...</td>\n",
       "      <td>...</td>\n",
       "      <td>...</td>\n",
       "    </tr>\n",
       "    <tr>\n",
       "      <th>2018-09-15</th>\n",
       "      <td>26</td>\n",
       "      <td>15</td>\n",
       "      <td>多云</td>\n",
       "      <td>北风</td>\n",
       "      <td>3-4级</td>\n",
       "      <td>42</td>\n",
       "      <td>优</td>\n",
       "      <td>1</td>\n",
       "    </tr>\n",
       "    <tr>\n",
       "      <th>2018-09-17</th>\n",
       "      <td>27</td>\n",
       "      <td>17</td>\n",
       "      <td>多云~阴</td>\n",
       "      <td>北风</td>\n",
       "      <td>1-2级</td>\n",
       "      <td>37</td>\n",
       "      <td>优</td>\n",
       "      <td>1</td>\n",
       "    </tr>\n",
       "    <tr>\n",
       "      <th>2018-09-18</th>\n",
       "      <td>25</td>\n",
       "      <td>17</td>\n",
       "      <td>阴~多云</td>\n",
       "      <td>西南风</td>\n",
       "      <td>1-2级</td>\n",
       "      <td>50</td>\n",
       "      <td>优</td>\n",
       "      <td>1</td>\n",
       "    </tr>\n",
       "    <tr>\n",
       "      <th>2018-09-19</th>\n",
       "      <td>26</td>\n",
       "      <td>17</td>\n",
       "      <td>多云</td>\n",
       "      <td>南风</td>\n",
       "      <td>1-2级</td>\n",
       "      <td>52</td>\n",
       "      <td>良</td>\n",
       "      <td>2</td>\n",
       "    </tr>\n",
       "    <tr>\n",
       "      <th>2018-09-20</th>\n",
       "      <td>27</td>\n",
       "      <td>16</td>\n",
       "      <td>多云</td>\n",
       "      <td>西南风</td>\n",
       "      <td>1-2级</td>\n",
       "      <td>63</td>\n",
       "      <td>良</td>\n",
       "      <td>2</td>\n",
       "    </tr>\n",
       "  </tbody>\n",
       "</table>\n",
       "<p>64 rows × 8 columns</p>\n",
       "</div>"
      ],
      "text/plain": [
       "            bWendu  yWendu tianqi fengxiang fengli  aqi aqiInfo  aqiLevel\n",
       "ymd                                                                      \n",
       "2018-04-28      27      17      晴       西南风   3-4级  125    轻度污染         3\n",
       "2018-04-29      30      16     多云        南风   3-4级  193    中度污染         4\n",
       "2018-05-04      27      16   晴~多云       西南风   1-2级   86       良         2\n",
       "2018-05-09      29      17   晴~多云       西南风   3-4级   79       良         2\n",
       "2018-05-10      26      18     多云        南风   3-4级  118    轻度污染         3\n",
       "...            ...     ...    ...       ...    ...  ...     ...       ...\n",
       "2018-09-15      26      15     多云        北风   3-4级   42       优         1\n",
       "2018-09-17      27      17   多云~阴        北风   1-2级   37       优         1\n",
       "2018-09-18      25      17   阴~多云       西南风   1-2级   50       优         1\n",
       "2018-09-19      26      17     多云        南风   1-2级   52       良         2\n",
       "2018-09-20      27      16     多云       西南风   1-2级   63       良         2\n",
       "\n",
       "[64 rows x 8 columns]"
      ]
     },
     "execution_count": 47,
     "metadata": {},
     "output_type": "execute_result"
    }
   ],
   "source": [
    "#5.使用lambda表达式查询\n",
    "df.loc[lambda df : (df['bWendu']<=30) & (df['yWendu']>=15),:]"
   ]
  },
  {
   "cell_type": "code",
   "execution_count": 48,
   "metadata": {
    "scrolled": true
   },
   "outputs": [
    {
     "data": {
      "text/html": [
       "<div>\n",
       "<style scoped>\n",
       "    .dataframe tbody tr th:only-of-type {\n",
       "        vertical-align: middle;\n",
       "    }\n",
       "\n",
       "    .dataframe tbody tr th {\n",
       "        vertical-align: top;\n",
       "    }\n",
       "\n",
       "    .dataframe thead th {\n",
       "        text-align: right;\n",
       "    }\n",
       "</style>\n",
       "<table border=\"1\" class=\"dataframe\">\n",
       "  <thead>\n",
       "    <tr style=\"text-align: right;\">\n",
       "      <th></th>\n",
       "      <th>bWendu</th>\n",
       "      <th>yWendu</th>\n",
       "      <th>tianqi</th>\n",
       "      <th>fengxiang</th>\n",
       "      <th>fengli</th>\n",
       "      <th>aqi</th>\n",
       "      <th>aqiInfo</th>\n",
       "      <th>aqiLevel</th>\n",
       "    </tr>\n",
       "    <tr>\n",
       "      <th>ymd</th>\n",
       "      <th></th>\n",
       "      <th></th>\n",
       "      <th></th>\n",
       "      <th></th>\n",
       "      <th></th>\n",
       "      <th></th>\n",
       "      <th></th>\n",
       "      <th></th>\n",
       "    </tr>\n",
       "  </thead>\n",
       "  <tbody>\n",
       "    <tr>\n",
       "      <th>2018-09-01</th>\n",
       "      <td>27</td>\n",
       "      <td>19</td>\n",
       "      <td>阴~小雨</td>\n",
       "      <td>南风</td>\n",
       "      <td>1-2级</td>\n",
       "      <td>50</td>\n",
       "      <td>优</td>\n",
       "      <td>1</td>\n",
       "    </tr>\n",
       "    <tr>\n",
       "      <th>2018-09-04</th>\n",
       "      <td>31</td>\n",
       "      <td>18</td>\n",
       "      <td>晴</td>\n",
       "      <td>西南风</td>\n",
       "      <td>3-4级</td>\n",
       "      <td>24</td>\n",
       "      <td>优</td>\n",
       "      <td>1</td>\n",
       "    </tr>\n",
       "    <tr>\n",
       "      <th>2018-09-05</th>\n",
       "      <td>31</td>\n",
       "      <td>19</td>\n",
       "      <td>晴~多云</td>\n",
       "      <td>西南风</td>\n",
       "      <td>3-4级</td>\n",
       "      <td>34</td>\n",
       "      <td>优</td>\n",
       "      <td>1</td>\n",
       "    </tr>\n",
       "    <tr>\n",
       "      <th>2018-09-06</th>\n",
       "      <td>27</td>\n",
       "      <td>18</td>\n",
       "      <td>多云~晴</td>\n",
       "      <td>西北风</td>\n",
       "      <td>4-5级</td>\n",
       "      <td>37</td>\n",
       "      <td>优</td>\n",
       "      <td>1</td>\n",
       "    </tr>\n",
       "    <tr>\n",
       "      <th>2018-09-07</th>\n",
       "      <td>27</td>\n",
       "      <td>16</td>\n",
       "      <td>晴</td>\n",
       "      <td>西北风</td>\n",
       "      <td>3-4级</td>\n",
       "      <td>22</td>\n",
       "      <td>优</td>\n",
       "      <td>1</td>\n",
       "    </tr>\n",
       "    <tr>\n",
       "      <th>2018-09-08</th>\n",
       "      <td>27</td>\n",
       "      <td>15</td>\n",
       "      <td>多云~晴</td>\n",
       "      <td>北风</td>\n",
       "      <td>1-2级</td>\n",
       "      <td>28</td>\n",
       "      <td>优</td>\n",
       "      <td>1</td>\n",
       "    </tr>\n",
       "    <tr>\n",
       "      <th>2018-09-13</th>\n",
       "      <td>29</td>\n",
       "      <td>20</td>\n",
       "      <td>多云~阴</td>\n",
       "      <td>南风</td>\n",
       "      <td>1-2级</td>\n",
       "      <td>107</td>\n",
       "      <td>轻度污染</td>\n",
       "      <td>3</td>\n",
       "    </tr>\n",
       "    <tr>\n",
       "      <th>2018-09-14</th>\n",
       "      <td>28</td>\n",
       "      <td>19</td>\n",
       "      <td>小雨~多云</td>\n",
       "      <td>南风</td>\n",
       "      <td>1-2级</td>\n",
       "      <td>128</td>\n",
       "      <td>轻度污染</td>\n",
       "      <td>3</td>\n",
       "    </tr>\n",
       "    <tr>\n",
       "      <th>2018-09-15</th>\n",
       "      <td>26</td>\n",
       "      <td>15</td>\n",
       "      <td>多云</td>\n",
       "      <td>北风</td>\n",
       "      <td>3-4级</td>\n",
       "      <td>42</td>\n",
       "      <td>优</td>\n",
       "      <td>1</td>\n",
       "    </tr>\n",
       "    <tr>\n",
       "      <th>2018-09-16</th>\n",
       "      <td>25</td>\n",
       "      <td>14</td>\n",
       "      <td>多云~晴</td>\n",
       "      <td>北风</td>\n",
       "      <td>1-2级</td>\n",
       "      <td>29</td>\n",
       "      <td>优</td>\n",
       "      <td>1</td>\n",
       "    </tr>\n",
       "    <tr>\n",
       "      <th>2018-09-17</th>\n",
       "      <td>27</td>\n",
       "      <td>17</td>\n",
       "      <td>多云~阴</td>\n",
       "      <td>北风</td>\n",
       "      <td>1-2级</td>\n",
       "      <td>37</td>\n",
       "      <td>优</td>\n",
       "      <td>1</td>\n",
       "    </tr>\n",
       "    <tr>\n",
       "      <th>2018-09-18</th>\n",
       "      <td>25</td>\n",
       "      <td>17</td>\n",
       "      <td>阴~多云</td>\n",
       "      <td>西南风</td>\n",
       "      <td>1-2级</td>\n",
       "      <td>50</td>\n",
       "      <td>优</td>\n",
       "      <td>1</td>\n",
       "    </tr>\n",
       "    <tr>\n",
       "      <th>2018-09-21</th>\n",
       "      <td>25</td>\n",
       "      <td>14</td>\n",
       "      <td>晴</td>\n",
       "      <td>西北风</td>\n",
       "      <td>3-4级</td>\n",
       "      <td>50</td>\n",
       "      <td>优</td>\n",
       "      <td>1</td>\n",
       "    </tr>\n",
       "    <tr>\n",
       "      <th>2018-09-22</th>\n",
       "      <td>24</td>\n",
       "      <td>13</td>\n",
       "      <td>晴</td>\n",
       "      <td>西北风</td>\n",
       "      <td>3-4级</td>\n",
       "      <td>28</td>\n",
       "      <td>优</td>\n",
       "      <td>1</td>\n",
       "    </tr>\n",
       "    <tr>\n",
       "      <th>2018-09-23</th>\n",
       "      <td>23</td>\n",
       "      <td>12</td>\n",
       "      <td>晴</td>\n",
       "      <td>西北风</td>\n",
       "      <td>4-5级</td>\n",
       "      <td>28</td>\n",
       "      <td>优</td>\n",
       "      <td>1</td>\n",
       "    </tr>\n",
       "    <tr>\n",
       "      <th>2018-09-24</th>\n",
       "      <td>23</td>\n",
       "      <td>11</td>\n",
       "      <td>晴</td>\n",
       "      <td>北风</td>\n",
       "      <td>1-2级</td>\n",
       "      <td>28</td>\n",
       "      <td>优</td>\n",
       "      <td>1</td>\n",
       "    </tr>\n",
       "    <tr>\n",
       "      <th>2018-09-25</th>\n",
       "      <td>24</td>\n",
       "      <td>12</td>\n",
       "      <td>晴~多云</td>\n",
       "      <td>南风</td>\n",
       "      <td>1-2级</td>\n",
       "      <td>44</td>\n",
       "      <td>优</td>\n",
       "      <td>1</td>\n",
       "    </tr>\n",
       "    <tr>\n",
       "      <th>2018-09-29</th>\n",
       "      <td>22</td>\n",
       "      <td>11</td>\n",
       "      <td>晴</td>\n",
       "      <td>北风</td>\n",
       "      <td>3-4级</td>\n",
       "      <td>21</td>\n",
       "      <td>优</td>\n",
       "      <td>1</td>\n",
       "    </tr>\n",
       "    <tr>\n",
       "      <th>2018-09-30</th>\n",
       "      <td>19</td>\n",
       "      <td>13</td>\n",
       "      <td>多云</td>\n",
       "      <td>西北风</td>\n",
       "      <td>4-5级</td>\n",
       "      <td>22</td>\n",
       "      <td>优</td>\n",
       "      <td>1</td>\n",
       "    </tr>\n",
       "  </tbody>\n",
       "</table>\n",
       "</div>"
      ],
      "text/plain": [
       "            bWendu  yWendu tianqi fengxiang fengli  aqi aqiInfo  aqiLevel\n",
       "ymd                                                                      \n",
       "2018-09-01      27      19   阴~小雨        南风   1-2级   50       优         1\n",
       "2018-09-04      31      18      晴       西南风   3-4级   24       优         1\n",
       "2018-09-05      31      19   晴~多云       西南风   3-4级   34       优         1\n",
       "2018-09-06      27      18   多云~晴       西北风   4-5级   37       优         1\n",
       "2018-09-07      27      16      晴       西北风   3-4级   22       优         1\n",
       "2018-09-08      27      15   多云~晴        北风   1-2级   28       优         1\n",
       "2018-09-13      29      20   多云~阴        南风   1-2级  107    轻度污染         3\n",
       "2018-09-14      28      19  小雨~多云        南风   1-2级  128    轻度污染         3\n",
       "2018-09-15      26      15     多云        北风   3-4级   42       优         1\n",
       "2018-09-16      25      14   多云~晴        北风   1-2级   29       优         1\n",
       "2018-09-17      27      17   多云~阴        北风   1-2级   37       优         1\n",
       "2018-09-18      25      17   阴~多云       西南风   1-2级   50       优         1\n",
       "2018-09-21      25      14      晴       西北风   3-4级   50       优         1\n",
       "2018-09-22      24      13      晴       西北风   3-4级   28       优         1\n",
       "2018-09-23      23      12      晴       西北风   4-5级   28       优         1\n",
       "2018-09-24      23      11      晴        北风   1-2级   28       优         1\n",
       "2018-09-25      24      12   晴~多云        南风   1-2级   44       优         1\n",
       "2018-09-29      22      11      晴        北风   3-4级   21       优         1\n",
       "2018-09-30      19      13     多云       西北风   4-5级   22       优         1"
      ]
     },
     "execution_count": 48,
     "metadata": {},
     "output_type": "execute_result"
    }
   ],
   "source": [
    "#6.编写自己的函数，查询9月份空气质量好的数据\n",
    "def query_my_data(df):\n",
    "    return df.index.str.startswith('2018-09') & df['aqiLevel']==1\n",
    "df.loc[query_my_data,:]"
   ]
  },
  {
   "cell_type": "code",
   "execution_count": 9,
   "metadata": {
    "scrolled": true
   },
   "outputs": [
    {
     "ename": "NameError",
     "evalue": "name 'df' is not defined",
     "output_type": "error",
     "traceback": [
      "\u001b[0;31m-----------------------------------------------------------------\u001b[0m",
      "\u001b[0;31mNameError\u001b[0m                       Traceback (most recent call last)",
      "\u001b[0;32m<ipython-input-9-ff6a1c4fee13>\u001b[0m in \u001b[0;36m<module>\u001b[0;34m()\u001b[0m\n\u001b[1;32m      1\u001b[0m \u001b[0;31m#7. 使用iloc索引访问\u001b[0m\u001b[0;34m\u001b[0m\u001b[0;34m\u001b[0m\u001b[0;34m\u001b[0m\u001b[0m\n\u001b[0;32m----> 2\u001b[0;31m \u001b[0mdf\u001b[0m\u001b[0;34m.\u001b[0m\u001b[0miloc\u001b[0m\u001b[0;34m[\u001b[0m\u001b[0;36m1\u001b[0m\u001b[0;34m]\u001b[0m\u001b[0;34m\u001b[0m\u001b[0;34m\u001b[0m\u001b[0m\n\u001b[0m",
      "\u001b[0;31mNameError\u001b[0m: name 'df' is not defined"
     ]
    }
   ],
   "source": [
    "#7. 使用iloc索引访问\n",
    "df.iloc[1]"
   ]
  },
  {
   "cell_type": "code",
   "execution_count": null,
   "metadata": {},
   "outputs": [],
   "source": [
    "#8. 使用字典索引方式查列\n",
    "df['bWendy']\n",
    "df['bWendy','yWendy']"
   ]
  },
  {
   "cell_type": "markdown",
   "metadata": {},
   "source": [
    "### 增"
   ]
  },
  {
   "cell_type": "code",
   "execution_count": 59,
   "metadata": {},
   "outputs": [
    {
     "data": {
      "text/html": [
       "<div>\n",
       "<style scoped>\n",
       "    .dataframe tbody tr th:only-of-type {\n",
       "        vertical-align: middle;\n",
       "    }\n",
       "\n",
       "    .dataframe tbody tr th {\n",
       "        vertical-align: top;\n",
       "    }\n",
       "\n",
       "    .dataframe thead th {\n",
       "        text-align: right;\n",
       "    }\n",
       "</style>\n",
       "<table border=\"1\" class=\"dataframe\">\n",
       "  <thead>\n",
       "    <tr style=\"text-align: right;\">\n",
       "      <th></th>\n",
       "      <th>A</th>\n",
       "    </tr>\n",
       "  </thead>\n",
       "  <tbody>\n",
       "    <tr>\n",
       "      <th>0</th>\n",
       "      <td>0</td>\n",
       "    </tr>\n",
       "    <tr>\n",
       "      <th>1</th>\n",
       "      <td>1</td>\n",
       "    </tr>\n",
       "    <tr>\n",
       "      <th>2</th>\n",
       "      <td>2</td>\n",
       "    </tr>\n",
       "    <tr>\n",
       "      <th>3</th>\n",
       "      <td>3</td>\n",
       "    </tr>\n",
       "    <tr>\n",
       "      <th>4</th>\n",
       "      <td>4</td>\n",
       "    </tr>\n",
       "  </tbody>\n",
       "</table>\n",
       "</div>"
      ],
      "text/plain": [
       "   A\n",
       "0  0\n",
       "1  1\n",
       "2  2\n",
       "3  3\n",
       "4  4"
      ]
     },
     "execution_count": 59,
     "metadata": {},
     "output_type": "execute_result"
    }
   ],
   "source": [
    "#使用concat()\n",
    "df = pd.concat([pd.DataFrame([i],columns=['A']) for i in range(5)],\n",
    "         ignore_index=True\n",
    "         )\n",
    "df"
   ]
  },
  {
   "cell_type": "code",
   "execution_count": 20,
   "metadata": {
    "scrolled": false
   },
   "outputs": [
    {
     "name": "stdout",
     "output_type": "stream",
     "text": [
      "     Name  Age\n",
      "s1    Tom   28\n",
      "s2   Jack   34\n",
      "s3  Steve   29\n",
      "s4  Ricky   42\n"
     ]
    }
   ],
   "source": [
    "#使用字典赋值的方式\n",
    "data = {'Name':['Tom','Jack','Steve','Ricky'],'Age':[28,34,29,42]}\n",
    "df = pd.DataFrame(data,index=['s1','s2','s3','s4'])\n",
    "print(df)\t#查看当前dataframe\n",
    "#通过字典赋值的方式添加列及列元素\n",
    "df['score']=pd.Series([10,20,30,40],index=df.index)"
   ]
  },
  {
   "cell_type": "markdown",
   "metadata": {},
   "source": [
    "### 删"
   ]
  },
  {
   "cell_type": "code",
   "execution_count": null,
   "metadata": {},
   "outputs": [],
   "source": [
    "#删除掉有空值的行/列\n",
    "#参数：how='any'表示只要有空值就删除掉\n",
    "#删除数据时一定遵循copy()原则，保留原数据\n",
    "df = df.dropna(how='any').copy()"
   ]
  },
  {
   "cell_type": "markdown",
   "metadata": {},
   "source": [
    "### 改"
   ]
  },
  {
   "cell_type": "code",
   "execution_count": null,
   "metadata": {},
   "outputs": [],
   "source": [
    "#使用重新赋值的方式\n",
    "df['InvoiceDate'] = df['InvoieDate'].dt.date"
   ]
  },
  {
   "cell_type": "markdown",
   "metadata": {},
   "source": [
    "### pandas操作excel"
   ]
  },
  {
   "cell_type": "code",
   "execution_count": 34,
   "metadata": {},
   "outputs": [],
   "source": [
    "#当前需要拆分的excel所在目录\n",
    "work_dir = './mayipandas_files/course_datas/c15_excel_split_merge'\n",
    "#将拆分后的excel放到该目录下\n",
    "splits_dir = f'{work_dir}/splits'\n",
    "\n",
    "import os\n",
    "if not os.path.exists(splits_dir):\n",
    "    os.mkdir(splits_dir)"
   ]
  },
  {
   "cell_type": "code",
   "execution_count": 35,
   "metadata": {},
   "outputs": [],
   "source": [
    "import pandas as pd\n",
    "\n",
    "#读取原excel到pandas\n",
    "df_source = pd.read_excel(f'{work_dir}/crazyant_blog_articles_source.xlsx')"
   ]
  },
  {
   "cell_type": "code",
   "execution_count": 36,
   "metadata": {},
   "outputs": [
    {
     "data": {
      "text/html": [
       "<div>\n",
       "<style scoped>\n",
       "    .dataframe tbody tr th:only-of-type {\n",
       "        vertical-align: middle;\n",
       "    }\n",
       "\n",
       "    .dataframe tbody tr th {\n",
       "        vertical-align: top;\n",
       "    }\n",
       "\n",
       "    .dataframe thead th {\n",
       "        text-align: right;\n",
       "    }\n",
       "</style>\n",
       "<table border=\"1\" class=\"dataframe\">\n",
       "  <thead>\n",
       "    <tr style=\"text-align: right;\">\n",
       "      <th></th>\n",
       "      <th>id</th>\n",
       "      <th>title</th>\n",
       "      <th>tags</th>\n",
       "    </tr>\n",
       "  </thead>\n",
       "  <tbody>\n",
       "    <tr>\n",
       "      <th>0</th>\n",
       "      <td>2585</td>\n",
       "      <td>Tensorflow怎样接收变长列表特征</td>\n",
       "      <td>python,tensorflow,特征工程</td>\n",
       "    </tr>\n",
       "    <tr>\n",
       "      <th>1</th>\n",
       "      <td>2583</td>\n",
       "      <td>Pandas实现数据的合并concat</td>\n",
       "      <td>pandas,python,数据分析</td>\n",
       "    </tr>\n",
       "    <tr>\n",
       "      <th>2</th>\n",
       "      <td>2574</td>\n",
       "      <td>Pandas的Index索引有什么用途？</td>\n",
       "      <td>pandas,python,数据分析</td>\n",
       "    </tr>\n",
       "    <tr>\n",
       "      <th>3</th>\n",
       "      <td>2564</td>\n",
       "      <td>机器学习常用数据集大全</td>\n",
       "      <td>python,机器学习</td>\n",
       "    </tr>\n",
       "    <tr>\n",
       "      <th>4</th>\n",
       "      <td>2561</td>\n",
       "      <td>一个数据科学家的修炼路径</td>\n",
       "      <td>数据分析</td>\n",
       "    </tr>\n",
       "  </tbody>\n",
       "</table>\n",
       "</div>"
      ],
      "text/plain": [
       "     id                 title                    tags\n",
       "0  2585  Tensorflow怎样接收变长列表特征  python,tensorflow,特征工程\n",
       "1  2583   Pandas实现数据的合并concat      pandas,python,数据分析\n",
       "2  2574  Pandas的Index索引有什么用途？      pandas,python,数据分析\n",
       "3  2564           机器学习常用数据集大全             python,机器学习\n",
       "4  2561          一个数据科学家的修炼路径                    数据分析"
      ]
     },
     "execution_count": 36,
     "metadata": {},
     "output_type": "execute_result"
    }
   ],
   "source": [
    "df_source.head()"
   ]
  },
  {
   "cell_type": "code",
   "execution_count": 37,
   "metadata": {},
   "outputs": [
    {
     "data": {
      "text/plain": [
       "RangeIndex(start=0, stop=258, step=1)"
      ]
     },
     "execution_count": 37,
     "metadata": {},
     "output_type": "execute_result"
    }
   ],
   "source": [
    "#查看行索引\n",
    "df_source.index"
   ]
  },
  {
   "cell_type": "code",
   "execution_count": 38,
   "metadata": {},
   "outputs": [
    {
     "data": {
      "text/plain": [
       "(258, 3)"
      ]
     },
     "execution_count": 38,
     "metadata": {},
     "output_type": "execute_result"
    }
   ],
   "source": [
    "#查看维度\n",
    "df_source.shape"
   ]
  },
  {
   "cell_type": "code",
   "execution_count": 39,
   "metadata": {},
   "outputs": [
    {
     "data": {
      "text/plain": [
       "258"
      ]
     },
     "execution_count": 39,
     "metadata": {},
     "output_type": "execute_result"
    }
   ],
   "source": [
    "#获取excel总行数\n",
    "total_row_count = df_source.shape[0]\n",
    "total_row_count"
   ]
  },
  {
   "cell_type": "markdown",
   "metadata": {},
   "source": [
    "#### 拆分excel"
   ]
  },
  {
   "cell_type": "code",
   "execution_count": 40,
   "metadata": {},
   "outputs": [
    {
     "data": {
      "text/plain": [
       "43"
      ]
     },
     "execution_count": 40,
     "metadata": {},
     "output_type": "execute_result"
    }
   ],
   "source": [
    "#拆分给这６个人\n",
    "user_names = ['xiao_shuai','xiao_wang','xiao_ming','xiao_lei','xiao_bo','xiao_hong']\n",
    "#按行拆分成６份，让六个人去分，若不能整除则让前面的人都分担一行\n",
    "split_rows = total_row_count // len(user_names)\n",
    "if total_row_count % len(user_names) != 0:\n",
    "    split_rows += 1\n",
    "\n",
    "split_rows"
   ]
  },
  {
   "cell_type": "code",
   "execution_count": 44,
   "metadata": {},
   "outputs": [
    {
     "data": {
      "text/plain": [
       "[(0, 'xiao_shuai',       id                                    title  \\\n",
       "  0   2585                     Tensorflow怎样接收变长列表特征   \n",
       "  1   2583                      Pandas实现数据的合并concat   \n",
       "  2   2574                     Pandas的Index索引有什么用途？   \n",
       "  3   2564                              机器学习常用数据集大全   \n",
       "  4   2561                             一个数据科学家的修炼路径   \n",
       "  5   2546                       Pandas的axis参数怎么理解？   \n",
       "  6   2541                           Pandas怎样处理字符串？   \n",
       "  7   2536                         Pandas怎样对数据进行排序？   \n",
       "  8   2534               CTR预估：(标签-权重)列表类特征怎么输入到模型？   \n",
       "  9   2532                            Pandas对缺失值的处理   \n",
       "  10  2528     Pandas的SettingWithCopyWarning报警怎么回事？   \n",
       "  11  2525                    3分钟Python爬取9000张表情包图片   \n",
       "  12  2523                      Pandas系列 – 怎样新增数据列？   \n",
       "  13  2521                        Pandas系列 – 数据统计函数   \n",
       "  14  2517                   Pandas怎样根据码表更新ID对应的名称？   \n",
       "  15  2515                          Pandas怎样按条件删除行？   \n",
       "  16  2506                       Pandas系列-查询数据的5种方法   \n",
       "  17  2502            Pandas系列-DataFrame和Series数据结构   \n",
       "  18  2499             Pandas系列-读取csv/excel/mysql数据   \n",
       "  19  2469                   Spark使用Java开发遇到的那些类型错误   \n",
       "  20  2454                       推荐系统：实现文章相似推荐的简单实例   \n",
       "  21  2447        Spark使用word2vec训练item2vec实现内容相关推荐   \n",
       "  22  2434                Pandas中对轴axis=0和axis=1的理解   \n",
       "  23  2419              Flask使用Pyecharts在单个页面展示多个图表   \n",
       "  24  2404                              听樊登的《非暴力沟通》   \n",
       "  25  2367  Java和Python使用Grpc访问Tensorflow的Serving代码   \n",
       "  26  2351                          推荐系统：怎样实现内容相似推荐   \n",
       "  27  2343        Flask怎样从其他Python文件导入app.route视图函数   \n",
       "  28  2336                             我为什么从工程转了算法？   \n",
       "  29  2324                         推荐系统：爱奇艺知识推荐系统架构   \n",
       "  30  2303            Spark使用JAVA编写自定义函数修改DataFrame   \n",
       "  31  2301                   tensorflow怎样输入具有多个值的特征   \n",
       "  32  2283         Python3用scan和delete命令批量清理redis数据   \n",
       "  33  2273                   CentOS自己编译安装Python3的命令   \n",
       "  34  2261                 PyCharm开发PySpark程序的配置和实例   \n",
       "  35  2231                            Spark数据倾斜解决方法   \n",
       "  36  2194                        读书笔记 – 数据驱动从方法到实践   \n",
       "  37  2177              使用PaddlePaddle搭建卷积网络做文本数据分类   \n",
       "  38  2167                  使用Kmeans对Word2vec的输出做聚类   \n",
       "  39  2160                          Hive实现返回MAP的UDF   \n",
       "  40  2150                             Python高级编程技巧   \n",
       "  41  2145                      快速找到Tomcat中最耗CPU的线程   \n",
       "  42  2124              Java线程池ThreadPoolExecutor详解   \n",
       "  \n",
       "                                tags  \n",
       "  0           python,tensorflow,特征工程  \n",
       "  1               pandas,python,数据分析  \n",
       "  2               pandas,python,数据分析  \n",
       "  3                      python,机器学习  \n",
       "  4                             数据分析  \n",
       "  5               pandas,python,数据分析  \n",
       "  6               pandas,python,数据分析  \n",
       "  7               pandas,python,数据分析  \n",
       "  8                      python,机器学习  \n",
       "  9               pandas,python,数据分析  \n",
       "  10              pandas,python,数据分析  \n",
       "  11                       python,爬虫  \n",
       "  12                   pandas,python  \n",
       "  13              pandas,python,数据分析  \n",
       "  14                          pandas  \n",
       "  15                   pandas,python  \n",
       "  16              pandas,python,数据分析  \n",
       "  17              pandas,python,数据分析  \n",
       "  18              pandas,python,数据分析  \n",
       "  19                      java,spark  \n",
       "  20      pandas,python,sklearn,推荐系统  \n",
       "  21              item2vec,java,推荐系统  \n",
       "  22                   pandas,python  \n",
       "  23  echarts,flask,pyecharts,python  \n",
       "  24                            程序人生  \n",
       "  25          java,python,tensorflow  \n",
       "  26                            推荐系统  \n",
       "  27                    flask,python  \n",
       "  28                     大数据,程序人生,算法  \n",
       "  29                            推荐系统  \n",
       "  30                java,mysql,spark  \n",
       "  31               python,tensorflow  \n",
       "  32                    python,redis  \n",
       "  33                    python,shell  \n",
       "  34            pyspark,python,spark  \n",
       "  35                           spark  \n",
       "  36                   人工智能,大数据,数据驱动  \n",
       "  37               paddlepaddle,机器学习  \n",
       "  38                         机器学习,聚类  \n",
       "  39                            hive  \n",
       "  40                          python  \n",
       "  41                 java,jvm,tomcat  \n",
       "  42                            java  ),\n",
       " (1,\n",
       "  'xiao_wang',\n",
       "        id                                              title  \\\n",
       "  43  2120                              Zookeeper并不保证读取的是最新数据   \n",
       "  44  2089                                Mybatis源码解读-初始化过程详解   \n",
       "  45  2076                               怎样借助Python爬虫给宝宝起个好名字   \n",
       "  46  2022                                 Mybatis源码解读-设计模式总结   \n",
       "  47  2012                                 打工者心态、主人公意识、个人公司品牌   \n",
       "  48  1980                           Tomcat内存分析相关方法(jmap和mat)   \n",
       "  49  1973                                  如此重要但是经常被忽视的代码架构！   \n",
       "  50  1964                          Stay hungry, Stay foolish   \n",
       "  51  1961                                MAC挂载NTFS移动硬盘进行读写操作   \n",
       "  52  1957                                         工程师的月亮和六便士   \n",
       "  53  1946                                  MAC环境堪比Visio的画图神器   \n",
       "  54  1931                      Log4j将不同Package的日志输出到不同的文件的方法   \n",
       "  55  1922                            数据处理中提升性能的方法-引入并发但是避免同步   \n",
       "  56  1901                       MySQL导入导出数据时遇到Tab符号和换行符号怎么办？   \n",
       "  57  1898                              使用PHPUnit编写PHP单元测试的方法   \n",
       "  58  1895                              Bash Shell怎样检查文件是否存在？   \n",
       "  59  1890                        Python使用unittest实现简单的单元测试实例   \n",
       "  60  1886                              将Maven工程打包成可执行JAR包的方法   \n",
       "  61  1861                                      Java线程死亡的几种情况   \n",
       "  62  1858                                 通过JVM堆栈分析出现大量线程的原因   \n",
       "  63  1835                                想要加悲观锁可是数据行还不存在怎么办？   \n",
       "  64  1810                  Java堆溢出OutOfMemoryError之代码实例和原因分析   \n",
       "  65  1789                          Python中文转拼音代码(支持全拼和首字母缩写)   \n",
       "  66  1784  使用javap命令或者eclipse的Bytecode visualizer插件阅读java...   \n",
       "  67  1782                                 Java怎样单测void类型的方法？   \n",
       "  68  1777                              《解忧杂货店》- 解答心中已经有结论的疑问   \n",
       "  69  1763                                  有了事务为什么还需要乐观锁和悲观锁   \n",
       "  70  1741                                       数据库并发控制机制的理解   \n",
       "  71  1735                                        读书破万卷，代码如有神   \n",
       "  72  1722           《Spring in action》3rd中SpringPizza项目的运行方法   \n",
       "  73  1712                                           做设计就像创世界   \n",
       "  74  1707                  Python使用list字段模式或者dict字段模式读取文件的方法   \n",
       "  75  1703                        Java怎样创建两个KEY（key-pair）的MAP   \n",
       "  76  1697                                           《超体》中的哲学   \n",
       "  77  1689                               Java枚举类型代码的二逼写法和艺术写法   \n",
       "  78  1664                                  Python操作MySQL视频教程   \n",
       "  79  1625                                      Hive开发经验问答式总结   \n",
       "  80  1607                       将普通Maven Spring项目转换成Web项目的方法   \n",
       "  81  1600                              Hive取非Group by字段数据的方法   \n",
       "  82  1587                         MySQL执行Select语句将结果导出到文件的方法   \n",
       "  83  1470  Hive的left join、left outer join和left semi join三...   \n",
       "  84  1465                                       将网站的创意变成钱的过程   \n",
       "  85  1459                                       从产品和技术的对比想到的   \n",
       "  \n",
       "                                tags  \n",
       "  43                       zookeeper  \n",
       "  44                         mybatis  \n",
       "  45                       python,爬虫  \n",
       "  46                    mybatis,设计模式  \n",
       "  47                            程序人生  \n",
       "  48                     java,tomcat  \n",
       "  49                            技术架构  \n",
       "  50                            程序人生  \n",
       "  51                             mac  \n",
       "  52                            程序人生  \n",
       "  53                             mac  \n",
       "  54                      java,log4j  \n",
       "  55  java,php,python,shell,大数据,数据处理  \n",
       "  56                    mysql,python  \n",
       "  57                             php  \n",
       "  58                     linux,shell  \n",
       "  59                       python,单测  \n",
       "  60                      java,maven  \n",
       "  61                            java  \n",
       "  62                        java,jvm  \n",
       "  63                       java,并发控制  \n",
       "  64                        java,jvm  \n",
       "  65                          python  \n",
       "  66                            java  \n",
       "  67                            java  \n",
       "  68                            程序人生  \n",
       "  69                       mysql,数据库  \n",
       "  70                              事务  \n",
       "  71                         java,阅读  \n",
       "  72                          spring  \n",
       "  73                         程序人生,设计  \n",
       "  74                          python  \n",
       "  75                            java  \n",
       "  76                              思考  \n",
       "  77                            java  \n",
       "  78                 mysql,python,视频  \n",
       "  79                            hive  \n",
       "  80                      java,maven  \n",
       "  81                            hive  \n",
       "  82                           mysql  \n",
       "  83                            hive  \n",
       "  84                              站长  \n",
       "  85                            程序人生  ),\n",
       " (2,\n",
       "  'xiao_ming',\n",
       "         id                                 title                     tags\n",
       "  86   1456          Hive中Order by和Sort by的区别是什么?                     hive\n",
       "  87   1451                      向Hive程序传递变量的三种方法                     hive\n",
       "  88   1440                       把HIVE程序优化30倍的经验                     hive\n",
       "  89   1437           Hive使用TRANSFORM运行Python脚本总结                     hive\n",
       "  90   1428                MySQL 查看数据库中每个表占用的空间大小                    mysql\n",
       "  91   1426       Java使用lombok自动生成getter和setter方法                     java\n",
       "  92   1423                   MapReduce文件切分个数计算方法                   hadoop\n",
       "  93   1413                        《大数据时代》是一部科幻小说                   hadoop\n",
       "  94   1409        [转]Hive中对group结果分组取limit N值的实现                     hive\n",
       "  95   1404                           HIVE的几个使用技巧                     hive\n",
       "  96   1397                      Python批量重命名文件的方法                   python\n",
       "  97   1390  Python内置函数map、reduce、filter在文本处理中的应用                   python\n",
       "  98   1372      chrome自动刷新网页插件：Auto Refresh Plus                   chrome\n",
       "  99   1355                     MySQL数据导入导出实例教程手册                    mysql\n",
       "  100  1345                     MySQL一条语句更新多个表的方法                    mysql\n",
       "  101  1337                      mysql根据A表更新B表的方法             mysql,python\n",
       "  102  1326           [织梦DEDE迁移]读取织梦MySQL生成所有文章链接                       织梦\n",
       "  103  1321                   Python访问MySQL封装的常用类             mysql,python\n",
       "  104  1319                    python执行shell的两种方法             python,shell\n",
       "  105  1309                       Python封装的常用日期函数                   python\n",
       "  106  1303                       python子类调用父类的方法                   python\n",
       "  107  1297               wordpress按层级方式显示分类链接的方法                wordpress\n",
       "  108  1292                       Firefox数据采集插件大全                  数据采集,爬虫\n",
       "  109  1216                    Python生成文件md5校验值函数                   python\n",
       "  110  1214  网站从织梦DEDECMS迁移到WordPress过程以及URL重定向方法                       织梦\n",
       "  111  1209             shell/hadoop/hive一些有用命令收集  hadoop,hive,mysql,shell\n",
       "  112  1203                      Hive开发中使用变量的两种方法                     hive\n",
       "  113  1197                 hive从查询中获取数据插入到表或动态分区                     hive\n",
       "  114  1193                  Hive元数据存于mysql中文乱码解决               hive,mysql\n",
       "  115  1185      为eclipse安装python、shell开发环境和SVN插件             python,shell\n",
       "  116  1144      hadoop第一个程序WordCount.java的编译运行过程                   hadoop\n",
       "  117  1129                   MYSQL向数据表插入默认字段值的方法                    mysql\n",
       "  118  1122         Hadoop-Streaming实战经验及问题解决方法总结                   hadoop\n",
       "  119  1112          Hadoop之使用python实现数据集合间join操作            hadoop,python\n",
       "  120  1094  Rational Rose根据Java代码自动生成类图（教程和错误解决）                     java\n",
       "  121  1088         MathType(数学公式编辑器) 汉化绿色版V6.7下载                 mathtype\n",
       "  122  1072                JSP使用JNA调用DLL函数遇到的几个问题                     java\n",
       "  123  1066                 读《疯狂的站长》- 回顾反思我的个人站长路                       站长\n",
       "  124  1064                      给计算机专业求职的同学推荐几本书                     程序人生\n",
       "  125  1061                        MySQL数据库存储过程教程                    mysql\n",
       "  126  1057                Magento获取指定分类下的所有子分类信息              magento,php\n",
       "  127  1055               WIN7使用VisualSVN建立SVN服务器                 svn,win7\n",
       "  128  1044            织梦DEDECMS简洁蓝色模板免费下载（资讯文章类）                       织梦),\n",
       " (3,\n",
       "  'xiao_lei',\n",
       "         id                                              title  \\\n",
       "  129  1036                                     Django基本命令最全收集   \n",
       "  130  1030                  2012年百度、腾讯、微软、奇虎360、人人、去哪网找工作经历总结   \n",
       "  131  1022                                 PHP对数组的高级遍历和操作处理方法   \n",
       "  132  1014                          使用PHP连接、操纵Memcached的原理和教程   \n",
       "  133  1005                    Django关于站点管理Admin Site的常见问题解决方法   \n",
       "  134  1001                对Django框架架构和Request/Response处理流程的分析   \n",
       "  135   970                                    PHP开发者最好的学习资源收集   \n",
       "  136   955     Ubuntu10.10 Server+Nginx+Django+Postgresql安装步骤   \n",
       "  137   930                      PHP和MySQL处理树状、分级、无限分类、分层数据的方法   \n",
       "  138   920                                  PHP创建和解析JSON数据的方法   \n",
       "  139   914                                程序员做开发，前台、后台、测试哪个累？   \n",
       "  140   912                             PHP的验证码实现（w3schools推荐）   \n",
       "  141   897                                    国外10个非常有趣的PHP博客   \n",
       "  142   886                                 PHP读写Word文件的最佳类库收集   \n",
       "  143   874                          2012年度读写Excel文件的最佳PHP类库收集   \n",
       "  144   855           使用Google搭建自己的SVN或Git或Mercurial代码服务器之完美教程   \n",
       "  145   821                          PHP远程操纵WordPress的方法(流程剖析）   \n",
       "  146   818                              Python模拟登陆新浪微博并实现投票功能   \n",
       "  147   814          Django中定制自己的User和Group管理模块（类似对admin的二次开发）   \n",
       "  148   811                 django1.4设置模板路径和CSS,JS,image等路径的方法   \n",
       "  149   808                              珠玑：在仔细研究数据的基础上得出程序的结构   \n",
       "  150   796             Python使用cookielib和urllib2模拟登陆新浪微博并抓取数据   \n",
       "  151   790                     《SEO实战密码》高清电子版PDF下载地址（SEO学习必备）   \n",
       "  152   781                              重装Win7后恢复和找回Ubuntu启动项   \n",
       "  153   756                            putty连接linux出现中文乱码的解决方法   \n",
       "  154   754  Ubuntu 安装 PostgreSQL 和 python-psycopg2基础教程（以及错...   \n",
       "  155   749                          eclipse远程发布代码的方法（SSH自动同步）   \n",
       "  156   747                         python在linux下安装方法（解决旧版本冲突）   \n",
       "  157   740                                    2012年度PHP最佳类库收集   \n",
       "  158   734                                  php判断远程文件或网站是否能打开   \n",
       "  159   731                PHP数据采集之使用CURL、DOMDocument和DOMXPath   \n",
       "  160   724                                   Python关于apply的知识   \n",
       "  161   722                        Python知识之什么是*args和**kwargs？   \n",
       "  162   717                   PHP魔法方法之__sleep()方法和__wakeup()方法   \n",
       "  163   712                                      Python中的操作符重载   \n",
       "  164   707                                 数据采集简单示例：采集爱帮网电话号码   \n",
       "  165   700                  数据采集技术之在Python中Libxml模块安装与使用XPath   \n",
       "  166   686                          Python操作Mysql实例代码教程（查询手册）   \n",
       "  167   678                     MySQL-python Windows下EXE安装文件下载   \n",
       "  168   675                                数据采集必备知识-php计划任务的实现   \n",
       "  169   658                                 个人博客SEO第一步-提交自己的网站   \n",
       "  170   655                                   情理之中又意料之外的超强减肥方法   \n",
       "  171   647                          新浪微博的mid转换成base62格式的PHP函数   \n",
       "  \n",
       "                      tags  \n",
       "  129        django,python  \n",
       "  130                 程序人生  \n",
       "  131                  php  \n",
       "  132    memcached,php,数据库  \n",
       "  133        django,python  \n",
       "  134        django,python  \n",
       "  135                  php  \n",
       "  136  django,ngnix,ubuntu  \n",
       "  137            mysql,php  \n",
       "  138             json,php  \n",
       "  139                 程序人生  \n",
       "  140              php,验证码  \n",
       "  141                  php  \n",
       "  142             php,word  \n",
       "  143            excel,php  \n",
       "  144              git,svn  \n",
       "  145        php,wordpress  \n",
       "  146            python,爬虫  \n",
       "  147        django,python  \n",
       "  148        django,python  \n",
       "  149                   算法  \n",
       "  150       python,模拟登陆,爬虫  \n",
       "  151                  seo  \n",
       "  152    linux,ubuntu,win7  \n",
       "  153        python,ubuntu  \n",
       "  154               ubuntu  \n",
       "  155       eclipse,python  \n",
       "  156         linux,python  \n",
       "  157                  php  \n",
       "  158                  php  \n",
       "  159               php,爬虫  \n",
       "  160               python  \n",
       "  161               python  \n",
       "  162                  php  \n",
       "  163               python  \n",
       "  164               php,爬虫  \n",
       "  165            python,爬虫  \n",
       "  166     mysql,python,数据库  \n",
       "  167               python  \n",
       "  168               php,爬虫  \n",
       "  169                  seo  \n",
       "  170                 程序人生  \n",
       "  171               php,爬虫  ),\n",
       " (4, 'xiao_bo',       id                                        title  \\\n",
       "  172  639        windows下PHP环境（apache,PHP,Mysql）详细配置方法   \n",
       "  173  636                          PHP100视频教程2012版解压密码   \n",
       "  174  629                     Redis+Mysql模式和内存+硬盘模式的异同   \n",
       "  175  611  Redis详细完整教程-windows下的安装、测试(php+redis+mysql)   \n",
       "  176  604            Windows Live Writer快捷方式（打开服务器文档等）   \n",
       "  177  600                              PHP字符串函数、知识要点总结   \n",
       "  178  591                             PHP数组使用、特性、函数的总结   \n",
       "  179  581                                  PHP对文件的操作总结   \n",
       "  180  576                            PHP操作符可变变量测试变量等总结   \n",
       "  181  548                                     有句话说的非常好   \n",
       "  182  545                       [C++]数据结构之堆-上滤下滤以及用于排序   \n",
       "  183  540                          C++拆分字符串代码（实现split）   \n",
       "  184  515                   看完这20部电影相当于学了经济学（投资理财必看电影）   \n",
       "  185  512          Adobe Dreamweaver CS6官方简体中文版安装+破解过程   \n",
       "  186  505               win7系统笔记本设置成虚拟WiFi热点（即“无线路由器”）   \n",
       "  187  502                  按大小拆分超大文件的方法（本文测试了一个62G的文件）   \n",
       "  188  499                            Dedecms备份还原网站有效方法   \n",
       "  189  495                    WIN7下硬盘安装Ubuntu 11.10系统成功   \n",
       "  190  491                          程序员找工作网啊站-计算机专业学生必看   \n",
       "  191  485                         被深深鄙视的2012找暑期实习，哥很伤心   \n",
       "  192  483                    phpmyadmin远程连接mysql数据库的方法   \n",
       "  193  480                           mysql用命令行链接远程主机的方法   \n",
       "  194  478                            c/c++批量向mysql插入数据   \n",
       "  195  471                     [站长]推荐一个网页分享按钮条插件JiaThis   \n",
       "  196  466                 [网址]在线转换编码-BASE64_URLENCODE等   \n",
       "  197  454                           [PHP]发送邮件方法介绍和代码示例   \n",
       "  198  449                 [C++]win32输出当前系统时间函数，可用以程序计时   \n",
       "  199  444            [转]office – word2010每次打开弹出配置框解决方法   \n",
       "  200  414    Linux下GCC和Makefile实例（从GCC的编译到Makefile的引入）   \n",
       "  201  410                                   让QT支持中文的方法   \n",
       "  202  408                           QT-creater一个非常棒的教程   \n",
       "  203  402           玩大灾变出现“igxprd32显示驱动程序已经停止正常工作”解决方法   \n",
       "  204  391                     在GATE工具中使用自己的XSD模式进行语义标注   \n",
       "  205  381                C++ Primer 4th：第九章 《顺序容器》学习心得   \n",
       "  206  259                       win7下快速硬盘安装ghost xp的方法   \n",
       "  207  254                               C++实现字符串与数字的连接   \n",
       "  208  251             c++字符集之间转换(UTF-8,UNICODE,Gb2312)   \n",
       "  209  245     数据采集利器-PHP用DOM方式处理HTML之《Simple HTML DOM》   \n",
       "  210  236                                  C++数组类型学习笔记   \n",
       "  211  234                           C++标准库string类型学习笔记   \n",
       "  212  224                               9个高质量图标的最佳搜索引擎   \n",
       "  213  219                        navicat-MySQL前台管理工具利器   \n",
       "  214  215                               17个非常有用的PHP类和库   \n",
       "  \n",
       "                           tags  \n",
       "  172  apache,mysql,php,windows  \n",
       "  173                       php  \n",
       "  174               mysql,redis  \n",
       "  175           mysql,php,redis  \n",
       "  176                 wordpress  \n",
       "  177                       php  \n",
       "  178                       php  \n",
       "  179                       php  \n",
       "  180                       php  \n",
       "  181                      程序人生  \n",
       "  182                       c++  \n",
       "  183                       c++  \n",
       "  184                      程序人生  \n",
       "  185               dreamweaver  \n",
       "  186                      win7  \n",
       "  187               linux,shell  \n",
       "  188                        织梦  \n",
       "  189               ubuntu,win7  \n",
       "  190                      程序人生  \n",
       "  191                      程序人生  \n",
       "  192                 mysql,php  \n",
       "  193                     mysql  \n",
       "  194                 c++,mysql  \n",
       "  195                        站长  \n",
       "  196                        算法  \n",
       "  197                 email,php  \n",
       "  198                       c++  \n",
       "  199               office,word  \n",
       "  200                     linux  \n",
       "  201                        qt  \n",
       "  202                        qt  \n",
       "  203                      魔兽世界  \n",
       "  204                      gate  \n",
       "  205                       c++  \n",
       "  206                      win7  \n",
       "  207                       c++  \n",
       "  208                       c++  \n",
       "  209                    php,爬虫  \n",
       "  210                       c++  \n",
       "  211                       c++  \n",
       "  212                        设计  \n",
       "  213                     mysql  \n",
       "  214                    php,类库  ),\n",
       " (5,\n",
       "  'xiao_hong',\n",
       "        id                                              title  \\\n",
       "  215  210                              使用DEDE的全国地区分类导入到其它CMS   \n",
       "  216  206                                         对自己将来的一些思考   \n",
       "  217  204                  推荐一个可以用u盘安装fedora,ubuntu等Linux的工具   \n",
       "  218  198                            ubuntu官方live cd和dvd下载地址   \n",
       "  219  195           非常好用的一款磁盘管理工具Acronis Disk Director Suite   \n",
       "  220  191                            jQuery圆角工具jQuery Corner   \n",
       "  221  179                                 筛选出来的常用jQuery幻灯片插件   \n",
       "  222  161                                   PHP-浏览器参数防注入检测函数   \n",
       "  223  159                                     PHP从checkbox取值   \n",
       "  224  157                            毕业设计出现的一个严重错误—-文件不能相互引用   \n",
       "  225  155                                  php函数-计算两个日期相差多少天   \n",
       "  226  153                                   Apache禁止目录访问方法介绍   \n",
       "  227  151                                       PHP操作EXCEL相关   \n",
       "  228  149                             phpexcel-自己写的几个非常好用的函数   \n",
       "  229  146                                Fckeditor-动态增减按钮的方法   \n",
       "  230  144                                           PHP验证码-类   \n",
       "  231  142                                  mysql-修改root密码的方法   \n",
       "  232  138                                获取服务器传来的数据-必须用JS去空格   \n",
       "  233  136                                      php实现当前用户在线人数   \n",
       "  234  134                                          网上选课系统-进度   \n",
       "  235  132                                             屏幕取色工具   \n",
       "  236  130                                     PHP-非常好用的文件操作类   \n",
       "  237  128                         PHP删除无限分类并同时删除它下面的所有子分类的方法   \n",
       "  238  126                                     PHP获取IP的多种方式解析   \n",
       "  239  124                              Javascript trim()函数实现   \n",
       "  240  122                                        PHP只下载不打开文件   \n",
       "  241  119                                  日期选择控件-date_input   \n",
       "  242  117                                       项目经历2-电子台账系统   \n",
       "  243  115                               删除记录之前-切记要检查是不是存在该记录   \n",
       "  244  113                          phpmyadmin无法加载mcrypt的解决方法   \n",
       "  245  111                      AJAX中文乱码PHP完美解决(IE和Firefox兼容)   \n",
       "  246  109                                         java环境变量配置   \n",
       "  247  107                                     PHP输出Excel实例代码   \n",
       "  248  105                                            PHP安全笔记   \n",
       "  249  103                                    文件下载代码-来自PBDigg   \n",
       "  250   99                                          PHP中文乱码解决   \n",
       "  251   97                  PHP IE下载时提示”无法复制 无法读取源文件或磁盘”的解决办法   \n",
       "  252   94                                          搜索关键词高亮显示   \n",
       "  253   91                                            vi编辑器命令   \n",
       "  254   87                      硬盘分区表丢失、修复大事记–分区表修复利器testdisk   \n",
       "  255   85                                     linux下禁止机箱蜂鸣方法   \n",
       "  256   83  当用header方法输出内容时出现“Cannot modify header informa...   \n",
       "  257   78                     JavaScript对Select的子元素Option的操作   \n",
       "  \n",
       "                       tags  \n",
       "  215                   php  \n",
       "  216                  程序人生  \n",
       "  217                 linux  \n",
       "  218                ubuntu  \n",
       "  219                  操作系统  \n",
       "  220                jquery  \n",
       "  221                jquery  \n",
       "  222                   php  \n",
       "  223                   php  \n",
       "  224                  程序人生  \n",
       "  225                   php  \n",
       "  226                apache  \n",
       "  227                   php  \n",
       "  228                   php  \n",
       "  229             fckeditor  \n",
       "  230                   php  \n",
       "  231                 mysql  \n",
       "  232            javascript  \n",
       "  233                   php  \n",
       "  234                  程序人生  \n",
       "  235                  工具软件  \n",
       "  236                   php  \n",
       "  237                   php  \n",
       "  238                   php  \n",
       "  239            javascript  \n",
       "  240                   php  \n",
       "  241            javascript  \n",
       "  242                  程序人生  \n",
       "  243                 mysql  \n",
       "  244  mysql,phpmyadmin,数据库  \n",
       "  245        javascript,php  \n",
       "  246                  java  \n",
       "  247             excel,php  \n",
       "  248                php,安全  \n",
       "  249                   php  \n",
       "  250                   php  \n",
       "  251                   php  \n",
       "  252            javascript  \n",
       "  253             linux,vim  \n",
       "  254                  操作系统  \n",
       "  255                 linux  \n",
       "  256                   php  \n",
       "  257            javascript  )]"
      ]
     },
     "execution_count": 44,
     "metadata": {},
     "output_type": "execute_result"
    }
   ],
   "source": [
    "#每个子dataframe的容器\n",
    "df_subs = []\n",
    "for idx,user_name in enumerate(user_names,start=0):\n",
    "    #每个子df的开始行索引\n",
    "    begin = idx * split_rows\n",
    "    #每个子df的结束行索引\n",
    "    end = begin + split_rows\n",
    "    #拆分iloc\n",
    "    df_sub = df_source.iloc[begin:end]\n",
    "    #将每个子df存入列表\n",
    "    df_subs.append((idx,user_name,df_sub))\n",
    "df_subs    "
   ]
  },
  {
   "cell_type": "code",
   "execution_count": 48,
   "metadata": {},
   "outputs": [],
   "source": [
    "#将每个子dataframe存入excel\n",
    "for idx,user_name,df_sub in df_subs:\n",
    "    #拼接存入的文件名\n",
    "    file_name = f'{splits_dir}/crazyant_blog_articles_{idx}_{user_name}.xlsx'\n",
    "    df_sub.to_excel(file_name,index=False)"
   ]
  },
  {
   "cell_type": "markdown",
   "metadata": {},
   "source": [
    "#### 合并excel"
   ]
  },
  {
   "cell_type": "markdown",
   "metadata": {},
   "source": [
    "1. 得到要合并的excel文件列表\n",
    "2. 分别读取到dataframe,给每个df添加一列用于标记来源\n",
    "3. 使用pd.concat进行df批量合并\n",
    "4. 将合并后的dataframe输出到excel"
   ]
  },
  {
   "cell_type": "code",
   "execution_count": 49,
   "metadata": {
    "scrolled": true
   },
   "outputs": [
    {
     "data": {
      "text/plain": [
       "['crazyant_blog_articles_5_xiao_hong.xlsx',\n",
       " 'crazyant_blog_articles_1_xiao_wang.xlsx',\n",
       " 'crazyant_blog_articles_4_xiao_bo.xlsx',\n",
       " 'crazyant_blog_articles_0_xiao_shuai.xlsx',\n",
       " 'crazyant_blog_articles_2_xiao_ming.xlsx',\n",
       " 'crazyant_blog_articles_3_xiao_lei.xlsx']"
      ]
     },
     "execution_count": 49,
     "metadata": {},
     "output_type": "execute_result"
    }
   ],
   "source": [
    "import os\n",
    "#第一步\n",
    "excel_names = os.listdir(splits_dir)\n",
    "excel_names"
   ]
  },
  {
   "cell_type": "code",
   "execution_count": 65,
   "metadata": {
    "scrolled": true
   },
   "outputs": [
    {
     "name": "stdout",
     "output_type": "stream",
     "text": [
      "crazyant_blog_articles_5_xiao_hong.xlsx xiao_hong\n",
      "crazyant_blog_articles_1_xiao_wang.xlsx xiao_wang\n",
      "crazyant_blog_articles_4_xiao_bo.xlsx 4_xiao_bo\n",
      "crazyant_blog_articles_0_xiao_shuai.xlsx iao_shuai\n",
      "crazyant_blog_articles_2_xiao_ming.xlsx xiao_ming\n",
      "crazyant_blog_articles_3_xiao_lei.xlsx _xiao_lei\n"
     ]
    },
    {
     "data": {
      "text/html": [
       "<div>\n",
       "<style scoped>\n",
       "    .dataframe tbody tr th:only-of-type {\n",
       "        vertical-align: middle;\n",
       "    }\n",
       "\n",
       "    .dataframe tbody tr th {\n",
       "        vertical-align: top;\n",
       "    }\n",
       "\n",
       "    .dataframe thead th {\n",
       "        text-align: right;\n",
       "    }\n",
       "</style>\n",
       "<table border=\"1\" class=\"dataframe\">\n",
       "  <thead>\n",
       "    <tr style=\"text-align: right;\">\n",
       "      <th></th>\n",
       "      <th>id</th>\n",
       "      <th>title</th>\n",
       "      <th>tags</th>\n",
       "      <th>username</th>\n",
       "    </tr>\n",
       "  </thead>\n",
       "  <tbody>\n",
       "    <tr>\n",
       "      <th>0</th>\n",
       "      <td>1036</td>\n",
       "      <td>Django基本命令最全收集</td>\n",
       "      <td>django,python</td>\n",
       "      <td>_xiao_lei</td>\n",
       "    </tr>\n",
       "    <tr>\n",
       "      <th>1</th>\n",
       "      <td>1030</td>\n",
       "      <td>2012年百度、腾讯、微软、奇虎360、人人、去哪网找工作经历总结</td>\n",
       "      <td>程序人生</td>\n",
       "      <td>_xiao_lei</td>\n",
       "    </tr>\n",
       "    <tr>\n",
       "      <th>2</th>\n",
       "      <td>1022</td>\n",
       "      <td>PHP对数组的高级遍历和操作处理方法</td>\n",
       "      <td>php</td>\n",
       "      <td>_xiao_lei</td>\n",
       "    </tr>\n",
       "    <tr>\n",
       "      <th>3</th>\n",
       "      <td>1014</td>\n",
       "      <td>使用PHP连接、操纵Memcached的原理和教程</td>\n",
       "      <td>memcached,php,数据库</td>\n",
       "      <td>_xiao_lei</td>\n",
       "    </tr>\n",
       "    <tr>\n",
       "      <th>4</th>\n",
       "      <td>1005</td>\n",
       "      <td>Django关于站点管理Admin Site的常见问题解决方法</td>\n",
       "      <td>django,python</td>\n",
       "      <td>_xiao_lei</td>\n",
       "    </tr>\n",
       "    <tr>\n",
       "      <th>5</th>\n",
       "      <td>1001</td>\n",
       "      <td>对Django框架架构和Request/Response处理流程的分析</td>\n",
       "      <td>django,python</td>\n",
       "      <td>_xiao_lei</td>\n",
       "    </tr>\n",
       "    <tr>\n",
       "      <th>6</th>\n",
       "      <td>970</td>\n",
       "      <td>PHP开发者最好的学习资源收集</td>\n",
       "      <td>php</td>\n",
       "      <td>_xiao_lei</td>\n",
       "    </tr>\n",
       "    <tr>\n",
       "      <th>7</th>\n",
       "      <td>955</td>\n",
       "      <td>Ubuntu10.10 Server+Nginx+Django+Postgresql安装步骤</td>\n",
       "      <td>django,ngnix,ubuntu</td>\n",
       "      <td>_xiao_lei</td>\n",
       "    </tr>\n",
       "    <tr>\n",
       "      <th>8</th>\n",
       "      <td>930</td>\n",
       "      <td>PHP和MySQL处理树状、分级、无限分类、分层数据的方法</td>\n",
       "      <td>mysql,php</td>\n",
       "      <td>_xiao_lei</td>\n",
       "    </tr>\n",
       "    <tr>\n",
       "      <th>9</th>\n",
       "      <td>920</td>\n",
       "      <td>PHP创建和解析JSON数据的方法</td>\n",
       "      <td>json,php</td>\n",
       "      <td>_xiao_lei</td>\n",
       "    </tr>\n",
       "    <tr>\n",
       "      <th>10</th>\n",
       "      <td>914</td>\n",
       "      <td>程序员做开发，前台、后台、测试哪个累？</td>\n",
       "      <td>程序人生</td>\n",
       "      <td>_xiao_lei</td>\n",
       "    </tr>\n",
       "    <tr>\n",
       "      <th>11</th>\n",
       "      <td>912</td>\n",
       "      <td>PHP的验证码实现（w3schools推荐）</td>\n",
       "      <td>php,验证码</td>\n",
       "      <td>_xiao_lei</td>\n",
       "    </tr>\n",
       "    <tr>\n",
       "      <th>12</th>\n",
       "      <td>897</td>\n",
       "      <td>国外10个非常有趣的PHP博客</td>\n",
       "      <td>php</td>\n",
       "      <td>_xiao_lei</td>\n",
       "    </tr>\n",
       "    <tr>\n",
       "      <th>13</th>\n",
       "      <td>886</td>\n",
       "      <td>PHP读写Word文件的最佳类库收集</td>\n",
       "      <td>php,word</td>\n",
       "      <td>_xiao_lei</td>\n",
       "    </tr>\n",
       "    <tr>\n",
       "      <th>14</th>\n",
       "      <td>874</td>\n",
       "      <td>2012年度读写Excel文件的最佳PHP类库收集</td>\n",
       "      <td>excel,php</td>\n",
       "      <td>_xiao_lei</td>\n",
       "    </tr>\n",
       "    <tr>\n",
       "      <th>15</th>\n",
       "      <td>855</td>\n",
       "      <td>使用Google搭建自己的SVN或Git或Mercurial代码服务器之完美教程</td>\n",
       "      <td>git,svn</td>\n",
       "      <td>_xiao_lei</td>\n",
       "    </tr>\n",
       "    <tr>\n",
       "      <th>16</th>\n",
       "      <td>821</td>\n",
       "      <td>PHP远程操纵WordPress的方法(流程剖析）</td>\n",
       "      <td>php,wordpress</td>\n",
       "      <td>_xiao_lei</td>\n",
       "    </tr>\n",
       "    <tr>\n",
       "      <th>17</th>\n",
       "      <td>818</td>\n",
       "      <td>Python模拟登陆新浪微博并实现投票功能</td>\n",
       "      <td>python,爬虫</td>\n",
       "      <td>_xiao_lei</td>\n",
       "    </tr>\n",
       "    <tr>\n",
       "      <th>18</th>\n",
       "      <td>814</td>\n",
       "      <td>Django中定制自己的User和Group管理模块（类似对admin的二次开发）</td>\n",
       "      <td>django,python</td>\n",
       "      <td>_xiao_lei</td>\n",
       "    </tr>\n",
       "    <tr>\n",
       "      <th>19</th>\n",
       "      <td>811</td>\n",
       "      <td>django1.4设置模板路径和CSS,JS,image等路径的方法</td>\n",
       "      <td>django,python</td>\n",
       "      <td>_xiao_lei</td>\n",
       "    </tr>\n",
       "    <tr>\n",
       "      <th>20</th>\n",
       "      <td>808</td>\n",
       "      <td>珠玑：在仔细研究数据的基础上得出程序的结构</td>\n",
       "      <td>算法</td>\n",
       "      <td>_xiao_lei</td>\n",
       "    </tr>\n",
       "    <tr>\n",
       "      <th>21</th>\n",
       "      <td>796</td>\n",
       "      <td>Python使用cookielib和urllib2模拟登陆新浪微博并抓取数据</td>\n",
       "      <td>python,模拟登陆,爬虫</td>\n",
       "      <td>_xiao_lei</td>\n",
       "    </tr>\n",
       "    <tr>\n",
       "      <th>22</th>\n",
       "      <td>790</td>\n",
       "      <td>《SEO实战密码》高清电子版PDF下载地址（SEO学习必备）</td>\n",
       "      <td>seo</td>\n",
       "      <td>_xiao_lei</td>\n",
       "    </tr>\n",
       "    <tr>\n",
       "      <th>23</th>\n",
       "      <td>781</td>\n",
       "      <td>重装Win7后恢复和找回Ubuntu启动项</td>\n",
       "      <td>linux,ubuntu,win7</td>\n",
       "      <td>_xiao_lei</td>\n",
       "    </tr>\n",
       "    <tr>\n",
       "      <th>24</th>\n",
       "      <td>756</td>\n",
       "      <td>putty连接linux出现中文乱码的解决方法</td>\n",
       "      <td>python,ubuntu</td>\n",
       "      <td>_xiao_lei</td>\n",
       "    </tr>\n",
       "    <tr>\n",
       "      <th>25</th>\n",
       "      <td>754</td>\n",
       "      <td>Ubuntu 安装 PostgreSQL 和 python-psycopg2基础教程（以及错...</td>\n",
       "      <td>ubuntu</td>\n",
       "      <td>_xiao_lei</td>\n",
       "    </tr>\n",
       "    <tr>\n",
       "      <th>26</th>\n",
       "      <td>749</td>\n",
       "      <td>eclipse远程发布代码的方法（SSH自动同步）</td>\n",
       "      <td>eclipse,python</td>\n",
       "      <td>_xiao_lei</td>\n",
       "    </tr>\n",
       "    <tr>\n",
       "      <th>27</th>\n",
       "      <td>747</td>\n",
       "      <td>python在linux下安装方法（解决旧版本冲突）</td>\n",
       "      <td>linux,python</td>\n",
       "      <td>_xiao_lei</td>\n",
       "    </tr>\n",
       "    <tr>\n",
       "      <th>28</th>\n",
       "      <td>740</td>\n",
       "      <td>2012年度PHP最佳类库收集</td>\n",
       "      <td>php</td>\n",
       "      <td>_xiao_lei</td>\n",
       "    </tr>\n",
       "    <tr>\n",
       "      <th>29</th>\n",
       "      <td>734</td>\n",
       "      <td>php判断远程文件或网站是否能打开</td>\n",
       "      <td>php</td>\n",
       "      <td>_xiao_lei</td>\n",
       "    </tr>\n",
       "    <tr>\n",
       "      <th>30</th>\n",
       "      <td>731</td>\n",
       "      <td>PHP数据采集之使用CURL、DOMDocument和DOMXPath</td>\n",
       "      <td>php,爬虫</td>\n",
       "      <td>_xiao_lei</td>\n",
       "    </tr>\n",
       "    <tr>\n",
       "      <th>31</th>\n",
       "      <td>724</td>\n",
       "      <td>Python关于apply的知识</td>\n",
       "      <td>python</td>\n",
       "      <td>_xiao_lei</td>\n",
       "    </tr>\n",
       "    <tr>\n",
       "      <th>32</th>\n",
       "      <td>722</td>\n",
       "      <td>Python知识之什么是*args和**kwargs？</td>\n",
       "      <td>python</td>\n",
       "      <td>_xiao_lei</td>\n",
       "    </tr>\n",
       "    <tr>\n",
       "      <th>33</th>\n",
       "      <td>717</td>\n",
       "      <td>PHP魔法方法之__sleep()方法和__wakeup()方法</td>\n",
       "      <td>php</td>\n",
       "      <td>_xiao_lei</td>\n",
       "    </tr>\n",
       "    <tr>\n",
       "      <th>34</th>\n",
       "      <td>712</td>\n",
       "      <td>Python中的操作符重载</td>\n",
       "      <td>python</td>\n",
       "      <td>_xiao_lei</td>\n",
       "    </tr>\n",
       "    <tr>\n",
       "      <th>35</th>\n",
       "      <td>707</td>\n",
       "      <td>数据采集简单示例：采集爱帮网电话号码</td>\n",
       "      <td>php,爬虫</td>\n",
       "      <td>_xiao_lei</td>\n",
       "    </tr>\n",
       "    <tr>\n",
       "      <th>36</th>\n",
       "      <td>700</td>\n",
       "      <td>数据采集技术之在Python中Libxml模块安装与使用XPath</td>\n",
       "      <td>python,爬虫</td>\n",
       "      <td>_xiao_lei</td>\n",
       "    </tr>\n",
       "    <tr>\n",
       "      <th>37</th>\n",
       "      <td>686</td>\n",
       "      <td>Python操作Mysql实例代码教程（查询手册）</td>\n",
       "      <td>mysql,python,数据库</td>\n",
       "      <td>_xiao_lei</td>\n",
       "    </tr>\n",
       "    <tr>\n",
       "      <th>38</th>\n",
       "      <td>678</td>\n",
       "      <td>MySQL-python Windows下EXE安装文件下载</td>\n",
       "      <td>python</td>\n",
       "      <td>_xiao_lei</td>\n",
       "    </tr>\n",
       "    <tr>\n",
       "      <th>39</th>\n",
       "      <td>675</td>\n",
       "      <td>数据采集必备知识-php计划任务的实现</td>\n",
       "      <td>php,爬虫</td>\n",
       "      <td>_xiao_lei</td>\n",
       "    </tr>\n",
       "    <tr>\n",
       "      <th>40</th>\n",
       "      <td>658</td>\n",
       "      <td>个人博客SEO第一步-提交自己的网站</td>\n",
       "      <td>seo</td>\n",
       "      <td>_xiao_lei</td>\n",
       "    </tr>\n",
       "    <tr>\n",
       "      <th>41</th>\n",
       "      <td>655</td>\n",
       "      <td>情理之中又意料之外的超强减肥方法</td>\n",
       "      <td>程序人生</td>\n",
       "      <td>_xiao_lei</td>\n",
       "    </tr>\n",
       "    <tr>\n",
       "      <th>42</th>\n",
       "      <td>647</td>\n",
       "      <td>新浪微博的mid转换成base62格式的PHP函数</td>\n",
       "      <td>php,爬虫</td>\n",
       "      <td>_xiao_lei</td>\n",
       "    </tr>\n",
       "  </tbody>\n",
       "</table>\n",
       "</div>"
      ],
      "text/plain": [
       "      id                                              title  \\\n",
       "0   1036                                     Django基本命令最全收集   \n",
       "1   1030                  2012年百度、腾讯、微软、奇虎360、人人、去哪网找工作经历总结   \n",
       "2   1022                                 PHP对数组的高级遍历和操作处理方法   \n",
       "3   1014                          使用PHP连接、操纵Memcached的原理和教程   \n",
       "4   1005                    Django关于站点管理Admin Site的常见问题解决方法   \n",
       "5   1001                对Django框架架构和Request/Response处理流程的分析   \n",
       "6    970                                    PHP开发者最好的学习资源收集   \n",
       "7    955     Ubuntu10.10 Server+Nginx+Django+Postgresql安装步骤   \n",
       "8    930                      PHP和MySQL处理树状、分级、无限分类、分层数据的方法   \n",
       "9    920                                  PHP创建和解析JSON数据的方法   \n",
       "10   914                                程序员做开发，前台、后台、测试哪个累？   \n",
       "11   912                             PHP的验证码实现（w3schools推荐）   \n",
       "12   897                                    国外10个非常有趣的PHP博客   \n",
       "13   886                                 PHP读写Word文件的最佳类库收集   \n",
       "14   874                          2012年度读写Excel文件的最佳PHP类库收集   \n",
       "15   855           使用Google搭建自己的SVN或Git或Mercurial代码服务器之完美教程   \n",
       "16   821                          PHP远程操纵WordPress的方法(流程剖析）   \n",
       "17   818                              Python模拟登陆新浪微博并实现投票功能   \n",
       "18   814          Django中定制自己的User和Group管理模块（类似对admin的二次开发）   \n",
       "19   811                 django1.4设置模板路径和CSS,JS,image等路径的方法   \n",
       "20   808                              珠玑：在仔细研究数据的基础上得出程序的结构   \n",
       "21   796             Python使用cookielib和urllib2模拟登陆新浪微博并抓取数据   \n",
       "22   790                     《SEO实战密码》高清电子版PDF下载地址（SEO学习必备）   \n",
       "23   781                              重装Win7后恢复和找回Ubuntu启动项   \n",
       "24   756                            putty连接linux出现中文乱码的解决方法   \n",
       "25   754  Ubuntu 安装 PostgreSQL 和 python-psycopg2基础教程（以及错...   \n",
       "26   749                          eclipse远程发布代码的方法（SSH自动同步）   \n",
       "27   747                         python在linux下安装方法（解决旧版本冲突）   \n",
       "28   740                                    2012年度PHP最佳类库收集   \n",
       "29   734                                  php判断远程文件或网站是否能打开   \n",
       "30   731                PHP数据采集之使用CURL、DOMDocument和DOMXPath   \n",
       "31   724                                   Python关于apply的知识   \n",
       "32   722                        Python知识之什么是*args和**kwargs？   \n",
       "33   717                   PHP魔法方法之__sleep()方法和__wakeup()方法   \n",
       "34   712                                      Python中的操作符重载   \n",
       "35   707                                 数据采集简单示例：采集爱帮网电话号码   \n",
       "36   700                  数据采集技术之在Python中Libxml模块安装与使用XPath   \n",
       "37   686                          Python操作Mysql实例代码教程（查询手册）   \n",
       "38   678                     MySQL-python Windows下EXE安装文件下载   \n",
       "39   675                                数据采集必备知识-php计划任务的实现   \n",
       "40   658                                 个人博客SEO第一步-提交自己的网站   \n",
       "41   655                                   情理之中又意料之外的超强减肥方法   \n",
       "42   647                          新浪微博的mid转换成base62格式的PHP函数   \n",
       "\n",
       "                   tags   username  \n",
       "0         django,python  _xiao_lei  \n",
       "1                  程序人生  _xiao_lei  \n",
       "2                   php  _xiao_lei  \n",
       "3     memcached,php,数据库  _xiao_lei  \n",
       "4         django,python  _xiao_lei  \n",
       "5         django,python  _xiao_lei  \n",
       "6                   php  _xiao_lei  \n",
       "7   django,ngnix,ubuntu  _xiao_lei  \n",
       "8             mysql,php  _xiao_lei  \n",
       "9              json,php  _xiao_lei  \n",
       "10                 程序人生  _xiao_lei  \n",
       "11              php,验证码  _xiao_lei  \n",
       "12                  php  _xiao_lei  \n",
       "13             php,word  _xiao_lei  \n",
       "14            excel,php  _xiao_lei  \n",
       "15              git,svn  _xiao_lei  \n",
       "16        php,wordpress  _xiao_lei  \n",
       "17            python,爬虫  _xiao_lei  \n",
       "18        django,python  _xiao_lei  \n",
       "19        django,python  _xiao_lei  \n",
       "20                   算法  _xiao_lei  \n",
       "21       python,模拟登陆,爬虫  _xiao_lei  \n",
       "22                  seo  _xiao_lei  \n",
       "23    linux,ubuntu,win7  _xiao_lei  \n",
       "24        python,ubuntu  _xiao_lei  \n",
       "25               ubuntu  _xiao_lei  \n",
       "26       eclipse,python  _xiao_lei  \n",
       "27         linux,python  _xiao_lei  \n",
       "28                  php  _xiao_lei  \n",
       "29                  php  _xiao_lei  \n",
       "30               php,爬虫  _xiao_lei  \n",
       "31               python  _xiao_lei  \n",
       "32               python  _xiao_lei  \n",
       "33                  php  _xiao_lei  \n",
       "34               python  _xiao_lei  \n",
       "35               php,爬虫  _xiao_lei  \n",
       "36            python,爬虫  _xiao_lei  \n",
       "37     mysql,python,数据库  _xiao_lei  \n",
       "38               python  _xiao_lei  \n",
       "39               php,爬虫  _xiao_lei  \n",
       "40                  seo  _xiao_lei  \n",
       "41                 程序人生  _xiao_lei  \n",
       "42               php,爬虫  _xiao_lei  "
      ]
     },
     "execution_count": 65,
     "metadata": {},
     "output_type": "execute_result"
    }
   ],
   "source": [
    "#第二步\n",
    "#放读取出来的excel的dataframe的容器\n",
    "df_list = []\n",
    "for excel_name in excel_names:\n",
    "    #读取excel到dataframe\n",
    "    excel_path = f'{splits_dir}/{excel_name}'\n",
    "    excel_df = pd.read_excel(excel_path)\n",
    "    #获取username,作为一列添加到excel中\n",
    "    username = excel_name[-14:-5]\n",
    "    print(excel_name,username)\n",
    "    excel_df['username'] = username\n",
    "    \n",
    "    #将df添加到容器中\n",
    "    df_list.append(excel_df)\n",
    "excel_df"
   ]
  },
  {
   "cell_type": "code",
   "execution_count": 60,
   "metadata": {},
   "outputs": [],
   "source": [
    "#第三步：使用pd.concat()合并各df\n",
    "df_merged = pd.concat(df_list)"
   ]
  },
  {
   "cell_type": "code",
   "execution_count": 61,
   "metadata": {},
   "outputs": [
    {
     "data": {
      "text/plain": [
       "(258, 4)"
      ]
     },
     "execution_count": 61,
     "metadata": {},
     "output_type": "execute_result"
    }
   ],
   "source": [
    "df_merged.shape"
   ]
  },
  {
   "cell_type": "code",
   "execution_count": 62,
   "metadata": {},
   "outputs": [
    {
     "data": {
      "text/html": [
       "<div>\n",
       "<style scoped>\n",
       "    .dataframe tbody tr th:only-of-type {\n",
       "        vertical-align: middle;\n",
       "    }\n",
       "\n",
       "    .dataframe tbody tr th {\n",
       "        vertical-align: top;\n",
       "    }\n",
       "\n",
       "    .dataframe thead th {\n",
       "        text-align: right;\n",
       "    }\n",
       "</style>\n",
       "<table border=\"1\" class=\"dataframe\">\n",
       "  <thead>\n",
       "    <tr style=\"text-align: right;\">\n",
       "      <th></th>\n",
       "      <th>A</th>\n",
       "    </tr>\n",
       "  </thead>\n",
       "  <tbody>\n",
       "    <tr>\n",
       "      <th>0</th>\n",
       "      <td>0</td>\n",
       "    </tr>\n",
       "    <tr>\n",
       "      <th>1</th>\n",
       "      <td>1</td>\n",
       "    </tr>\n",
       "    <tr>\n",
       "      <th>2</th>\n",
       "      <td>2</td>\n",
       "    </tr>\n",
       "    <tr>\n",
       "      <th>3</th>\n",
       "      <td>3</td>\n",
       "    </tr>\n",
       "    <tr>\n",
       "      <th>4</th>\n",
       "      <td>4</td>\n",
       "    </tr>\n",
       "  </tbody>\n",
       "</table>\n",
       "</div>"
      ],
      "text/plain": [
       "   A\n",
       "0  0\n",
       "1  1\n",
       "2  2\n",
       "3  3\n",
       "4  4"
      ]
     },
     "execution_count": 62,
     "metadata": {},
     "output_type": "execute_result"
    }
   ],
   "source": [
    "df.head()"
   ]
  },
  {
   "cell_type": "code",
   "execution_count": 66,
   "metadata": {},
   "outputs": [
    {
     "data": {
      "text/plain": [
       "xiao_ming    43\n",
       "xiao_wang    43\n",
       "4_xiao_bo    43\n",
       "xiao_hong    43\n",
       "iao_shuai    43\n",
       "_xiao_lei    43\n",
       "Name: username, dtype: int64"
      ]
     },
     "execution_count": 66,
     "metadata": {},
     "output_type": "execute_result"
    }
   ],
   "source": [
    "df_merged['username'].value_counts()"
   ]
  },
  {
   "cell_type": "code",
   "execution_count": 68,
   "metadata": {},
   "outputs": [],
   "source": [
    "#第四步：将合并后的df保存成excel\n",
    "df_merged.to_excel(f'{work_dir}/crazyan_blog_articles_merged.xlsx',index=False)"
   ]
  },
  {
   "cell_type": "markdown",
   "metadata": {},
   "source": [
    "#### MultiIndex"
   ]
  },
  {
   "cell_type": "code",
   "execution_count": null,
   "metadata": {},
   "outputs": [],
   "source": [
    "new_df.index.names"
   ]
  },
  {
   "cell_type": "markdown",
   "metadata": {},
   "source": [
    "## pandas数据类型：DateTimeIndex"
   ]
  },
  {
   "cell_type": "markdown",
   "metadata": {},
   "source": [
    "常用于创建日期序列,通过指定周期和频率(年月日)\n",
    "default的频率是天"
   ]
  },
  {
   "cell_type": "code",
   "execution_count": null,
   "metadata": {},
   "outputs": [],
   "source": [
    "import pandas as pd\n",
    "\n",
    "#以日期为频率创建日期序列\n",
    "datelist = pd.date_range('2019/08/21',periods=5)\n",
    "datelist"
   ]
  },
  {
   "cell_type": "code",
   "execution_count": null,
   "metadata": {},
   "outputs": [],
   "source": [
    "#以月为频率\n",
    "datelist = pd.date_range('2019/08/21',periods=5,freq='M')\n",
    "datelist"
   ]
  },
  {
   "cell_type": "code",
   "execution_count": null,
   "metadata": {},
   "outputs": [],
   "source": [
    "#构建某个区间的时间序列\n",
    "start = pd.datetime(2017,11,1)\n",
    "end = pd.datetime(2017,11,5)\n",
    "dates = pd.date_range(start,end)\n",
    "dates"
   ]
  },
  {
   "cell_type": "code",
   "execution_count": null,
   "metadata": {},
   "outputs": [],
   "source": []
  },
  {
   "cell_type": "markdown",
   "metadata": {},
   "source": [
    "## panel"
   ]
  },
  {
   "cell_type": "markdown",
   "metadata": {},
   "source": [
    "### pandas从版本0.20.0开始弃用它，推荐使用DataFrame的MultiIndex方法表示三维数据"
   ]
  },
  {
   "cell_type": "markdown",
   "metadata": {},
   "source": [
    "用于存储三维结构的数据类型，通常将panel看成dataframe的容器\n",
    "有三个维度：\n",
    "items -axis 0 每个项目对应于内部包含的数据帧(DataFrame)\n",
    "major_axis - axis 1,它是每个数据帧(DataFrame)的行索引\n",
    "minor_axis -axis 2,它是每个数据帧(DataFrame)的列索引"
   ]
  },
  {
   "cell_type": "code",
   "execution_count": 17,
   "metadata": {
    "scrolled": true
   },
   "outputs": [
    {
     "ename": "TypeError",
     "evalue": "object() takes no parameters",
     "output_type": "error",
     "traceback": [
      "\u001b[0;31m------------------------------------------------------------------\u001b[0m",
      "\u001b[0;31mTypeError\u001b[0m                        Traceback (most recent call last)",
      "\u001b[0;32m<ipython-input-17-665c7569c23e>\u001b[0m in \u001b[0;36m<module>\u001b[0;34m()\u001b[0m\n\u001b[1;32m      5\u001b[0m             \u001b[0mitems\u001b[0m\u001b[0;34m=\u001b[0m\u001b[0mlist\u001b[0m\u001b[0;34m(\u001b[0m\u001b[0;34m'ABCD'\u001b[0m\u001b[0;34m)\u001b[0m\u001b[0;34m,\u001b[0m    \u001b[0;31m#第一维标签\u001b[0m\u001b[0;34m\u001b[0m\u001b[0;34m\u001b[0m\u001b[0m\n\u001b[1;32m      6\u001b[0m             \u001b[0mmajor_axis\u001b[0m\u001b[0;34m=\u001b[0m\u001b[0mpd\u001b[0m\u001b[0;34m.\u001b[0m\u001b[0mdate_range\u001b[0m\u001b[0;34m(\u001b[0m\u001b[0;34m'20130101'\u001b[0m\u001b[0;34m,\u001b[0m\u001b[0mperiods\u001b[0m\u001b[0;34m=\u001b[0m\u001b[0;36m3\u001b[0m\u001b[0;34m)\u001b[0m\u001b[0;34m,\u001b[0m\u001b[0;31m#第二维标签\u001b[0m\u001b[0;34m\u001b[0m\u001b[0;34m\u001b[0m\u001b[0m\n\u001b[0;32m----> 7\u001b[0;31m             \u001b[0mminor_axis\u001b[0m\u001b[0;34m=\u001b[0m\u001b[0;34m[\u001b[0m\u001b[0;34m'first'\u001b[0m\u001b[0;34m,\u001b[0m\u001b[0;34m'second'\u001b[0m\u001b[0;34m]\u001b[0m\u001b[0;31m#第三维标签\u001b[0m\u001b[0;34m\u001b[0m\u001b[0;34m\u001b[0m\u001b[0m\n\u001b[0m\u001b[1;32m      8\u001b[0m             )\n\u001b[1;32m      9\u001b[0m \u001b[0mp\u001b[0m\u001b[0;34m\u001b[0m\u001b[0;34m\u001b[0m\u001b[0m\n",
      "\u001b[0;31mTypeError\u001b[0m: object() takes no parameters"
     ]
    }
   ],
   "source": [
    "import numpy as np\n",
    "import pandas as pd\n",
    "#创建\n",
    "p = pd.Panel(np.arange(24).reshape(4,3,2),\n",
    "            items=list('ABCD'),    #第一维标签\n",
    "            major_axis=pd.date_range('20130101',periods=3),#第二维标签\n",
    "            minor_axis=['first','second']#第三维标签\n",
    "            )\n",
    "p"
   ]
  },
  {
   "cell_type": "code",
   "execution_count": null,
   "metadata": {
    "scrolled": true
   },
   "outputs": [],
   "source": [
    "#从items_axis维度查看(其实查看到的是一个dataframe)\n",
    "p['A']"
   ]
  },
  {
   "cell_type": "code",
   "execution_count": null,
   "metadata": {},
   "outputs": [],
   "source": [
    "#从major_axis维度查看\n",
    "p.major_xs('2013-01-01')"
   ]
  },
  {
   "cell_type": "code",
   "execution_count": null,
   "metadata": {},
   "outputs": [],
   "source": [
    "#从minor_axis维度查看\n",
    "p.minor_xs('first')"
   ]
  },
  {
   "cell_type": "markdown",
   "metadata": {},
   "source": [
    "## 缺失值处理"
   ]
  },
  {
   "cell_type": "code",
   "execution_count": 35,
   "metadata": {
    "scrolled": false
   },
   "outputs": [],
   "source": [
    "import pandas as pd\n",
    "import numpy as np\n",
    "\n",
    "studf = pd.read_excel('./mayipandas_files/datas/student_excel/student_excel.xlsx',skiprows=2)"
   ]
  },
  {
   "cell_type": "code",
   "execution_count": 36,
   "metadata": {
    "scrolled": true
   },
   "outputs": [
    {
     "data": {
      "text/html": [
       "<div>\n",
       "<style scoped>\n",
       "    .dataframe tbody tr th:only-of-type {\n",
       "        vertical-align: middle;\n",
       "    }\n",
       "\n",
       "    .dataframe tbody tr th {\n",
       "        vertical-align: top;\n",
       "    }\n",
       "\n",
       "    .dataframe thead th {\n",
       "        text-align: right;\n",
       "    }\n",
       "</style>\n",
       "<table border=\"1\" class=\"dataframe\">\n",
       "  <thead>\n",
       "    <tr style=\"text-align: right;\">\n",
       "      <th></th>\n",
       "      <th>Unnamed: 0</th>\n",
       "      <th>姓名</th>\n",
       "      <th>科目</th>\n",
       "      <th>分数</th>\n",
       "    </tr>\n",
       "  </thead>\n",
       "  <tbody>\n",
       "    <tr>\n",
       "      <th>0</th>\n",
       "      <td>NaN</td>\n",
       "      <td>小明</td>\n",
       "      <td>语文</td>\n",
       "      <td>85.0</td>\n",
       "    </tr>\n",
       "    <tr>\n",
       "      <th>1</th>\n",
       "      <td>NaN</td>\n",
       "      <td>NaN</td>\n",
       "      <td>数学</td>\n",
       "      <td>80.0</td>\n",
       "    </tr>\n",
       "    <tr>\n",
       "      <th>2</th>\n",
       "      <td>NaN</td>\n",
       "      <td>NaN</td>\n",
       "      <td>英语</td>\n",
       "      <td>90.0</td>\n",
       "    </tr>\n",
       "    <tr>\n",
       "      <th>3</th>\n",
       "      <td>NaN</td>\n",
       "      <td>NaN</td>\n",
       "      <td>NaN</td>\n",
       "      <td>NaN</td>\n",
       "    </tr>\n",
       "    <tr>\n",
       "      <th>4</th>\n",
       "      <td>NaN</td>\n",
       "      <td>小王</td>\n",
       "      <td>语文</td>\n",
       "      <td>85.0</td>\n",
       "    </tr>\n",
       "    <tr>\n",
       "      <th>5</th>\n",
       "      <td>NaN</td>\n",
       "      <td>NaN</td>\n",
       "      <td>数学</td>\n",
       "      <td>NaN</td>\n",
       "    </tr>\n",
       "    <tr>\n",
       "      <th>6</th>\n",
       "      <td>NaN</td>\n",
       "      <td>NaN</td>\n",
       "      <td>英语</td>\n",
       "      <td>90.0</td>\n",
       "    </tr>\n",
       "    <tr>\n",
       "      <th>7</th>\n",
       "      <td>NaN</td>\n",
       "      <td>NaN</td>\n",
       "      <td>NaN</td>\n",
       "      <td>NaN</td>\n",
       "    </tr>\n",
       "    <tr>\n",
       "      <th>8</th>\n",
       "      <td>NaN</td>\n",
       "      <td>小刚</td>\n",
       "      <td>语文</td>\n",
       "      <td>85.0</td>\n",
       "    </tr>\n",
       "    <tr>\n",
       "      <th>9</th>\n",
       "      <td>NaN</td>\n",
       "      <td>NaN</td>\n",
       "      <td>数学</td>\n",
       "      <td>80.0</td>\n",
       "    </tr>\n",
       "    <tr>\n",
       "      <th>10</th>\n",
       "      <td>NaN</td>\n",
       "      <td>NaN</td>\n",
       "      <td>英语</td>\n",
       "      <td>90.0</td>\n",
       "    </tr>\n",
       "  </tbody>\n",
       "</table>\n",
       "</div>"
      ],
      "text/plain": [
       "    Unnamed: 0   姓名   科目    分数\n",
       "0          NaN   小明   语文  85.0\n",
       "1          NaN  NaN   数学  80.0\n",
       "2          NaN  NaN   英语  90.0\n",
       "3          NaN  NaN  NaN   NaN\n",
       "4          NaN   小王   语文  85.0\n",
       "5          NaN  NaN   数学   NaN\n",
       "6          NaN  NaN   英语  90.0\n",
       "7          NaN  NaN  NaN   NaN\n",
       "8          NaN   小刚   语文  85.0\n",
       "9          NaN  NaN   数学  80.0\n",
       "10         NaN  NaN   英语  90.0"
      ]
     },
     "execution_count": 36,
     "metadata": {},
     "output_type": "execute_result"
    }
   ],
   "source": [
    "studf"
   ]
  },
  {
   "cell_type": "markdown",
   "metadata": {},
   "source": [
    "发现有很多缺失值"
   ]
  },
  {
   "cell_type": "code",
   "execution_count": 37,
   "metadata": {},
   "outputs": [
    {
     "data": {
      "text/plain": [
       "0     False\n",
       "1     False\n",
       "2     False\n",
       "3      True\n",
       "4     False\n",
       "5      True\n",
       "6     False\n",
       "7      True\n",
       "8     False\n",
       "9     False\n",
       "10    False\n",
       "Name: 分数, dtype: bool"
      ]
     },
     "execution_count": 37,
     "metadata": {},
     "output_type": "execute_result"
    }
   ],
   "source": [
    "#使用isnull()判空，若为空则返回True\n",
    "studf['分数'].isnull()"
   ]
  },
  {
   "cell_type": "code",
   "execution_count": 38,
   "metadata": {},
   "outputs": [
    {
     "data": {
      "text/plain": [
       "0      True\n",
       "1      True\n",
       "2      True\n",
       "3     False\n",
       "4      True\n",
       "5      True\n",
       "6      True\n",
       "7     False\n",
       "8      True\n",
       "9      True\n",
       "10     True\n",
       "Name: 科目, dtype: bool"
      ]
     },
     "execution_count": 38,
     "metadata": {},
     "output_type": "execute_result"
    }
   ],
   "source": [
    "#与isnull()相反，为notnull()\n",
    "studf['科目'].notnull()"
   ]
  },
  {
   "cell_type": "code",
   "execution_count": 39,
   "metadata": {},
   "outputs": [
    {
     "data": {
      "text/html": [
       "<div>\n",
       "<style scoped>\n",
       "    .dataframe tbody tr th:only-of-type {\n",
       "        vertical-align: middle;\n",
       "    }\n",
       "\n",
       "    .dataframe tbody tr th {\n",
       "        vertical-align: top;\n",
       "    }\n",
       "\n",
       "    .dataframe thead th {\n",
       "        text-align: right;\n",
       "    }\n",
       "</style>\n",
       "<table border=\"1\" class=\"dataframe\">\n",
       "  <thead>\n",
       "    <tr style=\"text-align: right;\">\n",
       "      <th></th>\n",
       "      <th>Unnamed: 0</th>\n",
       "      <th>姓名</th>\n",
       "      <th>科目</th>\n",
       "      <th>分数</th>\n",
       "    </tr>\n",
       "  </thead>\n",
       "  <tbody>\n",
       "    <tr>\n",
       "      <th>0</th>\n",
       "      <td>NaN</td>\n",
       "      <td>小明</td>\n",
       "      <td>语文</td>\n",
       "      <td>85.0</td>\n",
       "    </tr>\n",
       "    <tr>\n",
       "      <th>1</th>\n",
       "      <td>NaN</td>\n",
       "      <td>NaN</td>\n",
       "      <td>数学</td>\n",
       "      <td>80.0</td>\n",
       "    </tr>\n",
       "    <tr>\n",
       "      <th>2</th>\n",
       "      <td>NaN</td>\n",
       "      <td>NaN</td>\n",
       "      <td>英语</td>\n",
       "      <td>90.0</td>\n",
       "    </tr>\n",
       "    <tr>\n",
       "      <th>4</th>\n",
       "      <td>NaN</td>\n",
       "      <td>小王</td>\n",
       "      <td>语文</td>\n",
       "      <td>85.0</td>\n",
       "    </tr>\n",
       "    <tr>\n",
       "      <th>5</th>\n",
       "      <td>NaN</td>\n",
       "      <td>NaN</td>\n",
       "      <td>数学</td>\n",
       "      <td>NaN</td>\n",
       "    </tr>\n",
       "    <tr>\n",
       "      <th>6</th>\n",
       "      <td>NaN</td>\n",
       "      <td>NaN</td>\n",
       "      <td>英语</td>\n",
       "      <td>90.0</td>\n",
       "    </tr>\n",
       "    <tr>\n",
       "      <th>8</th>\n",
       "      <td>NaN</td>\n",
       "      <td>小刚</td>\n",
       "      <td>语文</td>\n",
       "      <td>85.0</td>\n",
       "    </tr>\n",
       "    <tr>\n",
       "      <th>9</th>\n",
       "      <td>NaN</td>\n",
       "      <td>NaN</td>\n",
       "      <td>数学</td>\n",
       "      <td>80.0</td>\n",
       "    </tr>\n",
       "    <tr>\n",
       "      <th>10</th>\n",
       "      <td>NaN</td>\n",
       "      <td>NaN</td>\n",
       "      <td>英语</td>\n",
       "      <td>90.0</td>\n",
       "    </tr>\n",
       "  </tbody>\n",
       "</table>\n",
       "</div>"
      ],
      "text/plain": [
       "    Unnamed: 0   姓名  科目    分数\n",
       "0          NaN   小明  语文  85.0\n",
       "1          NaN  NaN  数学  80.0\n",
       "2          NaN  NaN  英语  90.0\n",
       "4          NaN   小王  语文  85.0\n",
       "5          NaN  NaN  数学   NaN\n",
       "6          NaN  NaN  英语  90.0\n",
       "8          NaN   小刚  语文  85.0\n",
       "9          NaN  NaN  数学  80.0\n",
       "10         NaN  NaN  英语  90.0"
      ]
     },
     "execution_count": 39,
     "metadata": {},
     "output_type": "execute_result"
    }
   ],
   "source": [
    "#使用布尔索引过滤出不是空行的行\n",
    "studf.loc[studf['科目'].notnull()]"
   ]
  },
  {
   "cell_type": "code",
   "execution_count": 1,
   "metadata": {
    "scrolled": true
   },
   "outputs": [
    {
     "ename": "NameError",
     "evalue": "name 'studf' is not defined",
     "output_type": "error",
     "traceback": [
      "\u001b[0;31m------------------------------------------------------------------\u001b[0m",
      "\u001b[0;31mNameError\u001b[0m                        Traceback (most recent call last)",
      "\u001b[0;32m<ipython-input-1-bfbbf2eb3887>\u001b[0m in \u001b[0;36m<module>\u001b[0;34m()\u001b[0m\n\u001b[1;32m      3\u001b[0m \u001b[0;31m#how='all'表示删除的条件:如果该列都为空，则删除掉，当how='any'时是直接删除\u001b[0m\u001b[0;34m\u001b[0m\u001b[0;34m\u001b[0m\u001b[0;34m\u001b[0m\u001b[0m\n\u001b[1;32m      4\u001b[0m \u001b[0;31m#inplace=True：修改当前的dataframe\u001b[0m\u001b[0;34m\u001b[0m\u001b[0;34m\u001b[0m\u001b[0;34m\u001b[0m\u001b[0m\n\u001b[0;32m----> 5\u001b[0;31m \u001b[0mstudf\u001b[0m\u001b[0;34m.\u001b[0m\u001b[0mdropna\u001b[0m\u001b[0;34m(\u001b[0m\u001b[0maxis\u001b[0m\u001b[0;34m=\u001b[0m\u001b[0;34m'columns'\u001b[0m\u001b[0;34m,\u001b[0m\u001b[0mhow\u001b[0m\u001b[0;34m=\u001b[0m\u001b[0;34m'all'\u001b[0m\u001b[0;34m,\u001b[0m\u001b[0minplace\u001b[0m\u001b[0;34m=\u001b[0m\u001b[0;32mTrue\u001b[0m\u001b[0;34m)\u001b[0m\u001b[0;34m\u001b[0m\u001b[0;34m\u001b[0m\u001b[0m\n\u001b[0m",
      "\u001b[0;31mNameError\u001b[0m: name 'studf' is not defined"
     ]
    }
   ],
   "source": [
    "# 删除掉全是空值的列\n",
    "# axis='columns'指定删除的是列\n",
    "#how='all'表示删除的条件:如果该列都为空，则删除掉，当how='any'时是直接删除\n",
    "#inplace=True：修改当前的dataframe\n",
    "studf.dropna(axis='columns',how='all',inplace=True)"
   ]
  },
  {
   "cell_type": "code",
   "execution_count": 43,
   "metadata": {
    "scrolled": true
   },
   "outputs": [
    {
     "data": {
      "text/html": [
       "<div>\n",
       "<style scoped>\n",
       "    .dataframe tbody tr th:only-of-type {\n",
       "        vertical-align: middle;\n",
       "    }\n",
       "\n",
       "    .dataframe tbody tr th {\n",
       "        vertical-align: top;\n",
       "    }\n",
       "\n",
       "    .dataframe thead th {\n",
       "        text-align: right;\n",
       "    }\n",
       "</style>\n",
       "<table border=\"1\" class=\"dataframe\">\n",
       "  <thead>\n",
       "    <tr style=\"text-align: right;\">\n",
       "      <th></th>\n",
       "      <th>姓名</th>\n",
       "      <th>科目</th>\n",
       "      <th>分数</th>\n",
       "    </tr>\n",
       "  </thead>\n",
       "  <tbody>\n",
       "    <tr>\n",
       "      <th>0</th>\n",
       "      <td>小明</td>\n",
       "      <td>语文</td>\n",
       "      <td>85.0</td>\n",
       "    </tr>\n",
       "    <tr>\n",
       "      <th>1</th>\n",
       "      <td>NaN</td>\n",
       "      <td>数学</td>\n",
       "      <td>80.0</td>\n",
       "    </tr>\n",
       "    <tr>\n",
       "      <th>2</th>\n",
       "      <td>NaN</td>\n",
       "      <td>英语</td>\n",
       "      <td>90.0</td>\n",
       "    </tr>\n",
       "    <tr>\n",
       "      <th>4</th>\n",
       "      <td>小王</td>\n",
       "      <td>语文</td>\n",
       "      <td>85.0</td>\n",
       "    </tr>\n",
       "    <tr>\n",
       "      <th>5</th>\n",
       "      <td>NaN</td>\n",
       "      <td>数学</td>\n",
       "      <td>NaN</td>\n",
       "    </tr>\n",
       "    <tr>\n",
       "      <th>6</th>\n",
       "      <td>NaN</td>\n",
       "      <td>英语</td>\n",
       "      <td>90.0</td>\n",
       "    </tr>\n",
       "    <tr>\n",
       "      <th>8</th>\n",
       "      <td>小刚</td>\n",
       "      <td>语文</td>\n",
       "      <td>85.0</td>\n",
       "    </tr>\n",
       "    <tr>\n",
       "      <th>9</th>\n",
       "      <td>NaN</td>\n",
       "      <td>数学</td>\n",
       "      <td>80.0</td>\n",
       "    </tr>\n",
       "    <tr>\n",
       "      <th>10</th>\n",
       "      <td>NaN</td>\n",
       "      <td>英语</td>\n",
       "      <td>90.0</td>\n",
       "    </tr>\n",
       "  </tbody>\n",
       "</table>\n",
       "</div>"
      ],
      "text/plain": [
       "     姓名  科目    分数\n",
       "0    小明  语文  85.0\n",
       "1   NaN  数学  80.0\n",
       "2   NaN  英语  90.0\n",
       "4    小王  语文  85.0\n",
       "5   NaN  数学   NaN\n",
       "6   NaN  英语  90.0\n",
       "8    小刚  语文  85.0\n",
       "9   NaN  数学  80.0\n",
       "10  NaN  英语  90.0"
      ]
     },
     "execution_count": 43,
     "metadata": {},
     "output_type": "execute_result"
    }
   ],
   "source": [
    "#删除掉全是空值的行\n",
    "studf.dropna(axis='index',how='all',inplace=True)\n",
    "studf"
   ]
  },
  {
   "cell_type": "code",
   "execution_count": 44,
   "metadata": {
    "scrolled": true
   },
   "outputs": [
    {
     "data": {
      "text/html": [
       "<div>\n",
       "<style scoped>\n",
       "    .dataframe tbody tr th:only-of-type {\n",
       "        vertical-align: middle;\n",
       "    }\n",
       "\n",
       "    .dataframe tbody tr th {\n",
       "        vertical-align: top;\n",
       "    }\n",
       "\n",
       "    .dataframe thead th {\n",
       "        text-align: right;\n",
       "    }\n",
       "</style>\n",
       "<table border=\"1\" class=\"dataframe\">\n",
       "  <thead>\n",
       "    <tr style=\"text-align: right;\">\n",
       "      <th></th>\n",
       "      <th>姓名</th>\n",
       "      <th>科目</th>\n",
       "      <th>分数</th>\n",
       "    </tr>\n",
       "  </thead>\n",
       "  <tbody>\n",
       "    <tr>\n",
       "      <th>0</th>\n",
       "      <td>小明</td>\n",
       "      <td>语文</td>\n",
       "      <td>85.0</td>\n",
       "    </tr>\n",
       "    <tr>\n",
       "      <th>1</th>\n",
       "      <td>NaN</td>\n",
       "      <td>数学</td>\n",
       "      <td>80.0</td>\n",
       "    </tr>\n",
       "    <tr>\n",
       "      <th>2</th>\n",
       "      <td>NaN</td>\n",
       "      <td>英语</td>\n",
       "      <td>90.0</td>\n",
       "    </tr>\n",
       "    <tr>\n",
       "      <th>4</th>\n",
       "      <td>小王</td>\n",
       "      <td>语文</td>\n",
       "      <td>85.0</td>\n",
       "    </tr>\n",
       "    <tr>\n",
       "      <th>5</th>\n",
       "      <td>NaN</td>\n",
       "      <td>数学</td>\n",
       "      <td>0.0</td>\n",
       "    </tr>\n",
       "    <tr>\n",
       "      <th>6</th>\n",
       "      <td>NaN</td>\n",
       "      <td>英语</td>\n",
       "      <td>90.0</td>\n",
       "    </tr>\n",
       "    <tr>\n",
       "      <th>8</th>\n",
       "      <td>小刚</td>\n",
       "      <td>语文</td>\n",
       "      <td>85.0</td>\n",
       "    </tr>\n",
       "    <tr>\n",
       "      <th>9</th>\n",
       "      <td>NaN</td>\n",
       "      <td>数学</td>\n",
       "      <td>80.0</td>\n",
       "    </tr>\n",
       "    <tr>\n",
       "      <th>10</th>\n",
       "      <td>NaN</td>\n",
       "      <td>英语</td>\n",
       "      <td>90.0</td>\n",
       "    </tr>\n",
       "  </tbody>\n",
       "</table>\n",
       "</div>"
      ],
      "text/plain": [
       "     姓名  科目    分数\n",
       "0    小明  语文  85.0\n",
       "1   NaN  数学  80.0\n",
       "2   NaN  英语  90.0\n",
       "4    小王  语文  85.0\n",
       "5   NaN  数学   0.0\n",
       "6   NaN  英语  90.0\n",
       "8    小刚  语文  85.0\n",
       "9   NaN  数学  80.0\n",
       "10  NaN  英语  90.0"
      ]
     },
     "execution_count": 44,
     "metadata": {},
     "output_type": "execute_result"
    }
   ],
   "source": [
    "#将分数列为空的替换成0\n",
    "studf.fillna({'分数':0})"
   ]
  },
  {
   "cell_type": "code",
   "execution_count": 46,
   "metadata": {
    "scrolled": false
   },
   "outputs": [
    {
     "data": {
      "text/html": [
       "<div>\n",
       "<style scoped>\n",
       "    .dataframe tbody tr th:only-of-type {\n",
       "        vertical-align: middle;\n",
       "    }\n",
       "\n",
       "    .dataframe tbody tr th {\n",
       "        vertical-align: top;\n",
       "    }\n",
       "\n",
       "    .dataframe thead th {\n",
       "        text-align: right;\n",
       "    }\n",
       "</style>\n",
       "<table border=\"1\" class=\"dataframe\">\n",
       "  <thead>\n",
       "    <tr style=\"text-align: right;\">\n",
       "      <th></th>\n",
       "      <th>姓名</th>\n",
       "      <th>科目</th>\n",
       "      <th>分数</th>\n",
       "    </tr>\n",
       "  </thead>\n",
       "  <tbody>\n",
       "    <tr>\n",
       "      <th>0</th>\n",
       "      <td>小明</td>\n",
       "      <td>语文</td>\n",
       "      <td>85.0</td>\n",
       "    </tr>\n",
       "    <tr>\n",
       "      <th>1</th>\n",
       "      <td>小明</td>\n",
       "      <td>数学</td>\n",
       "      <td>80.0</td>\n",
       "    </tr>\n",
       "    <tr>\n",
       "      <th>2</th>\n",
       "      <td>小明</td>\n",
       "      <td>英语</td>\n",
       "      <td>90.0</td>\n",
       "    </tr>\n",
       "    <tr>\n",
       "      <th>4</th>\n",
       "      <td>小王</td>\n",
       "      <td>语文</td>\n",
       "      <td>85.0</td>\n",
       "    </tr>\n",
       "    <tr>\n",
       "      <th>5</th>\n",
       "      <td>小王</td>\n",
       "      <td>数学</td>\n",
       "      <td>NaN</td>\n",
       "    </tr>\n",
       "    <tr>\n",
       "      <th>6</th>\n",
       "      <td>小王</td>\n",
       "      <td>英语</td>\n",
       "      <td>90.0</td>\n",
       "    </tr>\n",
       "    <tr>\n",
       "      <th>8</th>\n",
       "      <td>小刚</td>\n",
       "      <td>语文</td>\n",
       "      <td>85.0</td>\n",
       "    </tr>\n",
       "    <tr>\n",
       "      <th>9</th>\n",
       "      <td>小刚</td>\n",
       "      <td>数学</td>\n",
       "      <td>80.0</td>\n",
       "    </tr>\n",
       "    <tr>\n",
       "      <th>10</th>\n",
       "      <td>小刚</td>\n",
       "      <td>英语</td>\n",
       "      <td>90.0</td>\n",
       "    </tr>\n",
       "  </tbody>\n",
       "</table>\n",
       "</div>"
      ],
      "text/plain": [
       "    姓名  科目    分数\n",
       "0   小明  语文  85.0\n",
       "1   小明  数学  80.0\n",
       "2   小明  英语  90.0\n",
       "4   小王  语文  85.0\n",
       "5   小王  数学   NaN\n",
       "6   小王  英语  90.0\n",
       "8   小刚  语文  85.0\n",
       "9   小刚  数学  80.0\n",
       "10  小刚  英语  90.0"
      ]
     },
     "execution_count": 46,
     "metadata": {},
     "output_type": "execute_result"
    }
   ],
   "source": [
    "#将姓名的缺失值进行填充\n",
    "#method='fill'表示使用前面的值进行填充\n",
    "studf.loc[:,'姓名'] = studf['姓名'].fillna(method='ffill')\n",
    "studf"
   ]
  },
  {
   "cell_type": "code",
   "execution_count": 49,
   "metadata": {
    "scrolled": true
   },
   "outputs": [],
   "source": [
    "#将清洗完的数据进行保存\n",
    "#参数：io给出一个生成文件的路径名字\n",
    "#参数:index＝False表示将最左边的索引列不生成在excel中\n",
    "studf.to_excel('./mayipandas_files/datas/student_excel/student_excel_clean.xlsx',index=False)"
   ]
  },
  {
   "cell_type": "markdown",
   "metadata": {},
   "source": [
    "## pandas分组聚合"
   ]
  },
  {
   "cell_type": "markdown",
   "metadata": {},
   "source": [
    "许多情况下，我们将数据分成多个集合，并在每个子集上应用一些函数，在应用函数时，可以执行以下操作\n",
    "1. 聚合，计算汇总统计\n",
    "2. 转换，执行一些特定于组的操作\n",
    "3. 过滤，在某些情况下丢弃数据"
   ]
  },
  {
   "cell_type": "code",
   "execution_count": 28,
   "metadata": {
    "scrolled": true
   },
   "outputs": [
    {
     "data": {
      "text/html": [
       "<div>\n",
       "<style scoped>\n",
       "    .dataframe tbody tr th:only-of-type {\n",
       "        vertical-align: middle;\n",
       "    }\n",
       "\n",
       "    .dataframe tbody tr th {\n",
       "        vertical-align: top;\n",
       "    }\n",
       "\n",
       "    .dataframe thead th {\n",
       "        text-align: right;\n",
       "    }\n",
       "</style>\n",
       "<table border=\"1\" class=\"dataframe\">\n",
       "  <thead>\n",
       "    <tr style=\"text-align: right;\">\n",
       "      <th></th>\n",
       "      <th>Team</th>\n",
       "      <th>Rank</th>\n",
       "      <th>Year</th>\n",
       "      <th>Points</th>\n",
       "    </tr>\n",
       "  </thead>\n",
       "  <tbody>\n",
       "    <tr>\n",
       "      <th>0</th>\n",
       "      <td>Riders</td>\n",
       "      <td>1</td>\n",
       "      <td>2014</td>\n",
       "      <td>876</td>\n",
       "    </tr>\n",
       "    <tr>\n",
       "      <th>1</th>\n",
       "      <td>Riders</td>\n",
       "      <td>2</td>\n",
       "      <td>2015</td>\n",
       "      <td>789</td>\n",
       "    </tr>\n",
       "    <tr>\n",
       "      <th>2</th>\n",
       "      <td>Devils</td>\n",
       "      <td>2</td>\n",
       "      <td>2014</td>\n",
       "      <td>863</td>\n",
       "    </tr>\n",
       "    <tr>\n",
       "      <th>3</th>\n",
       "      <td>Devils</td>\n",
       "      <td>3</td>\n",
       "      <td>2015</td>\n",
       "      <td>673</td>\n",
       "    </tr>\n",
       "    <tr>\n",
       "      <th>4</th>\n",
       "      <td>Kings</td>\n",
       "      <td>3</td>\n",
       "      <td>2014</td>\n",
       "      <td>741</td>\n",
       "    </tr>\n",
       "    <tr>\n",
       "      <th>5</th>\n",
       "      <td>kings</td>\n",
       "      <td>4</td>\n",
       "      <td>2015</td>\n",
       "      <td>812</td>\n",
       "    </tr>\n",
       "    <tr>\n",
       "      <th>6</th>\n",
       "      <td>Kings</td>\n",
       "      <td>1</td>\n",
       "      <td>2016</td>\n",
       "      <td>756</td>\n",
       "    </tr>\n",
       "    <tr>\n",
       "      <th>7</th>\n",
       "      <td>Kings</td>\n",
       "      <td>1</td>\n",
       "      <td>2017</td>\n",
       "      <td>788</td>\n",
       "    </tr>\n",
       "    <tr>\n",
       "      <th>8</th>\n",
       "      <td>Riders</td>\n",
       "      <td>2</td>\n",
       "      <td>2016</td>\n",
       "      <td>694</td>\n",
       "    </tr>\n",
       "    <tr>\n",
       "      <th>9</th>\n",
       "      <td>Royals</td>\n",
       "      <td>4</td>\n",
       "      <td>2014</td>\n",
       "      <td>701</td>\n",
       "    </tr>\n",
       "    <tr>\n",
       "      <th>10</th>\n",
       "      <td>Royals</td>\n",
       "      <td>1</td>\n",
       "      <td>2015</td>\n",
       "      <td>804</td>\n",
       "    </tr>\n",
       "    <tr>\n",
       "      <th>11</th>\n",
       "      <td>Riders</td>\n",
       "      <td>2</td>\n",
       "      <td>2017</td>\n",
       "      <td>690</td>\n",
       "    </tr>\n",
       "  </tbody>\n",
       "</table>\n",
       "</div>"
      ],
      "text/plain": [
       "      Team  Rank  Year  Points\n",
       "0   Riders     1  2014     876\n",
       "1   Riders     2  2015     789\n",
       "2   Devils     2  2014     863\n",
       "3   Devils     3  2015     673\n",
       "4    Kings     3  2014     741\n",
       "5    kings     4  2015     812\n",
       "6    Kings     1  2016     756\n",
       "7    Kings     1  2017     788\n",
       "8   Riders     2  2016     694\n",
       "9   Royals     4  2014     701\n",
       "10  Royals     1  2015     804\n",
       "11  Riders     2  2017     690"
      ]
     },
     "execution_count": 28,
     "metadata": {},
     "output_type": "execute_result"
    }
   ],
   "source": [
    "import pandas as pd\n",
    "\n",
    "ipl_data = {'Team': ['Riders', 'Riders', 'Devils', 'Devils', 'Kings',\n",
    "         'kings', 'Kings', 'Kings', 'Riders', 'Royals', 'Royals', 'Riders'],\n",
    "         'Rank': [1, 2, 2, 3, 3,4 ,1 ,1,2 , 4,1,2],\n",
    "         'Year': [2014,2015,2014,2015,2014,2015,2016,2017,2016,2014,2015,2017],\n",
    "         'Points':[876,789,863,673,741,812,756,788,694,701,804,690]}\n",
    "df = pd.DataFrame(ipl_data)\n",
    "df"
   ]
  },
  {
   "cell_type": "code",
   "execution_count": 30,
   "metadata": {},
   "outputs": [
    {
     "data": {
      "text/plain": [
       "{2014: Int64Index([0, 2, 4, 9], dtype='int64'),\n",
       " 2015: Int64Index([1, 3, 5, 10], dtype='int64'),\n",
       " 2016: Int64Index([6, 8], dtype='int64'),\n",
       " 2017: Int64Index([7, 11], dtype='int64')}"
      ]
     },
     "execution_count": 30,
     "metadata": {},
     "output_type": "execute_result"
    }
   ],
   "source": [
    "# 1.根据year分组\n",
    "grouped = df.groupby('Year')\n",
    "grouped.groups"
   ]
  },
  {
   "cell_type": "code",
   "execution_count": 32,
   "metadata": {},
   "outputs": [
    {
     "data": {
      "text/plain": [
       "pandas.core.groupby.generic.DataFrameGroupBy"
      ]
     },
     "execution_count": 32,
     "metadata": {},
     "output_type": "execute_result"
    }
   ],
   "source": [
    "type(grouped)"
   ]
  },
  {
   "cell_type": "code",
   "execution_count": 20,
   "metadata": {
    "scrolled": true
   },
   "outputs": [
    {
     "data": {
      "text/html": [
       "<div>\n",
       "<style scoped>\n",
       "    .dataframe tbody tr th:only-of-type {\n",
       "        vertical-align: middle;\n",
       "    }\n",
       "\n",
       "    .dataframe tbody tr th {\n",
       "        vertical-align: top;\n",
       "    }\n",
       "\n",
       "    .dataframe thead th {\n",
       "        text-align: right;\n",
       "    }\n",
       "</style>\n",
       "<table border=\"1\" class=\"dataframe\">\n",
       "  <thead>\n",
       "    <tr style=\"text-align: right;\">\n",
       "      <th></th>\n",
       "      <th>Team</th>\n",
       "      <th>Rank</th>\n",
       "      <th>Year</th>\n",
       "      <th>Points</th>\n",
       "    </tr>\n",
       "  </thead>\n",
       "  <tbody>\n",
       "    <tr>\n",
       "      <th>0</th>\n",
       "      <td>Riders</td>\n",
       "      <td>1</td>\n",
       "      <td>2014</td>\n",
       "      <td>876</td>\n",
       "    </tr>\n",
       "    <tr>\n",
       "      <th>2</th>\n",
       "      <td>Devils</td>\n",
       "      <td>2</td>\n",
       "      <td>2014</td>\n",
       "      <td>863</td>\n",
       "    </tr>\n",
       "    <tr>\n",
       "      <th>4</th>\n",
       "      <td>Kings</td>\n",
       "      <td>3</td>\n",
       "      <td>2014</td>\n",
       "      <td>741</td>\n",
       "    </tr>\n",
       "    <tr>\n",
       "      <th>9</th>\n",
       "      <td>Royals</td>\n",
       "      <td>4</td>\n",
       "      <td>2014</td>\n",
       "      <td>701</td>\n",
       "    </tr>\n",
       "  </tbody>\n",
       "</table>\n",
       "</div>"
      ],
      "text/plain": [
       "     Team  Rank  Year  Points\n",
       "0  Riders     1  2014     876\n",
       "2  Devils     2  2014     863\n",
       "4   Kings     3  2014     741\n",
       "9  Royals     4  2014     701"
      ]
     },
     "execution_count": 20,
     "metadata": {},
     "output_type": "execute_result"
    }
   ],
   "source": [
    "#查看某个分组的细节\n",
    "grouped.get_group(2014)"
   ]
  },
  {
   "cell_type": "code",
   "execution_count": 23,
   "metadata": {},
   "outputs": [
    {
     "data": {
      "text/plain": [
       "{2014: Int64Index([0, 2, 4, 9], dtype='int64'),\n",
       " 2015: Int64Index([1, 3, 5, 10], dtype='int64'),\n",
       " 2016: Int64Index([6, 8], dtype='int64'),\n",
       " 2017: Int64Index([7, 11], dtype='int64')}"
      ]
     },
     "execution_count": 23,
     "metadata": {},
     "output_type": "execute_result"
    }
   ],
   "source": [
    "import numpy as np\n",
    "# 2.对分组进行聚合操作\n",
    "#聚合函数为每个组返回聚合值，当创建了分组(groupby)对象，\n",
    "#就可以对每个分组数据执行聚合(标准差等操作)\n",
    "grouped = df.groupby('Year')\n",
    "grouped.groups"
   ]
  },
  {
   "cell_type": "code",
   "execution_count": 26,
   "metadata": {},
   "outputs": [
    {
     "data": {
      "text/plain": [
       "Year\n",
       "2014    795.25\n",
       "2015    769.50\n",
       "2016    725.00\n",
       "2017    739.00\n",
       "Name: Points, dtype: float64"
      ]
     },
     "execution_count": 26,
     "metadata": {},
     "output_type": "execute_result"
    }
   ],
   "source": [
    "#聚合:对每一个分组求points字段的均值\n",
    "grouped['Points'].agg(np.mean)"
   ]
  },
  {
   "cell_type": "code",
   "execution_count": 33,
   "metadata": {
    "scrolled": true
   },
   "outputs": [
    {
     "data": {
      "text/html": [
       "<div>\n",
       "<style scoped>\n",
       "    .dataframe tbody tr th:only-of-type {\n",
       "        vertical-align: middle;\n",
       "    }\n",
       "\n",
       "    .dataframe tbody tr th {\n",
       "        vertical-align: top;\n",
       "    }\n",
       "\n",
       "    .dataframe thead th {\n",
       "        text-align: right;\n",
       "    }\n",
       "</style>\n",
       "<table border=\"1\" class=\"dataframe\">\n",
       "  <thead>\n",
       "    <tr style=\"text-align: right;\">\n",
       "      <th></th>\n",
       "      <th>Rank</th>\n",
       "      <th>Points</th>\n",
       "    </tr>\n",
       "    <tr>\n",
       "      <th>Year</th>\n",
       "      <th></th>\n",
       "      <th></th>\n",
       "    </tr>\n",
       "  </thead>\n",
       "  <tbody>\n",
       "    <tr>\n",
       "      <th>2014</th>\n",
       "      <td>2.5</td>\n",
       "      <td>795.25</td>\n",
       "    </tr>\n",
       "    <tr>\n",
       "      <th>2015</th>\n",
       "      <td>2.5</td>\n",
       "      <td>769.50</td>\n",
       "    </tr>\n",
       "    <tr>\n",
       "      <th>2016</th>\n",
       "      <td>1.5</td>\n",
       "      <td>725.00</td>\n",
       "    </tr>\n",
       "    <tr>\n",
       "      <th>2017</th>\n",
       "      <td>1.5</td>\n",
       "      <td>739.00</td>\n",
       "    </tr>\n",
       "  </tbody>\n",
       "</table>\n",
       "</div>"
      ],
      "text/plain": [
       "      Rank  Points\n",
       "Year              \n",
       "2014   2.5  795.25\n",
       "2015   2.5  769.50\n",
       "2016   1.5  725.00\n",
       "2017   1.5  739.00"
      ]
     },
     "execution_count": 33,
     "metadata": {},
     "output_type": "execute_result"
    }
   ],
   "source": [
    "#按照年份输出每列的均值\n",
    "grouped.mean()"
   ]
  },
  {
   "cell_type": "code",
   "execution_count": 34,
   "metadata": {},
   "outputs": [
    {
     "data": {
      "text/html": [
       "<div>\n",
       "<style scoped>\n",
       "    .dataframe tbody tr th:only-of-type {\n",
       "        vertical-align: middle;\n",
       "    }\n",
       "\n",
       "    .dataframe tbody tr th {\n",
       "        vertical-align: top;\n",
       "    }\n",
       "\n",
       "    .dataframe thead th {\n",
       "        text-align: right;\n",
       "    }\n",
       "</style>\n",
       "<table border=\"1\" class=\"dataframe\">\n",
       "  <thead>\n",
       "    <tr style=\"text-align: right;\">\n",
       "      <th></th>\n",
       "      <th>Team</th>\n",
       "      <th>Rank</th>\n",
       "      <th>Points</th>\n",
       "    </tr>\n",
       "    <tr>\n",
       "      <th>Year</th>\n",
       "      <th></th>\n",
       "      <th></th>\n",
       "      <th></th>\n",
       "    </tr>\n",
       "  </thead>\n",
       "  <tbody>\n",
       "    <tr>\n",
       "      <th>2014</th>\n",
       "      <td>Royals</td>\n",
       "      <td>4</td>\n",
       "      <td>876</td>\n",
       "    </tr>\n",
       "    <tr>\n",
       "      <th>2015</th>\n",
       "      <td>kings</td>\n",
       "      <td>4</td>\n",
       "      <td>812</td>\n",
       "    </tr>\n",
       "    <tr>\n",
       "      <th>2016</th>\n",
       "      <td>Riders</td>\n",
       "      <td>2</td>\n",
       "      <td>756</td>\n",
       "    </tr>\n",
       "    <tr>\n",
       "      <th>2017</th>\n",
       "      <td>Riders</td>\n",
       "      <td>2</td>\n",
       "      <td>788</td>\n",
       "    </tr>\n",
       "  </tbody>\n",
       "</table>\n",
       "</div>"
      ],
      "text/plain": [
       "        Team  Rank  Points\n",
       "Year                      \n",
       "2014  Royals     4     876\n",
       "2015   kings     4     812\n",
       "2016  Riders     2     756\n",
       "2017  Riders     2     788"
      ]
     },
     "execution_count": 34,
     "metadata": {},
     "output_type": "execute_result"
    }
   ],
   "source": [
    "#按照年份输出最大值\n",
    "grouped.max()"
   ]
  },
  {
   "cell_type": "code",
   "execution_count": 35,
   "metadata": {
    "scrolled": true
   },
   "outputs": [
    {
     "data": {
      "text/html": [
       "<div>\n",
       "<style scoped>\n",
       "    .dataframe tbody tr th:only-of-type {\n",
       "        vertical-align: middle;\n",
       "    }\n",
       "\n",
       "    .dataframe tbody tr th {\n",
       "        vertical-align: top;\n",
       "    }\n",
       "\n",
       "    .dataframe thead th {\n",
       "        text-align: right;\n",
       "    }\n",
       "</style>\n",
       "<table border=\"1\" class=\"dataframe\">\n",
       "  <thead>\n",
       "    <tr style=\"text-align: right;\">\n",
       "      <th></th>\n",
       "      <th>Team</th>\n",
       "      <th>Rank</th>\n",
       "      <th>Points</th>\n",
       "    </tr>\n",
       "    <tr>\n",
       "      <th>Year</th>\n",
       "      <th></th>\n",
       "      <th></th>\n",
       "      <th></th>\n",
       "    </tr>\n",
       "  </thead>\n",
       "  <tbody>\n",
       "    <tr>\n",
       "      <th>2014</th>\n",
       "      <td>4</td>\n",
       "      <td>4</td>\n",
       "      <td>4</td>\n",
       "    </tr>\n",
       "    <tr>\n",
       "      <th>2015</th>\n",
       "      <td>4</td>\n",
       "      <td>4</td>\n",
       "      <td>4</td>\n",
       "    </tr>\n",
       "    <tr>\n",
       "      <th>2016</th>\n",
       "      <td>2</td>\n",
       "      <td>2</td>\n",
       "      <td>2</td>\n",
       "    </tr>\n",
       "    <tr>\n",
       "      <th>2017</th>\n",
       "      <td>2</td>\n",
       "      <td>2</td>\n",
       "      <td>2</td>\n",
       "    </tr>\n",
       "  </tbody>\n",
       "</table>\n",
       "</div>"
      ],
      "text/plain": [
       "      Team  Rank  Points\n",
       "Year                    \n",
       "2014     4     4       4\n",
       "2015     4     4       4\n",
       "2016     2     2       2\n",
       "2017     2     2       2"
      ]
     },
     "execution_count": 35,
     "metadata": {},
     "output_type": "execute_result"
    }
   ],
   "source": [
    "#统计每一年的样本个数\n",
    "grouped.count()"
   ]
  },
  {
   "cell_type": "code",
   "execution_count": 36,
   "metadata": {
    "scrolled": true
   },
   "outputs": [
    {
     "data": {
      "text/plain": [
       "Year\n",
       "2014    4\n",
       "2015    4\n",
       "2016    2\n",
       "2017    2\n",
       "dtype: int64"
      ]
     },
     "execution_count": 36,
     "metadata": {},
     "output_type": "execute_result"
    }
   ],
   "source": [
    "#也是输出每年下面的样本个数\n",
    "grouped.size()"
   ]
  },
  {
   "cell_type": "code",
   "execution_count": 41,
   "metadata": {},
   "outputs": [
    {
     "data": {
      "text/html": [
       "<div>\n",
       "<style scoped>\n",
       "    .dataframe tbody tr th:only-of-type {\n",
       "        vertical-align: middle;\n",
       "    }\n",
       "\n",
       "    .dataframe tbody tr th {\n",
       "        vertical-align: top;\n",
       "    }\n",
       "\n",
       "    .dataframe thead tr th {\n",
       "        text-align: left;\n",
       "    }\n",
       "\n",
       "    .dataframe thead tr:last-of-type th {\n",
       "        text-align: right;\n",
       "    }\n",
       "</style>\n",
       "<table border=\"1\" class=\"dataframe\">\n",
       "  <thead>\n",
       "    <tr>\n",
       "      <th></th>\n",
       "      <th colspan=\"3\" halign=\"left\">Rank</th>\n",
       "      <th colspan=\"3\" halign=\"left\">Points</th>\n",
       "    </tr>\n",
       "    <tr>\n",
       "      <th></th>\n",
       "      <th>mean</th>\n",
       "      <th>sum</th>\n",
       "      <th>std</th>\n",
       "      <th>mean</th>\n",
       "      <th>sum</th>\n",
       "      <th>std</th>\n",
       "    </tr>\n",
       "    <tr>\n",
       "      <th>Year</th>\n",
       "      <th></th>\n",
       "      <th></th>\n",
       "      <th></th>\n",
       "      <th></th>\n",
       "      <th></th>\n",
       "      <th></th>\n",
       "    </tr>\n",
       "  </thead>\n",
       "  <tbody>\n",
       "    <tr>\n",
       "      <th>2014</th>\n",
       "      <td>2.5</td>\n",
       "      <td>10</td>\n",
       "      <td>1.290994</td>\n",
       "      <td>795.25</td>\n",
       "      <td>3181</td>\n",
       "      <td>87.439026</td>\n",
       "    </tr>\n",
       "    <tr>\n",
       "      <th>2015</th>\n",
       "      <td>2.5</td>\n",
       "      <td>10</td>\n",
       "      <td>1.290994</td>\n",
       "      <td>769.50</td>\n",
       "      <td>3078</td>\n",
       "      <td>65.035888</td>\n",
       "    </tr>\n",
       "    <tr>\n",
       "      <th>2016</th>\n",
       "      <td>1.5</td>\n",
       "      <td>3</td>\n",
       "      <td>0.707107</td>\n",
       "      <td>725.00</td>\n",
       "      <td>1450</td>\n",
       "      <td>43.840620</td>\n",
       "    </tr>\n",
       "    <tr>\n",
       "      <th>2017</th>\n",
       "      <td>1.5</td>\n",
       "      <td>3</td>\n",
       "      <td>0.707107</td>\n",
       "      <td>739.00</td>\n",
       "      <td>1478</td>\n",
       "      <td>69.296465</td>\n",
       "    </tr>\n",
       "  </tbody>\n",
       "</table>\n",
       "</div>"
      ],
      "text/plain": [
       "     Rank                Points                 \n",
       "     mean sum       std    mean   sum        std\n",
       "Year                                            \n",
       "2014  2.5  10  1.290994  795.25  3181  87.439026\n",
       "2015  2.5  10  1.290994  769.50  3078  65.035888\n",
       "2016  1.5   3  0.707107  725.00  1450  43.840620\n",
       "2017  1.5   3  0.707107  739.00  1478  69.296465"
      ]
     },
     "execution_count": 41,
     "metadata": {},
     "output_type": "execute_result"
    }
   ],
   "source": [
    "#聚合：对按year分组后的每个字段求均值，标准差,和\n",
    "grouped.agg([np.mean,np.sum,np.std])"
   ]
  },
  {
   "cell_type": "code",
   "execution_count": null,
   "metadata": {},
   "outputs": [],
   "source": [
    "#层次索引\n",
    "grouped.agg([np.mean,np.sum]).loc[]"
   ]
  },
  {
   "cell_type": "code",
   "execution_count": 25,
   "metadata": {
    "scrolled": false
   },
   "outputs": [
    {
     "data": {
      "text/html": [
       "<div>\n",
       "<style scoped>\n",
       "    .dataframe tbody tr th:only-of-type {\n",
       "        vertical-align: middle;\n",
       "    }\n",
       "\n",
       "    .dataframe tbody tr th {\n",
       "        vertical-align: top;\n",
       "    }\n",
       "\n",
       "    .dataframe thead th {\n",
       "        text-align: right;\n",
       "    }\n",
       "</style>\n",
       "<table border=\"1\" class=\"dataframe\">\n",
       "  <thead>\n",
       "    <tr style=\"text-align: right;\">\n",
       "      <th></th>\n",
       "      <th>mean</th>\n",
       "      <th>sum</th>\n",
       "      <th>std</th>\n",
       "    </tr>\n",
       "    <tr>\n",
       "      <th>Year</th>\n",
       "      <th></th>\n",
       "      <th></th>\n",
       "      <th></th>\n",
       "    </tr>\n",
       "  </thead>\n",
       "  <tbody>\n",
       "    <tr>\n",
       "      <th>2014</th>\n",
       "      <td>795.25</td>\n",
       "      <td>3181</td>\n",
       "      <td>87.439026</td>\n",
       "    </tr>\n",
       "    <tr>\n",
       "      <th>2015</th>\n",
       "      <td>769.50</td>\n",
       "      <td>3078</td>\n",
       "      <td>65.035888</td>\n",
       "    </tr>\n",
       "    <tr>\n",
       "      <th>2016</th>\n",
       "      <td>725.00</td>\n",
       "      <td>1450</td>\n",
       "      <td>43.840620</td>\n",
       "    </tr>\n",
       "    <tr>\n",
       "      <th>2017</th>\n",
       "      <td>739.00</td>\n",
       "      <td>1478</td>\n",
       "      <td>69.296465</td>\n",
       "    </tr>\n",
       "  </tbody>\n",
       "</table>\n",
       "</div>"
      ],
      "text/plain": [
       "        mean   sum        std\n",
       "Year                         \n",
       "2014  795.25  3181  87.439026\n",
       "2015  769.50  3078  65.035888\n",
       "2016  725.00  1450  43.840620\n",
       "2017  739.00  1478  69.296465"
      ]
     },
     "execution_count": 25,
     "metadata": {},
     "output_type": "execute_result"
    }
   ],
   "source": [
    "#聚合：对每个分组求points字段的和，标准差\n",
    "grouped['Points'].agg([np.mean,np.sum,np.std])"
   ]
  },
  {
   "cell_type": "code",
   "execution_count": null,
   "metadata": {},
   "outputs": [],
   "source": [
    "#针对不同的字段，使用不同的聚合函数\n",
    "grouped.agg({'NA_Sales':np.sum,'EU_Sales':np.mean})"
   ]
  },
  {
   "cell_type": "code",
   "execution_count": null,
   "metadata": {},
   "outputs": [],
   "source": [
    "#每个字段也可计算多个聚合函数\n",
    "grouped.agg({'NA_Sales':[np.sum,np.median],'EU_Sales':[np.mean,np.sum]})"
   ]
  },
  {
   "cell_type": "code",
   "execution_count": null,
   "metadata": {},
   "outputs": [],
   "source": [
    "#使用自定义的聚合函数\n",
    "def DoubleSUM(data):\n",
    "    s = data.sum()*2\n",
    "    return s\n",
    "grouped.agg({'EU_Sales':DoubleSUM})"
   ]
  },
  {
   "cell_type": "code",
   "execution_count": 40,
   "metadata": {},
   "outputs": [
    {
     "data": {
      "text/html": [
       "<div>\n",
       "<style scoped>\n",
       "    .dataframe tbody tr th:only-of-type {\n",
       "        vertical-align: middle;\n",
       "    }\n",
       "\n",
       "    .dataframe tbody tr th {\n",
       "        vertical-align: top;\n",
       "    }\n",
       "\n",
       "    .dataframe thead th {\n",
       "        text-align: right;\n",
       "    }\n",
       "</style>\n",
       "<table border=\"1\" class=\"dataframe\">\n",
       "  <thead>\n",
       "    <tr style=\"text-align: right;\">\n",
       "      <th></th>\n",
       "      <th></th>\n",
       "      <th>Rank</th>\n",
       "    </tr>\n",
       "    <tr>\n",
       "      <th>Year</th>\n",
       "      <th>Points</th>\n",
       "      <th></th>\n",
       "    </tr>\n",
       "  </thead>\n",
       "  <tbody>\n",
       "    <tr>\n",
       "      <th rowspan=\"4\" valign=\"top\">2014</th>\n",
       "      <th>701</th>\n",
       "      <td>4</td>\n",
       "    </tr>\n",
       "    <tr>\n",
       "      <th>741</th>\n",
       "      <td>3</td>\n",
       "    </tr>\n",
       "    <tr>\n",
       "      <th>863</th>\n",
       "      <td>2</td>\n",
       "    </tr>\n",
       "    <tr>\n",
       "      <th>876</th>\n",
       "      <td>1</td>\n",
       "    </tr>\n",
       "    <tr>\n",
       "      <th rowspan=\"4\" valign=\"top\">2015</th>\n",
       "      <th>673</th>\n",
       "      <td>3</td>\n",
       "    </tr>\n",
       "    <tr>\n",
       "      <th>789</th>\n",
       "      <td>2</td>\n",
       "    </tr>\n",
       "    <tr>\n",
       "      <th>804</th>\n",
       "      <td>1</td>\n",
       "    </tr>\n",
       "    <tr>\n",
       "      <th>812</th>\n",
       "      <td>4</td>\n",
       "    </tr>\n",
       "    <tr>\n",
       "      <th rowspan=\"2\" valign=\"top\">2016</th>\n",
       "      <th>694</th>\n",
       "      <td>2</td>\n",
       "    </tr>\n",
       "    <tr>\n",
       "      <th>756</th>\n",
       "      <td>1</td>\n",
       "    </tr>\n",
       "    <tr>\n",
       "      <th rowspan=\"2\" valign=\"top\">2017</th>\n",
       "      <th>690</th>\n",
       "      <td>2</td>\n",
       "    </tr>\n",
       "    <tr>\n",
       "      <th>788</th>\n",
       "      <td>1</td>\n",
       "    </tr>\n",
       "  </tbody>\n",
       "</table>\n",
       "</div>"
      ],
      "text/plain": [
       "             Rank\n",
       "Year Points      \n",
       "2014 701        4\n",
       "     741        3\n",
       "     863        2\n",
       "     876        1\n",
       "2015 673        3\n",
       "     789        2\n",
       "     804        1\n",
       "     812        4\n",
       "2016 694        2\n",
       "     756        1\n",
       "2017 690        2\n",
       "     788        1"
      ]
     },
     "execution_count": 40,
     "metadata": {},
     "output_type": "execute_result"
    }
   ],
   "source": [
    "#按照多个字段进行分组，然后使用聚合函数\n",
    "df.groupby(by=['Year','Points']).median()"
   ]
  },
  {
   "cell_type": "markdown",
   "metadata": {},
   "source": [
    "## pandas数据表关联操作(与sql非常相似)"
   ]
  },
  {
   "cell_type": "code",
   "execution_count": null,
   "metadata": {},
   "outputs": [],
   "source": [
    "#学生表和班级表的相同字段为class_id\n",
    "#学生表\n",
    "left = pd.DataFrame({\n",
    "         'student_id':[1,2,3,4,5,6,7,8,9,10,11,12,13,14,15,16,17,18,19,20],\n",
    "         'student_name': ['Alex', 'Amy', 'Allen', 'Alice', 'Ayoung', 'Billy', 'Brian', 'Bran', 'Bryce', 'Betty', 'Emma', 'Marry', 'Allen', 'Jean', 'Rose', 'David', 'Tom', 'Jack', 'Daniel', 'Andrew'],\n",
    "         'class_id':[1,1,1,2,2,2,3,3,3,4,1,1,1,2,2,2,3,3,3,2], \n",
    "         'gender':['M', 'M', 'F', 'F', 'M', 'M', 'F', 'F', 'M', 'M', 'F', 'F', 'M', 'M', 'F', 'F', 'M', 'M', 'F', 'F'], \n",
    "         'age':[20,21,22,20,21,22,23,20,21,22,20,21,22,23,20,21,22,20,21,22], \n",
    "         'score':[98,74,67,38,65,29,32,34,85,64,52,38,26,89,68,46,32,78,79,87]})\n",
    "#班级表\n",
    "right = pd.DataFrame(\n",
    "         {'class_id':[1,2,3,5],\n",
    "         'class_name': ['ClassA', 'ClassB', 'ClassC', 'ClassE']})\n",
    "# 合并两个DataFrame\n",
    "data = pd.merge(left,right)\n",
    "data"
   ]
  },
  {
   "cell_type": "code",
   "execution_count": null,
   "metadata": {},
   "outputs": [],
   "source": [
    "#使用how参数merge,默认是内连接inner(且一般也是使用内连接)\n",
    "#how='left':左连接：使用左侧对象(表)的键\n",
    "#how='right':右连接：使用右侧对象(表)的键\n",
    "#how='outer':全外连接：使用键的联合\n",
    "#how='inner':内连接：使用键的交集"
   ]
  },
  {
   "cell_type": "code",
   "execution_count": null,
   "metadata": {},
   "outputs": [],
   "source": [
    "pd.merge(left,right,on='class_id',how='left')"
   ]
  },
  {
   "cell_type": "code",
   "execution_count": null,
   "metadata": {},
   "outputs": [],
   "source": [
    "pd.merge(left,right,on='class_id',how='outer')"
   ]
  },
  {
   "cell_type": "code",
   "execution_count": null,
   "metadata": {},
   "outputs": [],
   "source": [
    "pd.merge(left,right,on='class_id',how='inner')"
   ]
  },
  {
   "cell_type": "markdown",
   "metadata": {},
   "source": [
    "## pandas透视表与交叉表"
   ]
  },
  {
   "cell_type": "markdown",
   "metadata": {},
   "source": [
    "透视表的概念可以参考数据库，作用是方便我们拿到原始数据集中的一块数据\n",
    "\n",
    "tips:透视表是各种电子表格程序和其他数据分析软件中一种常见的数据汇总工具，他根据一个或多个键对数据进行分组聚合(比groupby更加灵活)，并根据每个分组进行数据汇总"
   ]
  },
  {
   "cell_type": "code",
   "execution_count": null,
   "metadata": {
    "scrolled": true
   },
   "outputs": [],
   "source": [
    "import pandas as pd \n",
    "\n",
    "#原始数据\n",
    "left = pd.DataFrame({\n",
    "         'student_id':[1,2,3,4,5,6,7,8,9,10,11,12,13,14,15,16,17,18,19,20],\n",
    "         'student_name': ['Alex', 'Amy', 'Allen', 'Alice', 'Ayoung', 'Billy', 'Brian', 'Bran', 'Bryce', 'Betty', 'Emma', 'Marry', 'Allen', 'Jean', 'Rose', 'David', 'Tom', 'Jack', 'Daniel', 'Andrew'],\n",
    "         'class_id':[1,1,1,2,2,2,3,3,3,4,1,1,1,2,2,2,3,3,3,2], \n",
    "         'gender':['M', 'M', 'F', 'F', 'M', 'M', 'F', 'F', 'M', 'M', 'F', 'F', 'M', 'M', 'F', 'F', 'M', 'M', 'F', 'F'], \n",
    "         'age':[20,21,22,20,21,22,23,20,21,22,20,21,22,23,20,21,22,20,21,22], \n",
    "         'score':[98,74,67,38,65,29,32,34,85,64,52,38,26,89,68,46,32,78,79,87]})\n",
    "right = pd.DataFrame(\n",
    "         {'class_id':[1,2,3,5],\n",
    "         'class_name': ['ClassA', 'ClassB', 'ClassC', 'ClassE']})\n",
    "# 合并两个DataFrame\n",
    "df = pd.merge(left,right)\n",
    "df"
   ]
  },
  {
   "cell_type": "code",
   "execution_count": null,
   "metadata": {},
   "outputs": [],
   "source": [
    "#透视表\n",
    "#以class_id与gender做分组汇总数据，默认聚合统计所有列｀\n",
    "a = df.pivot_table(index=['class_id','gender'])\n",
    "print(a)\n",
    "print('*'*45)\n",
    "#根据行级标签访问\n",
    "print(a.loc[1])\n",
    "print('*'*45)\n",
    "print(a.loc[1,'F'])\n",
    "print('*'*20)\n",
    "print(a.loc[1,'F']['age'])\n",
    "#age,score,student_id这三列都为平均值"
   ]
  },
  {
   "cell_type": "code",
   "execution_count": null,
   "metadata": {},
   "outputs": [],
   "source": [
    "#以class_id与gender做分组汇总数据，聚合统计score列\n",
    "print(df.pivot_table(index=['class_id','gender'],values=['score']))"
   ]
  },
  {
   "cell_type": "code",
   "execution_count": null,
   "metadata": {
    "scrolled": true
   },
   "outputs": [],
   "source": [
    "#以class_id与gender做分组汇总数据，聚合统计score列，针对age的每个值列级分组统计\n",
    "print(df.pivot_table(index=['class_id','gender'],values=['score'],columns=['age']))"
   ]
  },
  {
   "cell_type": "code",
   "execution_count": null,
   "metadata": {},
   "outputs": [],
   "source": [
    "#以class__id与gender做分组汇总数据，聚合统计score列，针对age的每个值列级分组统计，添加行，列总计\n",
    "print(data.pivot_table(index=['class_id','gender'],\n",
    "                               values=['score'],\n",
    "                               columns=['age'],\n",
    "                               margins=True))"
   ]
  },
  {
   "cell_type": "code",
   "execution_count": null,
   "metadata": {},
   "outputs": [],
   "source": [
    "#以class_id与gender做分组汇总数据，聚合统计score列，针对age的每个值列级分组统计，添加行，列总计\n",
    "print(df.pivot_table(index=['class_id','gender'],\n",
    "                     values=['score'],\n",
    "                     columns=['age'],\n",
    "                     aggfunc='max',\n",
    "                     margins=True))"
   ]
  },
  {
   "cell_type": "markdown",
   "metadata": {},
   "source": [
    "## 交叉表：用于计算分组频率的特殊透视表"
   ]
  },
  {
   "cell_type": "code",
   "execution_count": null,
   "metadata": {
    "scrolled": true
   },
   "outputs": [],
   "source": [
    "#按照class_id分组，针对不同的gender，统计数量\n",
    "pd.crosstab(df.class_id,df.gender,margins=True)"
   ]
  },
  {
   "cell_type": "markdown",
   "metadata": {},
   "source": [
    "## pandas可视化：基于matplotlib的，得装matplotlib"
   ]
  },
  {
   "cell_type": "code",
   "execution_count": null,
   "metadata": {},
   "outputs": [],
   "source": [
    "import numpy as np\n",
    "import matplotlib.pyplot as mp \n",
    "\n",
    "df = pd.DataFrame(np.random.randn(10,4),index=pd.date_range('2018/12/18',\n",
    "   periods=10), columns=list('ABCD'))\n",
    "df.plot(kind='bar')#kind参数，'bar'柱状图，'hist'直方图，'scatter'散点图\n",
    "mp.show()"
   ]
  },
  {
   "cell_type": "markdown",
   "metadata": {},
   "source": [
    "###### 等等"
   ]
  },
  {
   "cell_type": "markdown",
   "metadata": {},
   "source": [
    "## 数据读取与存储"
   ]
  },
  {
   "cell_type": "markdown",
   "metadata": {},
   "source": [
    "## 布尔索引:根据条件过滤出满足条件的记录"
   ]
  },
  {
   "cell_type": "code",
   "execution_count": null,
   "metadata": {},
   "outputs": [],
   "source": [
    "import pandas as pd\n",
    "import numpy as np\n",
    "#bool索引：根据条件过滤出满足条件的记录\n",
    "df = pandas.DataFrame(np.random.randn(4,4),columns=['A','B','C','D'])\n",
    "df"
   ]
  },
  {
   "cell_type": "code",
   "execution_count": null,
   "metadata": {},
   "outputs": [],
   "source": [
    "df.A > 0"
   ]
  },
  {
   "cell_type": "code",
   "execution_count": null,
   "metadata": {},
   "outputs": [],
   "source": [
    "df[df.A > 0]"
   ]
  },
  {
   "cell_type": "markdown",
   "metadata": {},
   "source": [
    "## pandas常用函数"
   ]
  },
  {
   "cell_type": "code",
   "execution_count": null,
   "metadata": {},
   "outputs": [],
   "source": [
    "#df.query(条件),选取满足条件的行(对象)"
   ]
  },
  {
   "cell_type": "code",
   "execution_count": null,
   "metadata": {},
   "outputs": [],
   "source": [
    "#df.isin(列表)，判断df中数据是否在列表的数据中，若在则返回true\n",
    "#往往和布尔索引结合使用\n",
    "df['E'] = ['a','a,','c','b']\n",
    "df"
   ]
  },
  {
   "cell_type": "code",
   "execution_count": null,
   "metadata": {},
   "outputs": [],
   "source": [
    "df.E.isin(['a','c'])"
   ]
  },
  {
   "cell_type": "code",
   "execution_count": null,
   "metadata": {},
   "outputs": [],
   "source": [
    "df[df.E.isin(['a','c'])]"
   ]
  }
 ],
 "metadata": {
  "kernelspec": {
   "display_name": "Python 3",
   "language": "python",
   "name": "python3"
  },
  "language_info": {
   "codemirror_mode": {
    "name": "ipython",
    "version": 3
   },
   "file_extension": ".py",
   "mimetype": "text/x-python",
   "name": "python",
   "nbconvert_exporter": "python",
   "pygments_lexer": "ipython3",
   "version": "3.6.9"
  }
 },
 "nbformat": 4,
 "nbformat_minor": 2
}
