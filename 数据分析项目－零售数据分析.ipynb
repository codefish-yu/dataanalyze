{
 "cells": [
  {
   "cell_type": "markdown",
   "metadata": {},
   "source": [
    "# 数据分析的流程"
   ]
  },
  {
   "cell_type": "markdown",
   "metadata": {},
   "source": [
    "1.　明确问题：明确分析的真实需求\n",
    "2. 获取数据\n",
    "3. 理解数据\n",
    "4. 数据清洗:一个数据分析项目大部分时间花在数据清洗上\n",
    "5. 数据分析和可视化:对数据进行分析，并且通过可视化展示出结果\n",
    "6. 结论和建议：对结果进行解读，得出有价值的结论并且提出相关建议"
   ]
  },
  {
   "cell_type": "markdown",
   "metadata": {},
   "source": [
    "## １．明确问题(需求)"
   ]
  },
  {
   "cell_type": "markdown",
   "metadata": {},
   "source": [
    "1. 购买商品数前10的国家\n",
    "2. 交易额度前10的国家\n",
    "3. 哪些月份销量最佳\n",
    "4. 客单价是多少\n",
    "5. 用户消费行为分析"
   ]
  },
  {
   "cell_type": "markdown",
   "metadata": {},
   "source": [
    "## 2. 理解数据"
   ]
  },
  {
   "cell_type": "markdown",
   "metadata": {},
   "source": [
    "### 字段理解"
   ]
  },
  {
   "cell_type": "markdown",
   "metadata": {},
   "source": [
    "InvoiceNo:订单编号，每笔交易有6个整数，退货订单编号开头为字母c\n",
    "StockCode:产品编号，由5个整数组成\n",
    "Description:产品描述\n",
    "Quantity:产品数量，负数表示退货\n",
    "InvoiceData:d订单日期和时间\n",
    "UnitPrice:单价(英镑),单位产品的价格\n",
    "CustomerID:客户编号，每个客户编号由5位数字组成\n",
    "Country:国家的名称，每个客户所在国家/地区的名称"
   ]
  },
  {
   "cell_type": "markdown",
   "metadata": {},
   "source": [
    "## 3. 获取数据"
   ]
  },
  {
   "cell_type": "code",
   "execution_count": null,
   "metadata": {},
   "outputs": [],
   "source": [
    "import pandas as pd\n",
    "import matplotlib.pyplot as plt\n",
    "import os\n",
    "import numpy"
   ]
  },
  {
   "cell_type": "code",
   "execution_count": null,
   "metadata": {},
   "outputs": [],
   "source": [
    "#将当前工作路径改成数据存放的路径\n",
    "os.chdir(r'~/dataanalize/')\n",
    "#将数据读进来,dtype指定读进来的数据类型都成为字符串\n",
    "online_data = pd.read_csv('data.csv',\n",
    "                          encoding='utf-8',\n",
    "                          dtype={'CustomerID':str}\n",
    "                         )\n",
    "#用pandas读进来的数据的数据类型是dataframe"
   ]
  },
  {
   "cell_type": "code",
   "execution_count": null,
   "metadata": {},
   "outputs": [],
   "source": [
    "#查看数据的前5行\n",
    "online_data.head(5)"
   ]
  },
  {
   "cell_type": "code",
   "execution_count": null,
   "metadata": {},
   "outputs": [],
   "source": [
    "#查看数据简要信息\n",
    "online_data.info()"
   ]
  },
  {
   "cell_type": "code",
   "execution_count": null,
   "metadata": {},
   "outputs": [],
   "source": [
    "#列索引：InvoiceNo这一列为订单编号，退货订单开头为字母C\n",
    "#列访问可以使用键取值\n",
    "#使用bool掩码的方式将满足条件的数据返回\n",
    "online_data[online_data['InvoiceNo'].str[0] == 'C']"
   ]
  },
  {
   "cell_type": "markdown",
   "metadata": {},
   "source": [
    "## ４. 数据清洗"
   ]
  },
  {
   "cell_type": "code",
   "execution_count": null,
   "metadata": {},
   "outputs": [],
   "source": []
  }
 ],
 "metadata": {
  "kernelspec": {
   "display_name": "Python 3",
   "language": "python",
   "name": "python3"
  },
  "language_info": {
   "codemirror_mode": {
    "name": "ipython",
    "version": 3
   },
   "file_extension": ".py",
   "mimetype": "text/x-python",
   "name": "python",
   "nbconvert_exporter": "python",
   "pygments_lexer": "ipython3",
   "version": "3.6.9"
  }
 },
 "nbformat": 4,
 "nbformat_minor": 2
}
