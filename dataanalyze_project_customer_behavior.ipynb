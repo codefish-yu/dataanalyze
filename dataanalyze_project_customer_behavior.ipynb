{
 "cells": [
  {
   "cell_type": "markdown",
   "metadata": {},
   "source": [
    "字段如下：\n",
    "1. user_id:用户身份\n",
    "2. item_id:商品id\n",
    "3. behavior_type:用户行为类型(包含点击,收藏,加购物车,支付四种行为,分别用数字1234表示)\n",
    "4. user_geohash:地理位置\n",
    "5. item_category:品类id(商品所属的品类)\n",
    "6. time:用户行为发生的时间"
   ]
  },
  {
   "cell_type": "code",
   "execution_count": null,
   "metadata": {},
   "outputs": [],
   "source": []
  }
 ],
 "metadata": {
  "kernelspec": {
   "display_name": "Python 3",
   "language": "python",
   "name": "python3"
  },
  "language_info": {
   "codemirror_mode": {
    "name": "ipython",
    "version": 3
   },
   "file_extension": ".py",
   "mimetype": "text/x-python",
   "name": "python",
   "nbconvert_exporter": "python",
   "pygments_lexer": "ipython3",
   "version": "3.6.9"
  }
 },
 "nbformat": 4,
 "nbformat_minor": 2
}
