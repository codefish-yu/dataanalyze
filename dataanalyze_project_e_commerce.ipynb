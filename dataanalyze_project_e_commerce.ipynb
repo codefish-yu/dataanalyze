{
 "cells": [
  {
   "cell_type": "markdown",
   "metadata": {},
   "source": [
    "## 明确目的"
   ]
  },
  {
   "cell_type": "markdown",
   "metadata": {},
   "source": [
    "RFM模型(衡量客户价值)：对比分析不同用户群体在时间，地区等维度下交易量，交易金额指标，并根据分析结果提出优化建议\n",
    "\n",
    "R:客户最近一次消费时间\n",
    "\n",
    "F:消费的频次(单位时间内消费了多少次)\n",
    "\n",
    "M:消费的金额(单位时间内总消费金额)\n"
   ]
  },
  {
   "cell_type": "code",
   "execution_count": 1,
   "metadata": {},
   "outputs": [],
   "source": [
    "#忽略报警信息\n",
    "import warnings\n",
    "warnings.filterwarnings('ignore')"
   ]
  },
  {
   "cell_type": "code",
   "execution_count": 2,
   "metadata": {},
   "outputs": [],
   "source": [
    "import pandas as pd\n",
    "import numpy as np\n",
    "import os\n",
    "import plotly as py"
   ]
  },
  {
   "cell_type": "code",
   "execution_count": null,
   "metadata": {},
   "outputs": [],
   "source": [
    "#初始化pltly让plotly在notebook中能用\n",
    "py.offline.init_notebook_mode()"
   ]
  },
  {
   "cell_type": "markdown",
   "metadata": {},
   "source": [
    "## 获取数据"
   ]
  },
  {
   "cell_type": "code",
   "execution_count": null,
   "metadata": {},
   "outputs": [],
   "source": [
    "df = pd.read_csv('数据目录')"
   ]
  },
  {
   "cell_type": "code",
   "execution_count": null,
   "metadata": {},
   "outputs": [],
   "source": [
    "df.shape"
   ]
  },
  {
   "cell_type": "code",
   "execution_count": null,
   "metadata": {},
   "outputs": [],
   "source": [
    "df.info"
   ]
  },
  {
   "cell_type": "markdown",
   "metadata": {},
   "source": [
    "## 数据清洗"
   ]
  },
  {
   "cell_type": "code",
   "execution_count": null,
   "metadata": {},
   "outputs": [],
   "source": [
    "#1. 案列统计缺失率\n",
    "df.apply(lambda x: sum(x.isnull()/len(x),axis=0))"
   ]
  },
  {
   "cell_type": "code",
   "execution_count": null,
   "metadata": {},
   "outputs": [],
   "source": [
    "#2. 删除掉不需要的字段列,axis=1表示列的方向进行迭代删除\n",
    "df.drop(['Description'],axis=1,inplace=Ture)"
   ]
  },
  {
   "cell_type": "code",
   "execution_count": null,
   "metadata": {},
   "outputs": [],
   "source": [
    "#3.缺失值处理,将cUSTOMERID这一列的缺失值填充为U\n",
    "df['CustomerID'] = df['CustomerID'].fillna('U')"
   ]
  },
  {
   "cell_type": "code",
   "execution_count": null,
   "metadata": {},
   "outputs": [],
   "source": [
    "#对订单日期进行拆分，增加年月日日期４个字段,以及增加字段：合计购买\n",
    "df['amount'] = df['Quantity'] * df['UnitPrice']"
   ]
  },
  {
   "cell_type": "code",
   "execution_count": null,
   "metadata": {},
   "outputs": [],
   "source": [
    "#对dtype为str的数据，可以进行字符串操作\n",
    "df['dates'] = [x.split(' ')[0] for x in df['InvoiceDate']]"
   ]
  },
  {
   "cell_type": "code",
   "execution_count": null,
   "metadata": {},
   "outputs": [],
   "source": [
    "df['time'] = [x.split(' ')[1] for x in df['InvoiceDate']]"
   ]
  },
  {
   "cell_type": "code",
   "execution_count": null,
   "metadata": {},
   "outputs": [],
   "source": [
    "df[['date','time']]"
   ]
  },
  {
   "cell_type": "code",
   "execution_count": null,
   "metadata": {},
   "outputs": [],
   "source": [
    "df.drop(['InvoiceDate'],axis=1,inplace=True)"
   ]
  },
  {
   "cell_type": "code",
   "execution_count": null,
   "metadata": {},
   "outputs": [],
   "source": [
    "df['year'] = [x.split('/')[2] for x in df['date']]\n",
    "df['month'] = [x.split('/')[0] for x in df['date']]\n",
    "df['day'] = [x.split('/')[1] for x in df['date']]"
   ]
  },
  {
   "cell_type": "code",
   "execution_count": null,
   "metadata": {},
   "outputs": [],
   "source": [
    "#将字符型日期转为datetime64\n",
    "df['date'] = pd.to_datetime(df['date'])"
   ]
  },
  {
   "cell_type": "code",
   "execution_count": null,
   "metadata": {},
   "outputs": [],
   "source": [
    "#删除重复值\n",
    "df = df.drop_duplicates()"
   ]
  },
  {
   "cell_type": "code",
   "execution_count": null,
   "metadata": {},
   "outputs": [],
   "source": [
    "#描述性统计\n",
    "df.describe()"
   ]
  },
  {
   "cell_type": "markdown",
   "metadata": {},
   "source": [
    "## 数据分析"
   ]
  },
  {
   "cell_type": "code",
   "execution_count": null,
   "metadata": {},
   "outputs": [],
   "source": [
    "df1 = df.loc[df['Quantity']<=0]"
   ]
  },
  {
   "cell_type": "code",
   "execution_count": null,
   "metadata": {},
   "outputs": [],
   "source": [
    "df1 = pd.pivot(df1,\n",
    "               index='year',  #以年为行标签\n",
    "               columns='month',#以月为列标签\n",
    "               values='amount',   #对字段amount进行统计\n",
    "              aggfunc={'amount':np.sum},\n",
    "               margins=False    #聚合函数"
   ]
  },
  {
   "cell_type": "markdown",
   "metadata": {},
   "source": [
    "退货率 = 退货金额/合计金额\n",
    "注：退货金额表示为负数"
   ]
  },
  {
   "cell_type": "code",
   "execution_count": null,
   "metadata": {},
   "outputs": [],
   "source": [
    "np.abs(tt/df1)"
   ]
  },
  {
   "cell_type": "markdown",
   "metadata": {},
   "source": [
    "### 分析客户的rfm模型"
   ]
  },
  {
   "cell_type": "markdown",
   "metadata": {},
   "source": [
    "#### R：每个客户最近一次的消费时间"
   ]
  },
  {
   "cell_type": "code",
   "execution_count": null,
   "metadata": {},
   "outputs": [],
   "source": [
    "R_value = df2.groupby('CustomerID')['date'].max()\n",
    "R_value"
   ]
  },
  {
   "cell_type": "code",
   "execution_count": null,
   "metadata": {},
   "outputs": [],
   "source": [
    "R_value.describe()"
   ]
  },
  {
   "cell_type": "code",
   "execution_count": null,
   "metadata": {},
   "outputs": [],
   "source": [
    "#计算距离每个客户最后一天消费的天数\n",
    "#datetime64日期类型支持日期运算\n",
    "#dt.days获取运算后的天数\n",
    "R_Value = (df2['date'].max() - R_value).dt.days"
   ]
  },
  {
   "cell_type": "markdown",
   "metadata": {},
   "source": [
    "#### f:#计算客户的消费频次"
   ]
  },
  {
   "cell_type": "code",
   "execution_count": null,
   "metadata": {},
   "outputs": [],
   "source": [
    "#nunique()返回去重后的定案编号的个数\n",
    "F_value = df.groupby('CustomerID')['InvoiceNo'].nunique()"
   ]
  },
  {
   "cell_type": "markdown",
   "metadata": {},
   "source": [
    "#### M:计算每个客户的消费总金额"
   ]
  },
  {
   "cell_type": "code",
   "execution_count": null,
   "metadata": {},
   "outputs": [],
   "source": [
    "M_value = df2.groupby('CustomerID')['amount'].sum()"
   ]
  },
  {
   "cell_type": "markdown",
   "metadata": {},
   "source": [
    "#### 对用户进行分级(数据离散化)"
   ]
  },
  {
   "cell_type": "code",
   "execution_count": null,
   "metadata": {},
   "outputs": [],
   "source": [
    "#对用户最近次购买的天数进行分段：最近消费30天,90天,180天,360天内的客户\n",
    "R_bins = [0,30,90,180,360,720]\n",
    "#对用户的消费频次进行分段\n",
    "F_bins = [1,2,5,10,20,5000]\n",
    "#对用户的消费总金额进行分段\n",
    "M_bins = [0,500,2000,5000,10000,200000]"
   ]
  },
  {
   "cell_type": "code",
   "execution_count": null,
   "metadata": {},
   "outputs": [],
   "source": [
    "R_score = pd.cut(R_value,R_bins,labels=[5,4,3,2,1],right=False)"
   ]
  },
  {
   "cell_type": "code",
   "execution_count": null,
   "metadata": {},
   "outputs": [],
   "source": [
    "F_score = pd.cut(F_value,F_bins,labels=[1,2,3,4,5],right=False)"
   ]
  },
  {
   "cell_type": "code",
   "execution_count": null,
   "metadata": {},
   "outputs": [],
   "source": [
    "M_score = pd.cut(M_value,M_bins,labels=[1,2,3,4,5],right=False)"
   ]
  },
  {
   "cell_type": "code",
   "execution_count": null,
   "metadata": {},
   "outputs": [],
   "source": [
    "rfm = pd.concat([R_score,F_score,M_score],axis=1)"
   ]
  },
  {
   "cell_type": "code",
   "execution_count": null,
   "metadata": {},
   "outputs": [],
   "source": [
    "#给rfm的列级索引附上标签\n",
    "rfm.rename(columns={'date':'R_score','invoice':'F_score','amount':'M_score'})"
   ]
  },
  {
   "cell_type": "code",
   "execution_count": null,
   "metadata": {},
   "outputs": [],
   "source": [
    "#查看字段的dtype\n",
    "rfm.info()\n",
    "#返现数据类型为category,为了方便计算，需要转为数值型\n",
    "for i in ['R_score','F_core','M_score']:\n",
    "    rfm[i] = rfm[i].astype(float)"
   ]
  },
  {
   "cell_type": "code",
   "execution_count": null,
   "metadata": {},
   "outputs": [],
   "source": [
    "frm.describe()"
   ]
  },
  {
   "cell_type": "code",
   "execution_count": null,
   "metadata": {},
   "outputs": [],
   "source": [
    "#向rfm中添加字段，R_score>3.82的为高价值客户\n",
    "rfm['R'] = np.where(rfm['R_score'>3.82,'高','低'])\n",
    "#F_score>2.03的为高价值客户\n",
    "rfm['F'] = np.where(rfm['R_score']>2.03,'高','低')\n",
    "#M_score>2.03的为高价值客户\n",
    "rfm['M'] = np.where(rfm['M_score']>2.03,'高','低')"
   ]
  },
  {
   "cell_type": "code",
   "execution_count": null,
   "metadata": {},
   "outputs": [],
   "source": [
    "#添加价值变量value\n",
    "rfm['value'] = rfm['R'].str[:] + rfm['F'].str[:] + rfm['M'].str[:]"
   ]
  },
  {
   "cell_type": "code",
   "execution_count": null,
   "metadata": {},
   "outputs": [],
   "source": [
    "rfm['value'] = rfm['value'].str.strip()"
   ]
  },
  {
   "cell_type": "code",
   "execution_count": null,
   "metadata": {},
   "outputs": [],
   "source": [
    "def trans_value(x):\n",
    "    if x == '高高高':\n",
    "        return '重要价值客户'\n",
    "    elif x == '高低高':\n",
    "        return '重要发展客户'\n",
    "    elif x == '低高高':\n",
    "        return '重要保持客户'\n",
    "    elif x == '低低高':\n",
    "        return '重要挽留客户'\n",
    "    elif x == '高高低':   #消费不高\n",
    "        return '一般价值客户'\n",
    "    elif x == '高高低':   \n",
    "        return '一般发展客户'\n",
    "    elif x == '低高低':\n",
    "        return '一般保持客户'\n",
    "    else:\n",
    "        return '一般挽留客户'"
   ]
  },
  {
   "cell_type": "code",
   "execution_count": null,
   "metadata": {},
   "outputs": [],
   "source": [
    "#添加用户等级字段\n",
    "rfm['用户等级'] = rfm['value'].apply(trans_value)"
   ]
  },
  {
   "cell_type": "code",
   "execution_count": null,
   "metadata": {},
   "outputs": [],
   "source": [
    "rfm['用户等级'].value_counts()"
   ]
  },
  {
   "cell_type": "code",
   "execution_count": 1,
   "metadata": {
    "scrolled": true
   },
   "outputs": [
    {
     "ename": "NameError",
     "evalue": "name 'graphic' is not defined",
     "output_type": "error",
     "traceback": [
      "\u001b[0;31m-------------------------------------------------------------------\u001b[0m",
      "\u001b[0;31mNameError\u001b[0m                         Traceback (most recent call last)",
      "\u001b[0;32m<ipython-input-1-e796b8a2a7c3>\u001b[0m in \u001b[0;36m<module>\u001b[0;34m()\u001b[0m\n\u001b[1;32m      1\u001b[0m \u001b[0;31m#使用plotly进行可视化\u001b[0m\u001b[0;34m\u001b[0m\u001b[0;34m\u001b[0m\u001b[0;34m\u001b[0m\u001b[0m\n\u001b[1;32m      2\u001b[0m \u001b[0;32mfrom\u001b[0m \u001b[0mplotly\u001b[0m \u001b[0;32mimport\u001b[0m \u001b[0;34m*\u001b[0m\u001b[0;34m\u001b[0m\u001b[0;34m\u001b[0m\u001b[0m\n\u001b[0;32m----> 3\u001b[0;31m \u001b[0mtrace_basic\u001b[0m \u001b[0;34m=\u001b[0m \u001b[0;34m[\u001b[0m\u001b[0mgraphic\u001b[0m\u001b[0;34m]\u001b[0m\u001b[0;34m\u001b[0m\u001b[0;34m\u001b[0m\u001b[0m\n\u001b[0m",
      "\u001b[0;31mNameError\u001b[0m: name 'graphic' is not defined"
     ]
    }
   ],
   "source": [
    "#使用plotly进行可视化\n",
    "from plotly import *\n",
    "#准备图轨数据\n",
    "trace_basic = [graph_objs.Bar(x=rfm['用户等级'].value_counts().index,\n",
    "                             y=rfm['用户等级'].value_counts().values,\n",
    "                             marker=dict(color='orange'),\n",
    "                             opacity=0.5)]\n",
    "\n",
    "#设置布局\n",
    "layout = graph_objs.Layout(title='用户等级情况',\n",
    "                          xaxis=dict(title='用户重要度'))\n",
    "\n",
    "#将图轨数据和布局集成到一起\n",
    "figure_basic = graph_objs.Figure(data=trace_basic,\n",
    "                                layout=layout)\n",
    "\n",
    "#绘图，绘制客户分类占比饼图"
   ]
  },
  {
   "cell_type": "markdown",
   "metadata": {},
   "source": [
    "#### 结论和建议"
   ]
  },
  {
   "cell_type": "markdown",
   "metadata": {},
   "source": [
    "从产品，渠道，价格，促销四个方面分析找到原因进行改进"
   ]
  },
  {
   "cell_type": "markdown",
   "metadata": {},
   "source": [
    "精准营销：\n",
    "重要价值客户和重要发展客户占客户人群最多\n",
    "重要发展客户，由于最近的购物较少，及时推送公司活动挽回客户\n",
    "其次为一般发展客户和一般挽留客户\n",
    "一般发展客户，获取客户的详细数据用户画像，了解客户的消费需求，及时推送公司活动\n",
    "对于重要保持客户和重要挽留客户，赠送优惠券或推送折扣，增加用户活跃"
   ]
  }
 ],
 "metadata": {
  "kernelspec": {
   "display_name": "Python 3",
   "language": "python",
   "name": "python3"
  },
  "language_info": {
   "codemirror_mode": {
    "name": "ipython",
    "version": 3
   },
   "file_extension": ".py",
   "mimetype": "text/x-python",
   "name": "python",
   "nbconvert_exporter": "python",
   "pygments_lexer": "ipython3",
   "version": "3.6.9"
  }
 },
 "nbformat": 4,
 "nbformat_minor": 2
}
